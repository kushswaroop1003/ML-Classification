{
 "cells": [
  {
   "cell_type": "code",
   "execution_count": 1,
   "id": "5ab0da97",
   "metadata": {},
   "outputs": [],
   "source": [
    "import pandas as pd\n",
    "import numpy as np\n",
    "import matplotlib.pyplot as plt\n",
    "import seaborn as sns\n",
    "import warnings\n",
    "warnings.filterwarnings(\"ignore\")"
   ]
  },
  {
   "cell_type": "code",
   "execution_count": 2,
   "id": "9360699b",
   "metadata": {},
   "outputs": [],
   "source": [
    "dataset = pd.read_csv(\"HR Employee Attrition.csv\")"
   ]
  },
  {
   "cell_type": "code",
   "execution_count": 3,
   "id": "230f2756",
   "metadata": {},
   "outputs": [],
   "source": [
    "pd.pandas.set_option(\"display.max_columns\",None)"
   ]
  },
  {
   "cell_type": "code",
   "execution_count": 4,
   "id": "c4443b08",
   "metadata": {},
   "outputs": [
    {
     "data": {
      "text/html": [
       "<div>\n",
       "<style scoped>\n",
       "    .dataframe tbody tr th:only-of-type {\n",
       "        vertical-align: middle;\n",
       "    }\n",
       "\n",
       "    .dataframe tbody tr th {\n",
       "        vertical-align: top;\n",
       "    }\n",
       "\n",
       "    .dataframe thead th {\n",
       "        text-align: right;\n",
       "    }\n",
       "</style>\n",
       "<table border=\"1\" class=\"dataframe\">\n",
       "  <thead>\n",
       "    <tr style=\"text-align: right;\">\n",
       "      <th></th>\n",
       "      <th>Age</th>\n",
       "      <th>Attrition</th>\n",
       "      <th>BusinessTravel</th>\n",
       "      <th>DailyRate</th>\n",
       "      <th>Department</th>\n",
       "      <th>DistanceFromHome</th>\n",
       "      <th>Education</th>\n",
       "      <th>EducationField</th>\n",
       "      <th>EmployeeCount</th>\n",
       "      <th>EmployeeNumber</th>\n",
       "      <th>EnvironmentSatisfaction</th>\n",
       "      <th>Gender</th>\n",
       "      <th>HourlyRate</th>\n",
       "      <th>JobInvolvement</th>\n",
       "      <th>JobLevel</th>\n",
       "      <th>JobRole</th>\n",
       "      <th>JobSatisfaction</th>\n",
       "      <th>MaritalStatus</th>\n",
       "      <th>MonthlyIncome</th>\n",
       "      <th>MonthlyRate</th>\n",
       "      <th>NumCompaniesWorked</th>\n",
       "      <th>Over18</th>\n",
       "      <th>OverTime</th>\n",
       "      <th>PercentSalaryHike</th>\n",
       "      <th>PerformanceRating</th>\n",
       "      <th>RelationshipSatisfaction</th>\n",
       "      <th>StandardHours</th>\n",
       "      <th>StockOptionLevel</th>\n",
       "      <th>TotalWorkingYears</th>\n",
       "      <th>TrainingTimesLastYear</th>\n",
       "      <th>WorkLifeBalance</th>\n",
       "      <th>YearsAtCompany</th>\n",
       "      <th>YearsInCurrentRole</th>\n",
       "      <th>YearsSinceLastPromotion</th>\n",
       "      <th>YearsWithCurrManager</th>\n",
       "    </tr>\n",
       "  </thead>\n",
       "  <tbody>\n",
       "    <tr>\n",
       "      <th>0</th>\n",
       "      <td>41</td>\n",
       "      <td>Yes</td>\n",
       "      <td>Travel_Rarely</td>\n",
       "      <td>1102</td>\n",
       "      <td>Sales</td>\n",
       "      <td>1</td>\n",
       "      <td>2</td>\n",
       "      <td>Life Sciences</td>\n",
       "      <td>1</td>\n",
       "      <td>1</td>\n",
       "      <td>2</td>\n",
       "      <td>Female</td>\n",
       "      <td>94</td>\n",
       "      <td>3</td>\n",
       "      <td>2</td>\n",
       "      <td>Sales Executive</td>\n",
       "      <td>4</td>\n",
       "      <td>Single</td>\n",
       "      <td>5993</td>\n",
       "      <td>19479</td>\n",
       "      <td>8</td>\n",
       "      <td>Y</td>\n",
       "      <td>Yes</td>\n",
       "      <td>11</td>\n",
       "      <td>3</td>\n",
       "      <td>1</td>\n",
       "      <td>80</td>\n",
       "      <td>0</td>\n",
       "      <td>8</td>\n",
       "      <td>0</td>\n",
       "      <td>1</td>\n",
       "      <td>6</td>\n",
       "      <td>4</td>\n",
       "      <td>0</td>\n",
       "      <td>5</td>\n",
       "    </tr>\n",
       "    <tr>\n",
       "      <th>1</th>\n",
       "      <td>49</td>\n",
       "      <td>No</td>\n",
       "      <td>Travel_Frequently</td>\n",
       "      <td>279</td>\n",
       "      <td>Research &amp; Development</td>\n",
       "      <td>8</td>\n",
       "      <td>1</td>\n",
       "      <td>Life Sciences</td>\n",
       "      <td>1</td>\n",
       "      <td>2</td>\n",
       "      <td>3</td>\n",
       "      <td>Male</td>\n",
       "      <td>61</td>\n",
       "      <td>2</td>\n",
       "      <td>2</td>\n",
       "      <td>Research Scientist</td>\n",
       "      <td>2</td>\n",
       "      <td>Married</td>\n",
       "      <td>5130</td>\n",
       "      <td>24907</td>\n",
       "      <td>1</td>\n",
       "      <td>Y</td>\n",
       "      <td>No</td>\n",
       "      <td>23</td>\n",
       "      <td>4</td>\n",
       "      <td>4</td>\n",
       "      <td>80</td>\n",
       "      <td>1</td>\n",
       "      <td>10</td>\n",
       "      <td>3</td>\n",
       "      <td>3</td>\n",
       "      <td>10</td>\n",
       "      <td>7</td>\n",
       "      <td>1</td>\n",
       "      <td>7</td>\n",
       "    </tr>\n",
       "    <tr>\n",
       "      <th>2</th>\n",
       "      <td>37</td>\n",
       "      <td>Yes</td>\n",
       "      <td>Travel_Rarely</td>\n",
       "      <td>1373</td>\n",
       "      <td>Research &amp; Development</td>\n",
       "      <td>2</td>\n",
       "      <td>2</td>\n",
       "      <td>Other</td>\n",
       "      <td>1</td>\n",
       "      <td>4</td>\n",
       "      <td>4</td>\n",
       "      <td>Male</td>\n",
       "      <td>92</td>\n",
       "      <td>2</td>\n",
       "      <td>1</td>\n",
       "      <td>Laboratory Technician</td>\n",
       "      <td>3</td>\n",
       "      <td>Single</td>\n",
       "      <td>2090</td>\n",
       "      <td>2396</td>\n",
       "      <td>6</td>\n",
       "      <td>Y</td>\n",
       "      <td>Yes</td>\n",
       "      <td>15</td>\n",
       "      <td>3</td>\n",
       "      <td>2</td>\n",
       "      <td>80</td>\n",
       "      <td>0</td>\n",
       "      <td>7</td>\n",
       "      <td>3</td>\n",
       "      <td>3</td>\n",
       "      <td>0</td>\n",
       "      <td>0</td>\n",
       "      <td>0</td>\n",
       "      <td>0</td>\n",
       "    </tr>\n",
       "    <tr>\n",
       "      <th>3</th>\n",
       "      <td>33</td>\n",
       "      <td>No</td>\n",
       "      <td>Travel_Frequently</td>\n",
       "      <td>1392</td>\n",
       "      <td>Research &amp; Development</td>\n",
       "      <td>3</td>\n",
       "      <td>4</td>\n",
       "      <td>Life Sciences</td>\n",
       "      <td>1</td>\n",
       "      <td>5</td>\n",
       "      <td>4</td>\n",
       "      <td>Female</td>\n",
       "      <td>56</td>\n",
       "      <td>3</td>\n",
       "      <td>1</td>\n",
       "      <td>Research Scientist</td>\n",
       "      <td>3</td>\n",
       "      <td>Married</td>\n",
       "      <td>2909</td>\n",
       "      <td>23159</td>\n",
       "      <td>1</td>\n",
       "      <td>Y</td>\n",
       "      <td>Yes</td>\n",
       "      <td>11</td>\n",
       "      <td>3</td>\n",
       "      <td>3</td>\n",
       "      <td>80</td>\n",
       "      <td>0</td>\n",
       "      <td>8</td>\n",
       "      <td>3</td>\n",
       "      <td>3</td>\n",
       "      <td>8</td>\n",
       "      <td>7</td>\n",
       "      <td>3</td>\n",
       "      <td>0</td>\n",
       "    </tr>\n",
       "    <tr>\n",
       "      <th>4</th>\n",
       "      <td>27</td>\n",
       "      <td>No</td>\n",
       "      <td>Travel_Rarely</td>\n",
       "      <td>591</td>\n",
       "      <td>Research &amp; Development</td>\n",
       "      <td>2</td>\n",
       "      <td>1</td>\n",
       "      <td>Medical</td>\n",
       "      <td>1</td>\n",
       "      <td>7</td>\n",
       "      <td>1</td>\n",
       "      <td>Male</td>\n",
       "      <td>40</td>\n",
       "      <td>3</td>\n",
       "      <td>1</td>\n",
       "      <td>Laboratory Technician</td>\n",
       "      <td>2</td>\n",
       "      <td>Married</td>\n",
       "      <td>3468</td>\n",
       "      <td>16632</td>\n",
       "      <td>9</td>\n",
       "      <td>Y</td>\n",
       "      <td>No</td>\n",
       "      <td>12</td>\n",
       "      <td>3</td>\n",
       "      <td>4</td>\n",
       "      <td>80</td>\n",
       "      <td>1</td>\n",
       "      <td>6</td>\n",
       "      <td>3</td>\n",
       "      <td>3</td>\n",
       "      <td>2</td>\n",
       "      <td>2</td>\n",
       "      <td>2</td>\n",
       "      <td>2</td>\n",
       "    </tr>\n",
       "  </tbody>\n",
       "</table>\n",
       "</div>"
      ],
      "text/plain": [
       "   Age Attrition     BusinessTravel  DailyRate              Department  \\\n",
       "0   41       Yes      Travel_Rarely       1102                   Sales   \n",
       "1   49        No  Travel_Frequently        279  Research & Development   \n",
       "2   37       Yes      Travel_Rarely       1373  Research & Development   \n",
       "3   33        No  Travel_Frequently       1392  Research & Development   \n",
       "4   27        No      Travel_Rarely        591  Research & Development   \n",
       "\n",
       "   DistanceFromHome  Education EducationField  EmployeeCount  EmployeeNumber  \\\n",
       "0                 1          2  Life Sciences              1               1   \n",
       "1                 8          1  Life Sciences              1               2   \n",
       "2                 2          2          Other              1               4   \n",
       "3                 3          4  Life Sciences              1               5   \n",
       "4                 2          1        Medical              1               7   \n",
       "\n",
       "   EnvironmentSatisfaction  Gender  HourlyRate  JobInvolvement  JobLevel  \\\n",
       "0                        2  Female          94               3         2   \n",
       "1                        3    Male          61               2         2   \n",
       "2                        4    Male          92               2         1   \n",
       "3                        4  Female          56               3         1   \n",
       "4                        1    Male          40               3         1   \n",
       "\n",
       "                 JobRole  JobSatisfaction MaritalStatus  MonthlyIncome  \\\n",
       "0        Sales Executive                4        Single           5993   \n",
       "1     Research Scientist                2       Married           5130   \n",
       "2  Laboratory Technician                3        Single           2090   \n",
       "3     Research Scientist                3       Married           2909   \n",
       "4  Laboratory Technician                2       Married           3468   \n",
       "\n",
       "   MonthlyRate  NumCompaniesWorked Over18 OverTime  PercentSalaryHike  \\\n",
       "0        19479                   8      Y      Yes                 11   \n",
       "1        24907                   1      Y       No                 23   \n",
       "2         2396                   6      Y      Yes                 15   \n",
       "3        23159                   1      Y      Yes                 11   \n",
       "4        16632                   9      Y       No                 12   \n",
       "\n",
       "   PerformanceRating  RelationshipSatisfaction  StandardHours  \\\n",
       "0                  3                         1             80   \n",
       "1                  4                         4             80   \n",
       "2                  3                         2             80   \n",
       "3                  3                         3             80   \n",
       "4                  3                         4             80   \n",
       "\n",
       "   StockOptionLevel  TotalWorkingYears  TrainingTimesLastYear  \\\n",
       "0                 0                  8                      0   \n",
       "1                 1                 10                      3   \n",
       "2                 0                  7                      3   \n",
       "3                 0                  8                      3   \n",
       "4                 1                  6                      3   \n",
       "\n",
       "   WorkLifeBalance  YearsAtCompany  YearsInCurrentRole  \\\n",
       "0                1               6                   4   \n",
       "1                3              10                   7   \n",
       "2                3               0                   0   \n",
       "3                3               8                   7   \n",
       "4                3               2                   2   \n",
       "\n",
       "   YearsSinceLastPromotion  YearsWithCurrManager  \n",
       "0                        0                     5  \n",
       "1                        1                     7  \n",
       "2                        0                     0  \n",
       "3                        3                     0  \n",
       "4                        2                     2  "
      ]
     },
     "execution_count": 4,
     "metadata": {},
     "output_type": "execute_result"
    }
   ],
   "source": [
    "dataset.head()"
   ]
  },
  {
   "cell_type": "code",
   "execution_count": 5,
   "id": "903f01da",
   "metadata": {},
   "outputs": [
    {
     "data": {
      "text/plain": [
       "(1470, 35)"
      ]
     },
     "execution_count": 5,
     "metadata": {},
     "output_type": "execute_result"
    }
   ],
   "source": [
    "dataset.shape"
   ]
  },
  {
   "cell_type": "markdown",
   "id": "589f6a03",
   "metadata": {},
   "source": [
    "# Pre-Processing "
   ]
  },
  {
   "cell_type": "code",
   "execution_count": 6,
   "id": "de76529b",
   "metadata": {},
   "outputs": [],
   "source": [
    "#Step-1: Identifying Null values"
   ]
  },
  {
   "cell_type": "code",
   "execution_count": 7,
   "id": "32dca422",
   "metadata": {},
   "outputs": [],
   "source": [
    "Null_Values = [feature for feature in dataset.columns if dataset[feature].isnull().sum()]\n",
    "\n",
    "for feature in Null_Values:\n",
    "    if feature >=0:\n",
    "        print(feature,np.round(dataset[feature].isnull().sum().mean,2),\"% Missing Values\")\n",
    "    else:\n",
    "        print(\"No Null data\")"
   ]
  },
  {
   "cell_type": "code",
   "execution_count": 8,
   "id": "13c2108c",
   "metadata": {},
   "outputs": [],
   "source": [
    "# How to use else statement in scenarios like above"
   ]
  },
  {
   "cell_type": "code",
   "execution_count": 9,
   "id": "f3e704aa",
   "metadata": {},
   "outputs": [
    {
     "data": {
      "text/plain": [
       "Age                         0\n",
       "Attrition                   0\n",
       "BusinessTravel              0\n",
       "DailyRate                   0\n",
       "Department                  0\n",
       "DistanceFromHome            0\n",
       "Education                   0\n",
       "EducationField              0\n",
       "EmployeeCount               0\n",
       "EmployeeNumber              0\n",
       "EnvironmentSatisfaction     0\n",
       "Gender                      0\n",
       "HourlyRate                  0\n",
       "JobInvolvement              0\n",
       "JobLevel                    0\n",
       "JobRole                     0\n",
       "JobSatisfaction             0\n",
       "MaritalStatus               0\n",
       "MonthlyIncome               0\n",
       "MonthlyRate                 0\n",
       "NumCompaniesWorked          0\n",
       "Over18                      0\n",
       "OverTime                    0\n",
       "PercentSalaryHike           0\n",
       "PerformanceRating           0\n",
       "RelationshipSatisfaction    0\n",
       "StandardHours               0\n",
       "StockOptionLevel            0\n",
       "TotalWorkingYears           0\n",
       "TrainingTimesLastYear       0\n",
       "WorkLifeBalance             0\n",
       "YearsAtCompany              0\n",
       "YearsInCurrentRole          0\n",
       "YearsSinceLastPromotion     0\n",
       "YearsWithCurrManager        0\n",
       "dtype: int64"
      ]
     },
     "execution_count": 9,
     "metadata": {},
     "output_type": "execute_result"
    }
   ],
   "source": [
    "dataset.isnull().sum()"
   ]
  },
  {
   "cell_type": "code",
   "execution_count": 10,
   "id": "21c8047d",
   "metadata": {},
   "outputs": [],
   "source": [
    "#No Null data"
   ]
  },
  {
   "cell_type": "code",
   "execution_count": 11,
   "id": "6bf9cad3",
   "metadata": {},
   "outputs": [
    {
     "data": {
      "text/plain": [
       "Index(['Age', 'Attrition', 'BusinessTravel', 'DailyRate', 'Department',\n",
       "       'DistanceFromHome', 'Education', 'EducationField', 'EmployeeCount',\n",
       "       'EmployeeNumber', 'EnvironmentSatisfaction', 'Gender', 'HourlyRate',\n",
       "       'JobInvolvement', 'JobLevel', 'JobRole', 'JobSatisfaction',\n",
       "       'MaritalStatus', 'MonthlyIncome', 'MonthlyRate', 'NumCompaniesWorked',\n",
       "       'Over18', 'OverTime', 'PercentSalaryHike', 'PerformanceRating',\n",
       "       'RelationshipSatisfaction', 'StandardHours', 'StockOptionLevel',\n",
       "       'TotalWorkingYears', 'TrainingTimesLastYear', 'WorkLifeBalance',\n",
       "       'YearsAtCompany', 'YearsInCurrentRole', 'YearsSinceLastPromotion',\n",
       "       'YearsWithCurrManager'],\n",
       "      dtype='object')"
      ]
     },
     "execution_count": 11,
     "metadata": {},
     "output_type": "execute_result"
    }
   ],
   "source": [
    "dataset.columns"
   ]
  },
  {
   "cell_type": "code",
   "execution_count": 12,
   "id": "89cb94fa",
   "metadata": {},
   "outputs": [
    {
     "data": {
      "text/plain": [
       "Age                           43\n",
       "Attrition                      2\n",
       "BusinessTravel                 3\n",
       "DailyRate                    886\n",
       "Department                     3\n",
       "DistanceFromHome              29\n",
       "Education                      5\n",
       "EducationField                 6\n",
       "EmployeeCount                  1\n",
       "EmployeeNumber              1470\n",
       "EnvironmentSatisfaction        4\n",
       "Gender                         2\n",
       "HourlyRate                    71\n",
       "JobInvolvement                 4\n",
       "JobLevel                       5\n",
       "JobRole                        9\n",
       "JobSatisfaction                4\n",
       "MaritalStatus                  3\n",
       "MonthlyIncome               1349\n",
       "MonthlyRate                 1427\n",
       "NumCompaniesWorked            10\n",
       "Over18                         1\n",
       "OverTime                       2\n",
       "PercentSalaryHike             15\n",
       "PerformanceRating              2\n",
       "RelationshipSatisfaction       4\n",
       "StandardHours                  1\n",
       "StockOptionLevel               4\n",
       "TotalWorkingYears             40\n",
       "TrainingTimesLastYear          7\n",
       "WorkLifeBalance                4\n",
       "YearsAtCompany                37\n",
       "YearsInCurrentRole            19\n",
       "YearsSinceLastPromotion       16\n",
       "YearsWithCurrManager          18\n",
       "dtype: int64"
      ]
     },
     "execution_count": 12,
     "metadata": {},
     "output_type": "execute_result"
    }
   ],
   "source": [
    "dataset.nunique()"
   ]
  },
  {
   "cell_type": "code",
   "execution_count": 13,
   "id": "997d63eb",
   "metadata": {},
   "outputs": [],
   "source": [
    "dataset = dataset.drop([\"EmployeeCount\",'EmployeeNumber'],axis = 1)"
   ]
  },
  {
   "cell_type": "code",
   "execution_count": 14,
   "id": "585801f1",
   "metadata": {},
   "outputs": [],
   "source": [
    "dataset = dataset.drop([\"Over18\",'StandardHours'],axis = 1)"
   ]
  },
  {
   "cell_type": "code",
   "execution_count": 15,
   "id": "25874fbb",
   "metadata": {},
   "outputs": [
    {
     "data": {
      "text/plain": [
       "(1470, 31)"
      ]
     },
     "execution_count": 15,
     "metadata": {},
     "output_type": "execute_result"
    }
   ],
   "source": [
    "dataset.shape"
   ]
  },
  {
   "cell_type": "markdown",
   "id": "988f6406",
   "metadata": {},
   "source": [
    "# Numerical Features"
   ]
  },
  {
   "cell_type": "code",
   "execution_count": 16,
   "id": "77b90585",
   "metadata": {},
   "outputs": [
    {
     "name": "stdout",
     "output_type": "stream",
     "text": [
      "Number of Numerical Features: 23\n"
     ]
    }
   ],
   "source": [
    "Numerical_feature = [feature for feature in dataset.columns if dataset[feature].dtype!= \"O\"]\n",
    "\n",
    "print(\"Number of Numerical Features:\",len(Numerical_feature))"
   ]
  },
  {
   "cell_type": "markdown",
   "id": "a6b10670",
   "metadata": {},
   "source": [
    "# Categorical Features"
   ]
  },
  {
   "cell_type": "code",
   "execution_count": 17,
   "id": "0ab88758",
   "metadata": {},
   "outputs": [
    {
     "name": "stdout",
     "output_type": "stream",
     "text": [
      "Number of Categorical Features: 8\n"
     ]
    }
   ],
   "source": [
    "Categorical_feature = [feature for feature in dataset.columns if dataset[feature].dtype == \"O\"]\n",
    "\n",
    "print(\"Number of Categorical Features:\",len(Categorical_feature))"
   ]
  },
  {
   "cell_type": "markdown",
   "id": "1a7abc8b",
   "metadata": {},
   "source": [
    "# Time Features"
   ]
  },
  {
   "cell_type": "code",
   "execution_count": 18,
   "id": "13ead266",
   "metadata": {},
   "outputs": [
    {
     "name": "stdout",
     "output_type": "stream",
     "text": [
      "['TotalWorkingYears', 'TrainingTimesLastYear', 'YearsAtCompany', 'YearsInCurrentRole', 'YearsSinceLastPromotion', 'YearsWithCurrManager']\n"
     ]
    }
   ],
   "source": [
    "year_feature = [feature for feature in Numerical_feature if \"Yr\" in feature or \"Year\" in feature]\n",
    "\n",
    "print(year_feature)"
   ]
  },
  {
   "cell_type": "code",
   "execution_count": 19,
   "id": "a69ce204",
   "metadata": {},
   "outputs": [
    {
     "data": {
      "text/plain": [
       "['Attrition',\n",
       " 'BusinessTravel',\n",
       " 'Department',\n",
       " 'EducationField',\n",
       " 'Gender',\n",
       " 'JobRole',\n",
       " 'MaritalStatus',\n",
       " 'OverTime']"
      ]
     },
     "execution_count": 19,
     "metadata": {},
     "output_type": "execute_result"
    }
   ],
   "source": [
    "Categorical_feature"
   ]
  },
  {
   "cell_type": "code",
   "execution_count": 20,
   "id": "c2066c0a",
   "metadata": {},
   "outputs": [
    {
     "name": "stdout",
     "output_type": "stream",
     "text": [
      "Number of unique features are : 10\n"
     ]
    }
   ],
   "source": [
    "discrete_feature = [feature for feature in Numerical_feature if (len(dataset[feature].unique())<10)]\n",
    "\n",
    "print(\"Number of unique features are : {}\".format(len(discrete_feature)))"
   ]
  },
  {
   "cell_type": "code",
   "execution_count": 21,
   "id": "042dccf4",
   "metadata": {},
   "outputs": [
    {
     "data": {
      "text/plain": [
       "['Education',\n",
       " 'EnvironmentSatisfaction',\n",
       " 'JobInvolvement',\n",
       " 'JobLevel',\n",
       " 'JobSatisfaction',\n",
       " 'PerformanceRating',\n",
       " 'RelationshipSatisfaction',\n",
       " 'StockOptionLevel',\n",
       " 'TrainingTimesLastYear',\n",
       " 'WorkLifeBalance']"
      ]
     },
     "execution_count": 21,
     "metadata": {},
     "output_type": "execute_result"
    }
   ],
   "source": [
    "discrete_feature"
   ]
  },
  {
   "cell_type": "code",
   "execution_count": 22,
   "id": "03223aaf",
   "metadata": {},
   "outputs": [
    {
     "name": "stdout",
     "output_type": "stream",
     "text": [
      "No of continuous feature are : 13\n"
     ]
    }
   ],
   "source": [
    "continuous_feature = [feature for feature in Numerical_feature if feature not in discrete_feature ]\n",
    "print(\"No of continuous feature are : {}\".format(len(continuous_feature)))"
   ]
  },
  {
   "cell_type": "code",
   "execution_count": 23,
   "id": "ab2b98da",
   "metadata": {},
   "outputs": [
    {
     "data": {
      "text/plain": [
       "Age                           43\n",
       "Attrition                      2\n",
       "BusinessTravel                 3\n",
       "DailyRate                    886\n",
       "Department                     3\n",
       "DistanceFromHome              29\n",
       "Education                      5\n",
       "EducationField                 6\n",
       "EnvironmentSatisfaction        4\n",
       "Gender                         2\n",
       "HourlyRate                    71\n",
       "JobInvolvement                 4\n",
       "JobLevel                       5\n",
       "JobRole                        9\n",
       "JobSatisfaction                4\n",
       "MaritalStatus                  3\n",
       "MonthlyIncome               1349\n",
       "MonthlyRate                 1427\n",
       "NumCompaniesWorked            10\n",
       "OverTime                       2\n",
       "PercentSalaryHike             15\n",
       "PerformanceRating              2\n",
       "RelationshipSatisfaction       4\n",
       "StockOptionLevel               4\n",
       "TotalWorkingYears             40\n",
       "TrainingTimesLastYear          7\n",
       "WorkLifeBalance                4\n",
       "YearsAtCompany                37\n",
       "YearsInCurrentRole            19\n",
       "YearsSinceLastPromotion       16\n",
       "YearsWithCurrManager          18\n",
       "dtype: int64"
      ]
     },
     "execution_count": 23,
     "metadata": {},
     "output_type": "execute_result"
    }
   ],
   "source": [
    "dataset.nunique()"
   ]
  },
  {
   "cell_type": "code",
   "execution_count": 24,
   "id": "e104afd6",
   "metadata": {},
   "outputs": [
    {
     "data": {
      "text/plain": [
       "array(['Female', 'Male'], dtype=object)"
      ]
     },
     "execution_count": 24,
     "metadata": {},
     "output_type": "execute_result"
    }
   ],
   "source": [
    "dataset[\"Gender\"].unique()"
   ]
  },
  {
   "cell_type": "code",
   "execution_count": 25,
   "id": "a2863d71",
   "metadata": {},
   "outputs": [
    {
     "data": {
      "text/plain": [
       "<AxesSubplot:xlabel='YearsInCurrentRole', ylabel='YearsAtCompany'>"
      ]
     },
     "execution_count": 25,
     "metadata": {},
     "output_type": "execute_result"
    },
    {
     "data": {
      "image/png": "[encoded data removed]",
      "text/plain": [
       "<Figure size 432x288 with 1 Axes>"
      ]
     },
     "metadata": {
      "needs_background": "light"
     },
     "output_type": "display_data"
    }
   ],
   "source": [
    "sns.scatterplot(y = 'YearsAtCompany', x = \"YearsInCurrentRole\", data = dataset,hue = \"Attrition\" , palette = \"crest\")"
   ]
  },
  {
   "cell_type": "code",
   "execution_count": 26,
   "id": "493d430f",
   "metadata": {},
   "outputs": [
    {
     "data": {
      "text/plain": [
       "<AxesSubplot:xlabel='Gender', ylabel='count'>"
      ]
     },
     "execution_count": 26,
     "metadata": {},
     "output_type": "execute_result"
    },
    {
     "data": {
      "image/png": "[encoded data removed]",
      "text/plain": [
       "<Figure size 432x288 with 1 Axes>"
      ]
     },
     "metadata": {},
     "output_type": "display_data"
    }
   ],
   "source": [
    "sns.set_style(\"darkgrid\")\n",
    "sns.countplot(x= \"Gender\", data = dataset, hue = \"Attrition\", palette = \"mako\")"
   ]
  },
  {
   "cell_type": "code",
   "execution_count": 27,
   "id": "391fab80",
   "metadata": {},
   "outputs": [
    {
     "data": {
      "text/plain": [
       "<AxesSubplot:xlabel='JobSatisfaction', ylabel='count'>"
      ]
     },
     "execution_count": 27,
     "metadata": {},
     "output_type": "execute_result"
    },
    {
     "data": {
      "image/png": "[encoded data removed]",
      "text/plain": [
       "<Figure size 432x288 with 1 Axes>"
      ]
     },
     "metadata": {},
     "output_type": "display_data"
    }
   ],
   "source": [
    "sns.set_style(\"whitegrid\")\n",
    "sns.countplot(x= \"JobSatisfaction\", data = dataset, hue = \"Attrition\",palette = \"rainbow\")"
   ]
  },
  {
   "cell_type": "code",
   "execution_count": 28,
   "id": "548861a3",
   "metadata": {},
   "outputs": [
    {
     "data": {
      "text/plain": [
       "<AxesSubplot:xlabel='Department', ylabel='count'>"
      ]
     },
     "execution_count": 28,
     "metadata": {},
     "output_type": "execute_result"
    },
    {
     "data": {
      "image/png": "[encoded data removed]",
      "text/plain": [
       "<Figure size 432x288 with 1 Axes>"
      ]
     },
     "metadata": {},
     "output_type": "display_data"
    }
   ],
   "source": [
    "sns.countplot(x = \"Department\", hue = \"Attrition\", data = dataset)"
   ]
  },
  {
   "cell_type": "code",
   "execution_count": 29,
   "id": "bd4ef494",
   "metadata": {},
   "outputs": [
    {
     "data": {
      "text/plain": [
       "<AxesSubplot:xlabel='MonthlyIncome', ylabel='Attrition'>"
      ]
     },
     "execution_count": 29,
     "metadata": {},
     "output_type": "execute_result"
    },
    {
     "data": {
      "image/png": "[encoded data removed]",
      "text/plain": [
       "<Figure size 432x288 with 1 Axes>"
      ]
     },
     "metadata": {},
     "output_type": "display_data"
    }
   ],
   "source": [
    "sns.barplot(x = \"MonthlyIncome\", y = \"Attrition\", data = dataset)"
   ]
  },
  {
   "cell_type": "code",
   "execution_count": 30,
   "id": "d756a800",
   "metadata": {},
   "outputs": [
    {
     "data": {
      "text/plain": [
       "<AxesSubplot:xlabel='EducationField', ylabel='Department'>"
      ]
     },
     "execution_count": 30,
     "metadata": {},
     "output_type": "execute_result"
    },
    {
     "data": {
      "image/png": "[encoded data removed]",
      "text/plain": [
       "<Figure size 432x288 with 1 Axes>"
      ]
     },
     "metadata": {},
     "output_type": "display_data"
    }
   ],
   "source": [
    "sns.scatterplot(x = \"EducationField\", y = \"Department\", data = dataset, hue = \"Attrition\")"
   ]
  },
  {
   "cell_type": "code",
   "execution_count": 31,
   "id": "210ab7da",
   "metadata": {},
   "outputs": [
    {
     "data": {
      "text/plain": [
       "<seaborn.axisgrid.FacetGrid at 0x187d52e2100>"
      ]
     },
     "execution_count": 31,
     "metadata": {},
     "output_type": "execute_result"
    },
    {
     "data": {
      "image/png": "[encoded data removed]",
      "text/plain": [
       "<Figure size 360x360 with 1 Axes>"
      ]
     },
     "metadata": {},
     "output_type": "display_data"
    }
   ],
   "source": [
    "sns.catplot(x = \"HourlyRate\", kind = \"box\", data = dataset)"
   ]
  },
  {
   "cell_type": "code",
   "execution_count": 32,
   "id": "b7352d25",
   "metadata": {},
   "outputs": [
    {
     "data": {
      "text/plain": [
       "['Age',\n",
       " 'DailyRate',\n",
       " 'DistanceFromHome',\n",
       " 'HourlyRate',\n",
       " 'MonthlyIncome',\n",
       " 'MonthlyRate',\n",
       " 'NumCompaniesWorked',\n",
       " 'PercentSalaryHike',\n",
       " 'TotalWorkingYears',\n",
       " 'YearsAtCompany',\n",
       " 'YearsInCurrentRole',\n",
       " 'YearsSinceLastPromotion',\n",
       " 'YearsWithCurrManager']"
      ]
     },
     "execution_count": 32,
     "metadata": {},
     "output_type": "execute_result"
    }
   ],
   "source": [
    "continuous_feature"
   ]
  },
  {
   "cell_type": "code",
   "execution_count": 33,
   "id": "3288fc7a",
   "metadata": {},
   "outputs": [
    {
     "data": {
      "image/png": "[encoded data removed]",
      "text/plain": [
       "<Figure size 432x288 with 1 Axes>"
      ]
     },
     "metadata": {},
     "output_type": "display_data"
    },
    {
     "data": {
      "image/png": "[encoded data removed]",
      "text/plain": [
       "<Figure size 432x288 with 1 Axes>"
      ]
     },
     "metadata": {},
     "output_type": "display_data"
    },
    {
     "data": {
      "image/png": "[encoded data removed]",
      "text/plain": [
       "<Figure size 432x288 with 1 Axes>"
      ]
     },
     "metadata": {},
     "output_type": "display_data"
    },
    {
     "data": {
      "image/png": "[encoded data removed]",
      "text/plain": [
       "<Figure size 432x288 with 1 Axes>"
      ]
     },
     "metadata": {},
     "output_type": "display_data"
    },
    {
     "data": {
      "image/png": "[encoded data removed]",
      "text/plain": [
       "<Figure size 432x288 with 1 Axes>"
      ]
     },
     "metadata": {},
     "output_type": "display_data"
    },
    {
     "data": {
      "image/png": "[encoded data removed]",
      "text/plain": [
       "<Figure size 432x288 with 1 Axes>"
      ]
     },
     "metadata": {},
     "output_type": "display_data"
    },
    {
     "data": {
      "image/png": "[encoded data removed]",
      "text/plain": [
       "<Figure size 432x288 with 1 Axes>"
      ]
     },
     "metadata": {},
     "output_type": "display_data"
    },
    {
     "data": {
      "image/png": "[encoded data removed]",
      "text/plain": [
       "<Figure size 432x288 with 1 Axes>"
      ]
     },
     "metadata": {},
     "output_type": "display_data"
    },
    {
     "data": {
      "image/png": "[encoded data removed]",
      "text/plain": [
       "<Figure size 432x288 with 1 Axes>"
      ]
     },
     "metadata": {},
     "output_type": "display_data"
    },
    {
     "data": {
      "image/png": "[encoded data removed]",
      "text/plain": [
       "<Figure size 432x288 with 1 Axes>"
      ]
     },
     "metadata": {},
     "output_type": "display_data"
    },
    {
     "data": {
      "image/png": "[encoded data removed]",
      "text/plain": [
       "<Figure size 432x288 with 1 Axes>"
      ]
     },
     "metadata": {},
     "output_type": "display_data"
    },
    {
     "data": {
      "image/png": "[encoded data removed]",
      "text/plain": [
       "<Figure size 432x288 with 1 Axes>"
      ]
     },
     "metadata": {},
     "output_type": "display_data"
    },
    {
     "data": {
      "image/png": "[encoded data removed]",
      "text/plain": [
       "<Figure size 432x288 with 1 Axes>"
      ]
     },
     "metadata": {},
     "output_type": "display_data"
    }
   ],
   "source": [
    "for feature in continuous_feature:\n",
    "    data = dataset.copy()\n",
    "    data[feature].hist(bins=25)\n",
    "    plt.xlabel(feature)\n",
    "    plt.ylabel(\"Count\")\n",
    "    plt.title(feature)\n",
    "    plt.show()"
   ]
  },
  {
   "cell_type": "code",
   "execution_count": 33,
   "id": "a6aa767a",
   "metadata": {},
   "outputs": [],
   "source": [
    "outliers = []\n",
    "def outlier(dataset):\n",
    "    threshold = 3\n",
    "    mean = np.mean(dataset)\n",
    "    std = np.std(dataset)\n",
    "    \n",
    "    for i in dataset:\n",
    "        z_score = (i-mean)/std\n",
    "        if np.abs(z_score)>threshold:\n",
    "            outliers.append(i)\n",
    "        return outliers"
   ]
  },
  {
   "cell_type": "code",
   "execution_count": 38,
   "id": "cc5d46fd",
   "metadata": {},
   "outputs": [
    {
     "ename": "NameError",
     "evalue": "name 'Numerical_Features' is not defined",
     "output_type": "error",
     "traceback": [
      "\u001b[1;31m---------------------------------------------------------------------------\u001b[0m",
      "\u001b[1;31mNameError\u001b[0m                                 Traceback (most recent call last)",
      "\u001b[1;32m~\\AppData\\Local\\Temp/ipykernel_17004/504132118.py\u001b[0m in \u001b[0;36m<module>\u001b[1;34m\u001b[0m\n\u001b[0;32m      1\u001b[0m \u001b[0mol\u001b[0m \u001b[1;33m=\u001b[0m \u001b[1;33m[\u001b[0m\u001b[1;33m]\u001b[0m\u001b[1;33m\u001b[0m\u001b[1;33m\u001b[0m\u001b[0m\n\u001b[0;32m      2\u001b[0m \u001b[1;33m\u001b[0m\u001b[0m\n\u001b[1;32m----> 3\u001b[1;33m \u001b[1;32mfor\u001b[0m \u001b[0mi\u001b[0m \u001b[1;32min\u001b[0m \u001b[0mrange\u001b[0m\u001b[1;33m(\u001b[0m\u001b[0mlen\u001b[0m\u001b[1;33m(\u001b[0m\u001b[0mNumerical_Features\u001b[0m\u001b[1;33m)\u001b[0m\u001b[1;33m)\u001b[0m\u001b[1;33m:\u001b[0m\u001b[1;33m\u001b[0m\u001b[1;33m\u001b[0m\u001b[0m\n\u001b[0m\u001b[0;32m      4\u001b[0m     \u001b[1;32mif\u001b[0m \u001b[0mNumerical_features\u001b[0m\u001b[1;33m[\u001b[0m\u001b[0mi\u001b[0m\u001b[1;33m]\u001b[0m\u001b[1;33m>\u001b[0m\u001b[1;36m3\u001b[0m\u001b[1;33m:\u001b[0m\u001b[1;33m\u001b[0m\u001b[1;33m\u001b[0m\u001b[0m\n\u001b[0;32m      5\u001b[0m         \u001b[0mol\u001b[0m\u001b[1;33m.\u001b[0m\u001b[0mappend\u001b[0m\u001b[1;33m(\u001b[0m\u001b[0mi\u001b[0m\u001b[1;33m)\u001b[0m\u001b[1;33m\u001b[0m\u001b[1;33m\u001b[0m\u001b[0m\n",
      "\u001b[1;31mNameError\u001b[0m: name 'Numerical_Features' is not defined"
     ]
    }
   ],
   "source": []
  },
  {
   "cell_type": "code",
   "execution_count": 34,
   "id": "35ac22a8",
   "metadata": {},
   "outputs": [
    {
     "data": {
      "text/plain": [
       "[]"
      ]
     },
     "execution_count": 34,
     "metadata": {},
     "output_type": "execute_result"
    }
   ],
   "source": [
    "outliers"
   ]
  },
  {
   "cell_type": "code",
   "execution_count": 35,
   "id": "d5ffb27a",
   "metadata": {},
   "outputs": [],
   "source": [
    "outliers = []\n",
    "def outlier(Numerical_feature):\n",
    "    threshold = 3\n",
    "    mean = np.mean(Numerical_feature)\n",
    "    std = np.std(Numerical_feature)\n",
    "    \n",
    "    for i in Numerical_feature:\n",
    "        z_score = (i-mean)/std\n",
    "        if np.abs(z_score)>threshold:\n",
    "            outliers.append(i)\n",
    "        return outliers"
   ]
  },
  {
   "cell_type": "code",
   "execution_count": 36,
   "id": "a6ca8bd2",
   "metadata": {},
   "outputs": [
    {
     "data": {
      "text/plain": [
       "[]"
      ]
     },
     "execution_count": 36,
     "metadata": {},
     "output_type": "execute_result"
    }
   ],
   "source": [
    "outliers"
   ]
  },
  {
   "cell_type": "code",
   "execution_count": 36,
   "id": "7825f2df",
   "metadata": {},
   "outputs": [
    {
     "data": {
      "text/html": [
       "<div>\n",
       "<style scoped>\n",
       "    .dataframe tbody tr th:only-of-type {\n",
       "        vertical-align: middle;\n",
       "    }\n",
       "\n",
       "    .dataframe tbody tr th {\n",
       "        vertical-align: top;\n",
       "    }\n",
       "\n",
       "    .dataframe thead th {\n",
       "        text-align: right;\n",
       "    }\n",
       "</style>\n",
       "<table border=\"1\" class=\"dataframe\">\n",
       "  <thead>\n",
       "    <tr style=\"text-align: right;\">\n",
       "      <th></th>\n",
       "      <th>Age</th>\n",
       "      <th>DailyRate</th>\n",
       "      <th>DistanceFromHome</th>\n",
       "      <th>Education</th>\n",
       "      <th>EnvironmentSatisfaction</th>\n",
       "      <th>HourlyRate</th>\n",
       "      <th>JobInvolvement</th>\n",
       "      <th>JobLevel</th>\n",
       "      <th>JobSatisfaction</th>\n",
       "      <th>MonthlyIncome</th>\n",
       "      <th>MonthlyRate</th>\n",
       "      <th>NumCompaniesWorked</th>\n",
       "      <th>PercentSalaryHike</th>\n",
       "      <th>PerformanceRating</th>\n",
       "      <th>RelationshipSatisfaction</th>\n",
       "      <th>StockOptionLevel</th>\n",
       "      <th>TotalWorkingYears</th>\n",
       "      <th>TrainingTimesLastYear</th>\n",
       "      <th>WorkLifeBalance</th>\n",
       "      <th>YearsAtCompany</th>\n",
       "      <th>YearsInCurrentRole</th>\n",
       "      <th>YearsSinceLastPromotion</th>\n",
       "      <th>YearsWithCurrManager</th>\n",
       "    </tr>\n",
       "  </thead>\n",
       "  <tbody>\n",
       "    <tr>\n",
       "      <th>count</th>\n",
       "      <td>1470.000000</td>\n",
       "      <td>1470.000000</td>\n",
       "      <td>1470.000000</td>\n",
       "      <td>1470.000000</td>\n",
       "      <td>1470.000000</td>\n",
       "      <td>1470.000000</td>\n",
       "      <td>1470.000000</td>\n",
       "      <td>1470.000000</td>\n",
       "      <td>1470.000000</td>\n",
       "      <td>1470.000000</td>\n",
       "      <td>1470.000000</td>\n",
       "      <td>1470.000000</td>\n",
       "      <td>1470.000000</td>\n",
       "      <td>1470.000000</td>\n",
       "      <td>1470.000000</td>\n",
       "      <td>1470.000000</td>\n",
       "      <td>1470.000000</td>\n",
       "      <td>1470.000000</td>\n",
       "      <td>1470.000000</td>\n",
       "      <td>1470.000000</td>\n",
       "      <td>1470.000000</td>\n",
       "      <td>1470.000000</td>\n",
       "      <td>1470.000000</td>\n",
       "    </tr>\n",
       "    <tr>\n",
       "      <th>mean</th>\n",
       "      <td>36.923810</td>\n",
       "      <td>802.485714</td>\n",
       "      <td>9.192517</td>\n",
       "      <td>2.912925</td>\n",
       "      <td>2.721769</td>\n",
       "      <td>65.891156</td>\n",
       "      <td>2.729932</td>\n",
       "      <td>2.063946</td>\n",
       "      <td>2.728571</td>\n",
       "      <td>6502.931293</td>\n",
       "      <td>14313.103401</td>\n",
       "      <td>2.693197</td>\n",
       "      <td>15.209524</td>\n",
       "      <td>3.153741</td>\n",
       "      <td>2.712245</td>\n",
       "      <td>0.793878</td>\n",
       "      <td>11.279592</td>\n",
       "      <td>2.799320</td>\n",
       "      <td>2.761224</td>\n",
       "      <td>7.008163</td>\n",
       "      <td>4.229252</td>\n",
       "      <td>2.187755</td>\n",
       "      <td>4.123129</td>\n",
       "    </tr>\n",
       "    <tr>\n",
       "      <th>std</th>\n",
       "      <td>9.135373</td>\n",
       "      <td>403.509100</td>\n",
       "      <td>8.106864</td>\n",
       "      <td>1.024165</td>\n",
       "      <td>1.093082</td>\n",
       "      <td>20.329428</td>\n",
       "      <td>0.711561</td>\n",
       "      <td>1.106940</td>\n",
       "      <td>1.102846</td>\n",
       "      <td>4707.956783</td>\n",
       "      <td>7117.786044</td>\n",
       "      <td>2.498009</td>\n",
       "      <td>3.659938</td>\n",
       "      <td>0.360824</td>\n",
       "      <td>1.081209</td>\n",
       "      <td>0.852077</td>\n",
       "      <td>7.780782</td>\n",
       "      <td>1.289271</td>\n",
       "      <td>0.706476</td>\n",
       "      <td>6.126525</td>\n",
       "      <td>3.623137</td>\n",
       "      <td>3.222430</td>\n",
       "      <td>3.568136</td>\n",
       "    </tr>\n",
       "    <tr>\n",
       "      <th>min</th>\n",
       "      <td>18.000000</td>\n",
       "      <td>102.000000</td>\n",
       "      <td>1.000000</td>\n",
       "      <td>1.000000</td>\n",
       "      <td>1.000000</td>\n",
       "      <td>30.000000</td>\n",
       "      <td>1.000000</td>\n",
       "      <td>1.000000</td>\n",
       "      <td>1.000000</td>\n",
       "      <td>1009.000000</td>\n",
       "      <td>2094.000000</td>\n",
       "      <td>0.000000</td>\n",
       "      <td>11.000000</td>\n",
       "      <td>3.000000</td>\n",
       "      <td>1.000000</td>\n",
       "      <td>0.000000</td>\n",
       "      <td>0.000000</td>\n",
       "      <td>0.000000</td>\n",
       "      <td>1.000000</td>\n",
       "      <td>0.000000</td>\n",
       "      <td>0.000000</td>\n",
       "      <td>0.000000</td>\n",
       "      <td>0.000000</td>\n",
       "    </tr>\n",
       "    <tr>\n",
       "      <th>25%</th>\n",
       "      <td>30.000000</td>\n",
       "      <td>465.000000</td>\n",
       "      <td>2.000000</td>\n",
       "      <td>2.000000</td>\n",
       "      <td>2.000000</td>\n",
       "      <td>48.000000</td>\n",
       "      <td>2.000000</td>\n",
       "      <td>1.000000</td>\n",
       "      <td>2.000000</td>\n",
       "      <td>2911.000000</td>\n",
       "      <td>8047.000000</td>\n",
       "      <td>1.000000</td>\n",
       "      <td>12.000000</td>\n",
       "      <td>3.000000</td>\n",
       "      <td>2.000000</td>\n",
       "      <td>0.000000</td>\n",
       "      <td>6.000000</td>\n",
       "      <td>2.000000</td>\n",
       "      <td>2.000000</td>\n",
       "      <td>3.000000</td>\n",
       "      <td>2.000000</td>\n",
       "      <td>0.000000</td>\n",
       "      <td>2.000000</td>\n",
       "    </tr>\n",
       "    <tr>\n",
       "      <th>50%</th>\n",
       "      <td>36.000000</td>\n",
       "      <td>802.000000</td>\n",
       "      <td>7.000000</td>\n",
       "      <td>3.000000</td>\n",
       "      <td>3.000000</td>\n",
       "      <td>66.000000</td>\n",
       "      <td>3.000000</td>\n",
       "      <td>2.000000</td>\n",
       "      <td>3.000000</td>\n",
       "      <td>4919.000000</td>\n",
       "      <td>14235.500000</td>\n",
       "      <td>2.000000</td>\n",
       "      <td>14.000000</td>\n",
       "      <td>3.000000</td>\n",
       "      <td>3.000000</td>\n",
       "      <td>1.000000</td>\n",
       "      <td>10.000000</td>\n",
       "      <td>3.000000</td>\n",
       "      <td>3.000000</td>\n",
       "      <td>5.000000</td>\n",
       "      <td>3.000000</td>\n",
       "      <td>1.000000</td>\n",
       "      <td>3.000000</td>\n",
       "    </tr>\n",
       "    <tr>\n",
       "      <th>75%</th>\n",
       "      <td>43.000000</td>\n",
       "      <td>1157.000000</td>\n",
       "      <td>14.000000</td>\n",
       "      <td>4.000000</td>\n",
       "      <td>4.000000</td>\n",
       "      <td>83.750000</td>\n",
       "      <td>3.000000</td>\n",
       "      <td>3.000000</td>\n",
       "      <td>4.000000</td>\n",
       "      <td>8379.000000</td>\n",
       "      <td>20461.500000</td>\n",
       "      <td>4.000000</td>\n",
       "      <td>18.000000</td>\n",
       "      <td>3.000000</td>\n",
       "      <td>4.000000</td>\n",
       "      <td>1.000000</td>\n",
       "      <td>15.000000</td>\n",
       "      <td>3.000000</td>\n",
       "      <td>3.000000</td>\n",
       "      <td>9.000000</td>\n",
       "      <td>7.000000</td>\n",
       "      <td>3.000000</td>\n",
       "      <td>7.000000</td>\n",
       "    </tr>\n",
       "    <tr>\n",
       "      <th>max</th>\n",
       "      <td>60.000000</td>\n",
       "      <td>1499.000000</td>\n",
       "      <td>29.000000</td>\n",
       "      <td>5.000000</td>\n",
       "      <td>4.000000</td>\n",
       "      <td>100.000000</td>\n",
       "      <td>4.000000</td>\n",
       "      <td>5.000000</td>\n",
       "      <td>4.000000</td>\n",
       "      <td>19999.000000</td>\n",
       "      <td>26999.000000</td>\n",
       "      <td>9.000000</td>\n",
       "      <td>25.000000</td>\n",
       "      <td>4.000000</td>\n",
       "      <td>4.000000</td>\n",
       "      <td>3.000000</td>\n",
       "      <td>40.000000</td>\n",
       "      <td>6.000000</td>\n",
       "      <td>4.000000</td>\n",
       "      <td>40.000000</td>\n",
       "      <td>18.000000</td>\n",
       "      <td>15.000000</td>\n",
       "      <td>17.000000</td>\n",
       "    </tr>\n",
       "  </tbody>\n",
       "</table>\n",
       "</div>"
      ],
      "text/plain": [
       "               Age    DailyRate  DistanceFromHome    Education  \\\n",
       "count  1470.000000  1470.000000       1470.000000  1470.000000   \n",
       "mean     36.923810   802.485714          9.192517     2.912925   \n",
       "std       9.135373   403.509100          8.106864     1.024165   \n",
       "min      18.000000   102.000000          1.000000     1.000000   \n",
       "25%      30.000000   465.000000          2.000000     2.000000   \n",
       "50%      36.000000   802.000000          7.000000     3.000000   \n",
       "75%      43.000000  1157.000000         14.000000     4.000000   \n",
       "max      60.000000  1499.000000         29.000000     5.000000   \n",
       "\n",
       "       EnvironmentSatisfaction   HourlyRate  JobInvolvement     JobLevel  \\\n",
       "count              1470.000000  1470.000000     1470.000000  1470.000000   \n",
       "mean                  2.721769    65.891156        2.729932     2.063946   \n",
       "std                   1.093082    20.329428        0.711561     1.106940   \n",
       "min                   1.000000    30.000000        1.000000     1.000000   \n",
       "25%                   2.000000    48.000000        2.000000     1.000000   \n",
       "50%                   3.000000    66.000000        3.000000     2.000000   \n",
       "75%                   4.000000    83.750000        3.000000     3.000000   \n",
       "max                   4.000000   100.000000        4.000000     5.000000   \n",
       "\n",
       "       JobSatisfaction  MonthlyIncome   MonthlyRate  NumCompaniesWorked  \\\n",
       "count      1470.000000    1470.000000   1470.000000         1470.000000   \n",
       "mean          2.728571    6502.931293  14313.103401            2.693197   \n",
       "std           1.102846    4707.956783   7117.786044            2.498009   \n",
       "min           1.000000    1009.000000   2094.000000            0.000000   \n",
       "25%           2.000000    2911.000000   8047.000000            1.000000   \n",
       "50%           3.000000    4919.000000  14235.500000            2.000000   \n",
       "75%           4.000000    8379.000000  20461.500000            4.000000   \n",
       "max           4.000000   19999.000000  26999.000000            9.000000   \n",
       "\n",
       "       PercentSalaryHike  PerformanceRating  RelationshipSatisfaction  \\\n",
       "count        1470.000000        1470.000000               1470.000000   \n",
       "mean           15.209524           3.153741                  2.712245   \n",
       "std             3.659938           0.360824                  1.081209   \n",
       "min            11.000000           3.000000                  1.000000   \n",
       "25%            12.000000           3.000000                  2.000000   \n",
       "50%            14.000000           3.000000                  3.000000   \n",
       "75%            18.000000           3.000000                  4.000000   \n",
       "max            25.000000           4.000000                  4.000000   \n",
       "\n",
       "       StockOptionLevel  TotalWorkingYears  TrainingTimesLastYear  \\\n",
       "count       1470.000000        1470.000000            1470.000000   \n",
       "mean           0.793878          11.279592               2.799320   \n",
       "std            0.852077           7.780782               1.289271   \n",
       "min            0.000000           0.000000               0.000000   \n",
       "25%            0.000000           6.000000               2.000000   \n",
       "50%            1.000000          10.000000               3.000000   \n",
       "75%            1.000000          15.000000               3.000000   \n",
       "max            3.000000          40.000000               6.000000   \n",
       "\n",
       "       WorkLifeBalance  YearsAtCompany  YearsInCurrentRole  \\\n",
       "count      1470.000000     1470.000000         1470.000000   \n",
       "mean          2.761224        7.008163            4.229252   \n",
       "std           0.706476        6.126525            3.623137   \n",
       "min           1.000000        0.000000            0.000000   \n",
       "25%           2.000000        3.000000            2.000000   \n",
       "50%           3.000000        5.000000            3.000000   \n",
       "75%           3.000000        9.000000            7.000000   \n",
       "max           4.000000       40.000000           18.000000   \n",
       "\n",
       "       YearsSinceLastPromotion  YearsWithCurrManager  \n",
       "count              1470.000000           1470.000000  \n",
       "mean                  2.187755              4.123129  \n",
       "std                   3.222430              3.568136  \n",
       "min                   0.000000              0.000000  \n",
       "25%                   0.000000              2.000000  \n",
       "50%                   1.000000              3.000000  \n",
       "75%                   3.000000              7.000000  \n",
       "max                  15.000000             17.000000  "
      ]
     },
     "execution_count": 36,
     "metadata": {},
     "output_type": "execute_result"
    }
   ],
   "source": [
    "dataset.describe()"
   ]
  },
  {
   "cell_type": "code",
   "execution_count": 37,
   "id": "5f2dc1cb",
   "metadata": {},
   "outputs": [
    {
     "data": {
      "text/plain": [
       "<AxesSubplot:xlabel='YearsSinceLastPromotion', ylabel='Density'>"
      ]
     },
     "execution_count": 37,
     "metadata": {},
     "output_type": "execute_result"
    },
    {
     "data": {
      "image/png": "[encoded data removed]",
      "text/plain": [
       "<Figure size 432x288 with 1 Axes>"
      ]
     },
     "metadata": {},
     "output_type": "display_data"
    }
   ],
   "source": [
    "sns.distplot(dataset[\"YearsSinceLastPromotion\"])"
   ]
  },
  {
   "cell_type": "code",
   "execution_count": 38,
   "id": "71190843",
   "metadata": {},
   "outputs": [
    {
     "data": {
      "text/plain": [
       "<AxesSubplot:xlabel='YearsSinceLastPromotion', ylabel='YearsWithCurrManager'>"
      ]
     },
     "execution_count": 38,
     "metadata": {},
     "output_type": "execute_result"
    },
    {
     "data": {
      "image/png": "[encoded data removed]",
      "text/plain": [
       "<Figure size 432x288 with 1 Axes>"
      ]
     },
     "metadata": {},
     "output_type": "display_data"
    }
   ],
   "source": [
    "sns.scatterplot(x = \"YearsSinceLastPromotion\", y = \"YearsWithCurrManager\", data = dataset, hue = \"Attrition\")"
   ]
  },
  {
   "cell_type": "code",
   "execution_count": 39,
   "id": "536ed237",
   "metadata": {},
   "outputs": [
    {
     "data": {
      "text/plain": [
       "['Age',\n",
       " 'DailyRate',\n",
       " 'DistanceFromHome',\n",
       " 'HourlyRate',\n",
       " 'MonthlyIncome',\n",
       " 'MonthlyRate',\n",
       " 'NumCompaniesWorked',\n",
       " 'PercentSalaryHike',\n",
       " 'TotalWorkingYears',\n",
       " 'YearsAtCompany',\n",
       " 'YearsInCurrentRole',\n",
       " 'YearsSinceLastPromotion',\n",
       " 'YearsWithCurrManager']"
      ]
     },
     "execution_count": 39,
     "metadata": {},
     "output_type": "execute_result"
    }
   ],
   "source": [
    "continuous_feature"
   ]
  },
  {
   "cell_type": "code",
   "execution_count": 40,
   "id": "ef89d3ae",
   "metadata": {},
   "outputs": [
    {
     "data": {
      "image/png": "[encoded data removed]",
      "text/plain": [
       "<Figure size 432x288 with 1 Axes>"
      ]
     },
     "metadata": {},
     "output_type": "display_data"
    },
    {
     "data": {
      "image/png": "[encoded data removed]",
      "text/plain": [
       "<Figure size 432x288 with 1 Axes>"
      ]
     },
     "metadata": {},
     "output_type": "display_data"
    },
    {
     "data": {
      "image/png": "[encoded data removed]",
      "text/plain": [
       "<Figure size 432x288 with 1 Axes>"
      ]
     },
     "metadata": {},
     "output_type": "display_data"
    },
    {
     "data": {
      "image/png": "[encoded data removed]",
      "text/plain": [
       "<Figure size 432x288 with 1 Axes>"
      ]
     },
     "metadata": {},
     "output_type": "display_data"
    },
    {
     "data": {
      "image/png": "[encoded data removed]",
      "text/plain": [
       "<Figure size 432x288 with 1 Axes>"
      ]
     },
     "metadata": {},
     "output_type": "display_data"
    },
    {
     "data": {
      "image/png": "[encoded data removed]",
      "text/plain": [
       "<Figure size 432x288 with 1 Axes>"
      ]
     },
     "metadata": {},
     "output_type": "display_data"
    },
    {
     "data": {
      "image/png": "[encoded data removed]",
      "text/plain": [
       "<Figure size 432x288 with 1 Axes>"
      ]
     },
     "metadata": {},
     "output_type": "display_data"
    }
   ],
   "source": [
    "for feature in continuous_feature:\n",
    "    data = dataset.copy()\n",
    "    if 0 in data[feature].unique():\n",
    "        pass\n",
    "    else:\n",
    "        data[feature] = np.log(data[feature])\n",
    "        data.boxplot(column = feature)\n",
    "        plt.ylabel(feature)\n",
    "        plt.title(feature)\n",
    "        plt.show()\n",
    "    "
   ]
  },
  {
   "cell_type": "code",
   "execution_count": 41,
   "id": "db7f1cb7",
   "metadata": {},
   "outputs": [],
   "source": [
    "#Applying Log Normal Distribution in Skewed features. Cond: They should not have 0, if 0 then as we know it should be skipped."
   ]
  },
  {
   "cell_type": "code",
   "execution_count": 42,
   "id": "03ea345f",
   "metadata": {},
   "outputs": [],
   "source": [
    "num_features = [\"DailyRate\"]\n",
    "for feature in num_features:\n",
    "    dataset[feature] = np.log(dataset[feature])"
   ]
  },
  {
   "cell_type": "code",
   "execution_count": 43,
   "id": "a1dcced6",
   "metadata": {},
   "outputs": [
    {
     "data": {
      "text/html": [
       "<div>\n",
       "<style scoped>\n",
       "    .dataframe tbody tr th:only-of-type {\n",
       "        vertical-align: middle;\n",
       "    }\n",
       "\n",
       "    .dataframe tbody tr th {\n",
       "        vertical-align: top;\n",
       "    }\n",
       "\n",
       "    .dataframe thead th {\n",
       "        text-align: right;\n",
       "    }\n",
       "</style>\n",
       "<table border=\"1\" class=\"dataframe\">\n",
       "  <thead>\n",
       "    <tr style=\"text-align: right;\">\n",
       "      <th></th>\n",
       "      <th>Age</th>\n",
       "      <th>Attrition</th>\n",
       "      <th>BusinessTravel</th>\n",
       "      <th>DailyRate</th>\n",
       "      <th>Department</th>\n",
       "      <th>DistanceFromHome</th>\n",
       "      <th>Education</th>\n",
       "      <th>EducationField</th>\n",
       "      <th>EnvironmentSatisfaction</th>\n",
       "      <th>Gender</th>\n",
       "      <th>HourlyRate</th>\n",
       "      <th>JobInvolvement</th>\n",
       "      <th>JobLevel</th>\n",
       "      <th>JobRole</th>\n",
       "      <th>JobSatisfaction</th>\n",
       "      <th>MaritalStatus</th>\n",
       "      <th>MonthlyIncome</th>\n",
       "      <th>MonthlyRate</th>\n",
       "      <th>NumCompaniesWorked</th>\n",
       "      <th>OverTime</th>\n",
       "      <th>PercentSalaryHike</th>\n",
       "      <th>PerformanceRating</th>\n",
       "      <th>RelationshipSatisfaction</th>\n",
       "      <th>StockOptionLevel</th>\n",
       "      <th>TotalWorkingYears</th>\n",
       "      <th>TrainingTimesLastYear</th>\n",
       "      <th>WorkLifeBalance</th>\n",
       "      <th>YearsAtCompany</th>\n",
       "      <th>YearsInCurrentRole</th>\n",
       "      <th>YearsSinceLastPromotion</th>\n",
       "      <th>YearsWithCurrManager</th>\n",
       "    </tr>\n",
       "  </thead>\n",
       "  <tbody>\n",
       "    <tr>\n",
       "      <th>0</th>\n",
       "      <td>41</td>\n",
       "      <td>Yes</td>\n",
       "      <td>Travel_Rarely</td>\n",
       "      <td>7.004882</td>\n",
       "      <td>Sales</td>\n",
       "      <td>1</td>\n",
       "      <td>2</td>\n",
       "      <td>Life Sciences</td>\n",
       "      <td>2</td>\n",
       "      <td>Female</td>\n",
       "      <td>94</td>\n",
       "      <td>3</td>\n",
       "      <td>2</td>\n",
       "      <td>Sales Executive</td>\n",
       "      <td>4</td>\n",
       "      <td>Single</td>\n",
       "      <td>5993</td>\n",
       "      <td>19479</td>\n",
       "      <td>8</td>\n",
       "      <td>Yes</td>\n",
       "      <td>11</td>\n",
       "      <td>3</td>\n",
       "      <td>1</td>\n",
       "      <td>0</td>\n",
       "      <td>8</td>\n",
       "      <td>0</td>\n",
       "      <td>1</td>\n",
       "      <td>6</td>\n",
       "      <td>4</td>\n",
       "      <td>0</td>\n",
       "      <td>5</td>\n",
       "    </tr>\n",
       "    <tr>\n",
       "      <th>1</th>\n",
       "      <td>49</td>\n",
       "      <td>No</td>\n",
       "      <td>Travel_Frequently</td>\n",
       "      <td>5.631212</td>\n",
       "      <td>Research &amp; Development</td>\n",
       "      <td>8</td>\n",
       "      <td>1</td>\n",
       "      <td>Life Sciences</td>\n",
       "      <td>3</td>\n",
       "      <td>Male</td>\n",
       "      <td>61</td>\n",
       "      <td>2</td>\n",
       "      <td>2</td>\n",
       "      <td>Research Scientist</td>\n",
       "      <td>2</td>\n",
       "      <td>Married</td>\n",
       "      <td>5130</td>\n",
       "      <td>24907</td>\n",
       "      <td>1</td>\n",
       "      <td>No</td>\n",
       "      <td>23</td>\n",
       "      <td>4</td>\n",
       "      <td>4</td>\n",
       "      <td>1</td>\n",
       "      <td>10</td>\n",
       "      <td>3</td>\n",
       "      <td>3</td>\n",
       "      <td>10</td>\n",
       "      <td>7</td>\n",
       "      <td>1</td>\n",
       "      <td>7</td>\n",
       "    </tr>\n",
       "    <tr>\n",
       "      <th>2</th>\n",
       "      <td>37</td>\n",
       "      <td>Yes</td>\n",
       "      <td>Travel_Rarely</td>\n",
       "      <td>7.224753</td>\n",
       "      <td>Research &amp; Development</td>\n",
       "      <td>2</td>\n",
       "      <td>2</td>\n",
       "      <td>Other</td>\n",
       "      <td>4</td>\n",
       "      <td>Male</td>\n",
       "      <td>92</td>\n",
       "      <td>2</td>\n",
       "      <td>1</td>\n",
       "      <td>Laboratory Technician</td>\n",
       "      <td>3</td>\n",
       "      <td>Single</td>\n",
       "      <td>2090</td>\n",
       "      <td>2396</td>\n",
       "      <td>6</td>\n",
       "      <td>Yes</td>\n",
       "      <td>15</td>\n",
       "      <td>3</td>\n",
       "      <td>2</td>\n",
       "      <td>0</td>\n",
       "      <td>7</td>\n",
       "      <td>3</td>\n",
       "      <td>3</td>\n",
       "      <td>0</td>\n",
       "      <td>0</td>\n",
       "      <td>0</td>\n",
       "      <td>0</td>\n",
       "    </tr>\n",
       "    <tr>\n",
       "      <th>3</th>\n",
       "      <td>33</td>\n",
       "      <td>No</td>\n",
       "      <td>Travel_Frequently</td>\n",
       "      <td>7.238497</td>\n",
       "      <td>Research &amp; Development</td>\n",
       "      <td>3</td>\n",
       "      <td>4</td>\n",
       "      <td>Life Sciences</td>\n",
       "      <td>4</td>\n",
       "      <td>Female</td>\n",
       "      <td>56</td>\n",
       "      <td>3</td>\n",
       "      <td>1</td>\n",
       "      <td>Research Scientist</td>\n",
       "      <td>3</td>\n",
       "      <td>Married</td>\n",
       "      <td>2909</td>\n",
       "      <td>23159</td>\n",
       "      <td>1</td>\n",
       "      <td>Yes</td>\n",
       "      <td>11</td>\n",
       "      <td>3</td>\n",
       "      <td>3</td>\n",
       "      <td>0</td>\n",
       "      <td>8</td>\n",
       "      <td>3</td>\n",
       "      <td>3</td>\n",
       "      <td>8</td>\n",
       "      <td>7</td>\n",
       "      <td>3</td>\n",
       "      <td>0</td>\n",
       "    </tr>\n",
       "    <tr>\n",
       "      <th>4</th>\n",
       "      <td>27</td>\n",
       "      <td>No</td>\n",
       "      <td>Travel_Rarely</td>\n",
       "      <td>6.381816</td>\n",
       "      <td>Research &amp; Development</td>\n",
       "      <td>2</td>\n",
       "      <td>1</td>\n",
       "      <td>Medical</td>\n",
       "      <td>1</td>\n",
       "      <td>Male</td>\n",
       "      <td>40</td>\n",
       "      <td>3</td>\n",
       "      <td>1</td>\n",
       "      <td>Laboratory Technician</td>\n",
       "      <td>2</td>\n",
       "      <td>Married</td>\n",
       "      <td>3468</td>\n",
       "      <td>16632</td>\n",
       "      <td>9</td>\n",
       "      <td>No</td>\n",
       "      <td>12</td>\n",
       "      <td>3</td>\n",
       "      <td>4</td>\n",
       "      <td>1</td>\n",
       "      <td>6</td>\n",
       "      <td>3</td>\n",
       "      <td>3</td>\n",
       "      <td>2</td>\n",
       "      <td>2</td>\n",
       "      <td>2</td>\n",
       "      <td>2</td>\n",
       "    </tr>\n",
       "  </tbody>\n",
       "</table>\n",
       "</div>"
      ],
      "text/plain": [
       "   Age Attrition     BusinessTravel  DailyRate              Department  \\\n",
       "0   41       Yes      Travel_Rarely   7.004882                   Sales   \n",
       "1   49        No  Travel_Frequently   5.631212  Research & Development   \n",
       "2   37       Yes      Travel_Rarely   7.224753  Research & Development   \n",
       "3   33        No  Travel_Frequently   7.238497  Research & Development   \n",
       "4   27        No      Travel_Rarely   6.381816  Research & Development   \n",
       "\n",
       "   DistanceFromHome  Education EducationField  EnvironmentSatisfaction  \\\n",
       "0                 1          2  Life Sciences                        2   \n",
       "1                 8          1  Life Sciences                        3   \n",
       "2                 2          2          Other                        4   \n",
       "3                 3          4  Life Sciences                        4   \n",
       "4                 2          1        Medical                        1   \n",
       "\n",
       "   Gender  HourlyRate  JobInvolvement  JobLevel                JobRole  \\\n",
       "0  Female          94               3         2        Sales Executive   \n",
       "1    Male          61               2         2     Research Scientist   \n",
       "2    Male          92               2         1  Laboratory Technician   \n",
       "3  Female          56               3         1     Research Scientist   \n",
       "4    Male          40               3         1  Laboratory Technician   \n",
       "\n",
       "   JobSatisfaction MaritalStatus  MonthlyIncome  MonthlyRate  \\\n",
       "0                4        Single           5993        19479   \n",
       "1                2       Married           5130        24907   \n",
       "2                3        Single           2090         2396   \n",
       "3                3       Married           2909        23159   \n",
       "4                2       Married           3468        16632   \n",
       "\n",
       "   NumCompaniesWorked OverTime  PercentSalaryHike  PerformanceRating  \\\n",
       "0                   8      Yes                 11                  3   \n",
       "1                   1       No                 23                  4   \n",
       "2                   6      Yes                 15                  3   \n",
       "3                   1      Yes                 11                  3   \n",
       "4                   9       No                 12                  3   \n",
       "\n",
       "   RelationshipSatisfaction  StockOptionLevel  TotalWorkingYears  \\\n",
       "0                         1                 0                  8   \n",
       "1                         4                 1                 10   \n",
       "2                         2                 0                  7   \n",
       "3                         3                 0                  8   \n",
       "4                         4                 1                  6   \n",
       "\n",
       "   TrainingTimesLastYear  WorkLifeBalance  YearsAtCompany  YearsInCurrentRole  \\\n",
       "0                      0                1               6                   4   \n",
       "1                      3                3              10                   7   \n",
       "2                      3                3               0                   0   \n",
       "3                      3                3               8                   7   \n",
       "4                      3                3               2                   2   \n",
       "\n",
       "   YearsSinceLastPromotion  YearsWithCurrManager  \n",
       "0                        0                     5  \n",
       "1                        1                     7  \n",
       "2                        0                     0  \n",
       "3                        3                     0  \n",
       "4                        2                     2  "
      ]
     },
     "execution_count": 43,
     "metadata": {},
     "output_type": "execute_result"
    }
   ],
   "source": [
    "dataset.head()"
   ]
  },
  {
   "cell_type": "code",
   "execution_count": 44,
   "id": "bd54689f",
   "metadata": {},
   "outputs": [],
   "source": [
    "# Step-2 Encoding"
   ]
  },
  {
   "cell_type": "code",
   "execution_count": 45,
   "id": "3e30cb4e",
   "metadata": {},
   "outputs": [
    {
     "data": {
      "text/plain": [
       "2    1043\n",
       "1     277\n",
       "0     150\n",
       "Name: BusinessTravel, dtype: int64"
      ]
     },
     "execution_count": 45,
     "metadata": {},
     "output_type": "execute_result"
    }
   ],
   "source": [
    "dataset['BusinessTravel'] = dataset[\"BusinessTravel\"].astype(\"category\")\n",
    "dataset['BusinessTravel'] = dataset[\"BusinessTravel\"].cat.codes\n",
    "dataset[\"BusinessTravel\"].value_counts()"
   ]
  },
  {
   "cell_type": "code",
   "execution_count": 46,
   "id": "15d85ecf",
   "metadata": {},
   "outputs": [
    {
     "data": {
      "text/plain": [
       "1    961\n",
       "2    446\n",
       "0     63\n",
       "Name: Department, dtype: int64"
      ]
     },
     "execution_count": 46,
     "metadata": {},
     "output_type": "execute_result"
    }
   ],
   "source": [
    "dataset['Department'] = dataset[\"Department\"].astype(\"category\")\n",
    "dataset['Department'] = dataset[\"Department\"].cat.codes\n",
    "dataset[\"Department\"].value_counts()"
   ]
  },
  {
   "cell_type": "code",
   "execution_count": 47,
   "id": "605fc72d",
   "metadata": {},
   "outputs": [
    {
     "data": {
      "text/plain": [
       "1    606\n",
       "3    464\n",
       "2    159\n",
       "5    132\n",
       "4     82\n",
       "0     27\n",
       "Name: EducationField, dtype: int64"
      ]
     },
     "execution_count": 47,
     "metadata": {},
     "output_type": "execute_result"
    }
   ],
   "source": [
    "dataset[\"EducationField\"] = dataset[\"EducationField\"].astype(\"category\")\n",
    "dataset[\"EducationField\"] = dataset[\"EducationField\"].cat.codes\n",
    "dataset[\"EducationField\"].value_counts()"
   ]
  },
  {
   "cell_type": "code",
   "execution_count": 48,
   "id": "4e5d61be",
   "metadata": {},
   "outputs": [
    {
     "data": {
      "text/plain": [
       "1    882\n",
       "0    588\n",
       "Name: Gender, dtype: int64"
      ]
     },
     "execution_count": 48,
     "metadata": {},
     "output_type": "execute_result"
    }
   ],
   "source": [
    "dataset[\"Gender\"] = dataset[\"Gender\"].astype(\"category\")\n",
    "dataset[\"Gender\"] = dataset[\"Gender\"].cat.codes\n",
    "dataset[\"Gender\"].value_counts()"
   ]
  },
  {
   "cell_type": "code",
   "execution_count": 49,
   "id": "26238705",
   "metadata": {},
   "outputs": [
    {
     "data": {
      "text/plain": [
       "7    326\n",
       "6    292\n",
       "2    259\n",
       "4    145\n",
       "0    131\n",
       "3    102\n",
       "8     83\n",
       "5     80\n",
       "1     52\n",
       "Name: JobRole, dtype: int64"
      ]
     },
     "execution_count": 49,
     "metadata": {},
     "output_type": "execute_result"
    }
   ],
   "source": [
    "dataset[\"JobRole\"] = dataset[\"JobRole\"].astype(\"category\")\n",
    "dataset[\"JobRole\"] = dataset[\"JobRole\"].cat.codes\n",
    "dataset[\"JobRole\"].value_counts()"
   ]
  },
  {
   "cell_type": "code",
   "execution_count": 50,
   "id": "13c427bf",
   "metadata": {},
   "outputs": [
    {
     "data": {
      "text/plain": [
       "1    673\n",
       "2    470\n",
       "0    327\n",
       "Name: MaritalStatus, dtype: int64"
      ]
     },
     "execution_count": 50,
     "metadata": {},
     "output_type": "execute_result"
    }
   ],
   "source": [
    "dataset[\"MaritalStatus\"] = dataset[\"MaritalStatus\"].astype(\"category\")\n",
    "dataset[\"MaritalStatus\"] = dataset[\"MaritalStatus\"].cat.codes\n",
    "dataset[\"MaritalStatus\"].value_counts()"
   ]
  },
  {
   "cell_type": "code",
   "execution_count": 51,
   "id": "31df954c",
   "metadata": {},
   "outputs": [
    {
     "data": {
      "text/plain": [
       "0    1054\n",
       "1     416\n",
       "Name: OverTime, dtype: int64"
      ]
     },
     "execution_count": 51,
     "metadata": {},
     "output_type": "execute_result"
    }
   ],
   "source": [
    "dataset[\"OverTime\"] = dataset[\"OverTime\"].astype(\"category\")\n",
    "dataset[\"OverTime\"] = dataset[\"OverTime\"].cat.codes\n",
    "dataset[\"OverTime\"].value_counts()"
   ]
  },
  {
   "cell_type": "code",
   "execution_count": 52,
   "id": "677292c9",
   "metadata": {},
   "outputs": [
    {
     "data": {
      "text/html": [
       "<div>\n",
       "<style scoped>\n",
       "    .dataframe tbody tr th:only-of-type {\n",
       "        vertical-align: middle;\n",
       "    }\n",
       "\n",
       "    .dataframe tbody tr th {\n",
       "        vertical-align: top;\n",
       "    }\n",
       "\n",
       "    .dataframe thead th {\n",
       "        text-align: right;\n",
       "    }\n",
       "</style>\n",
       "<table border=\"1\" class=\"dataframe\">\n",
       "  <thead>\n",
       "    <tr style=\"text-align: right;\">\n",
       "      <th></th>\n",
       "      <th>Age</th>\n",
       "      <th>Attrition</th>\n",
       "      <th>BusinessTravel</th>\n",
       "      <th>DailyRate</th>\n",
       "      <th>Department</th>\n",
       "      <th>DistanceFromHome</th>\n",
       "      <th>Education</th>\n",
       "      <th>EducationField</th>\n",
       "      <th>EnvironmentSatisfaction</th>\n",
       "      <th>Gender</th>\n",
       "      <th>HourlyRate</th>\n",
       "      <th>JobInvolvement</th>\n",
       "      <th>JobLevel</th>\n",
       "      <th>JobRole</th>\n",
       "      <th>JobSatisfaction</th>\n",
       "      <th>MaritalStatus</th>\n",
       "      <th>MonthlyIncome</th>\n",
       "      <th>MonthlyRate</th>\n",
       "      <th>NumCompaniesWorked</th>\n",
       "      <th>OverTime</th>\n",
       "      <th>PercentSalaryHike</th>\n",
       "      <th>PerformanceRating</th>\n",
       "      <th>RelationshipSatisfaction</th>\n",
       "      <th>StockOptionLevel</th>\n",
       "      <th>TotalWorkingYears</th>\n",
       "      <th>TrainingTimesLastYear</th>\n",
       "      <th>WorkLifeBalance</th>\n",
       "      <th>YearsAtCompany</th>\n",
       "      <th>YearsInCurrentRole</th>\n",
       "      <th>YearsSinceLastPromotion</th>\n",
       "      <th>YearsWithCurrManager</th>\n",
       "    </tr>\n",
       "  </thead>\n",
       "  <tbody>\n",
       "    <tr>\n",
       "      <th>0</th>\n",
       "      <td>41</td>\n",
       "      <td>Yes</td>\n",
       "      <td>2</td>\n",
       "      <td>7.004882</td>\n",
       "      <td>2</td>\n",
       "      <td>1</td>\n",
       "      <td>2</td>\n",
       "      <td>1</td>\n",
       "      <td>2</td>\n",
       "      <td>0</td>\n",
       "      <td>94</td>\n",
       "      <td>3</td>\n",
       "      <td>2</td>\n",
       "      <td>7</td>\n",
       "      <td>4</td>\n",
       "      <td>2</td>\n",
       "      <td>5993</td>\n",
       "      <td>19479</td>\n",
       "      <td>8</td>\n",
       "      <td>1</td>\n",
       "      <td>11</td>\n",
       "      <td>3</td>\n",
       "      <td>1</td>\n",
       "      <td>0</td>\n",
       "      <td>8</td>\n",
       "      <td>0</td>\n",
       "      <td>1</td>\n",
       "      <td>6</td>\n",
       "      <td>4</td>\n",
       "      <td>0</td>\n",
       "      <td>5</td>\n",
       "    </tr>\n",
       "    <tr>\n",
       "      <th>1</th>\n",
       "      <td>49</td>\n",
       "      <td>No</td>\n",
       "      <td>1</td>\n",
       "      <td>5.631212</td>\n",
       "      <td>1</td>\n",
       "      <td>8</td>\n",
       "      <td>1</td>\n",
       "      <td>1</td>\n",
       "      <td>3</td>\n",
       "      <td>1</td>\n",
       "      <td>61</td>\n",
       "      <td>2</td>\n",
       "      <td>2</td>\n",
       "      <td>6</td>\n",
       "      <td>2</td>\n",
       "      <td>1</td>\n",
       "      <td>5130</td>\n",
       "      <td>24907</td>\n",
       "      <td>1</td>\n",
       "      <td>0</td>\n",
       "      <td>23</td>\n",
       "      <td>4</td>\n",
       "      <td>4</td>\n",
       "      <td>1</td>\n",
       "      <td>10</td>\n",
       "      <td>3</td>\n",
       "      <td>3</td>\n",
       "      <td>10</td>\n",
       "      <td>7</td>\n",
       "      <td>1</td>\n",
       "      <td>7</td>\n",
       "    </tr>\n",
       "    <tr>\n",
       "      <th>2</th>\n",
       "      <td>37</td>\n",
       "      <td>Yes</td>\n",
       "      <td>2</td>\n",
       "      <td>7.224753</td>\n",
       "      <td>1</td>\n",
       "      <td>2</td>\n",
       "      <td>2</td>\n",
       "      <td>4</td>\n",
       "      <td>4</td>\n",
       "      <td>1</td>\n",
       "      <td>92</td>\n",
       "      <td>2</td>\n",
       "      <td>1</td>\n",
       "      <td>2</td>\n",
       "      <td>3</td>\n",
       "      <td>2</td>\n",
       "      <td>2090</td>\n",
       "      <td>2396</td>\n",
       "      <td>6</td>\n",
       "      <td>1</td>\n",
       "      <td>15</td>\n",
       "      <td>3</td>\n",
       "      <td>2</td>\n",
       "      <td>0</td>\n",
       "      <td>7</td>\n",
       "      <td>3</td>\n",
       "      <td>3</td>\n",
       "      <td>0</td>\n",
       "      <td>0</td>\n",
       "      <td>0</td>\n",
       "      <td>0</td>\n",
       "    </tr>\n",
       "    <tr>\n",
       "      <th>3</th>\n",
       "      <td>33</td>\n",
       "      <td>No</td>\n",
       "      <td>1</td>\n",
       "      <td>7.238497</td>\n",
       "      <td>1</td>\n",
       "      <td>3</td>\n",
       "      <td>4</td>\n",
       "      <td>1</td>\n",
       "      <td>4</td>\n",
       "      <td>0</td>\n",
       "      <td>56</td>\n",
       "      <td>3</td>\n",
       "      <td>1</td>\n",
       "      <td>6</td>\n",
       "      <td>3</td>\n",
       "      <td>1</td>\n",
       "      <td>2909</td>\n",
       "      <td>23159</td>\n",
       "      <td>1</td>\n",
       "      <td>1</td>\n",
       "      <td>11</td>\n",
       "      <td>3</td>\n",
       "      <td>3</td>\n",
       "      <td>0</td>\n",
       "      <td>8</td>\n",
       "      <td>3</td>\n",
       "      <td>3</td>\n",
       "      <td>8</td>\n",
       "      <td>7</td>\n",
       "      <td>3</td>\n",
       "      <td>0</td>\n",
       "    </tr>\n",
       "    <tr>\n",
       "      <th>4</th>\n",
       "      <td>27</td>\n",
       "      <td>No</td>\n",
       "      <td>2</td>\n",
       "      <td>6.381816</td>\n",
       "      <td>1</td>\n",
       "      <td>2</td>\n",
       "      <td>1</td>\n",
       "      <td>3</td>\n",
       "      <td>1</td>\n",
       "      <td>1</td>\n",
       "      <td>40</td>\n",
       "      <td>3</td>\n",
       "      <td>1</td>\n",
       "      <td>2</td>\n",
       "      <td>2</td>\n",
       "      <td>1</td>\n",
       "      <td>3468</td>\n",
       "      <td>16632</td>\n",
       "      <td>9</td>\n",
       "      <td>0</td>\n",
       "      <td>12</td>\n",
       "      <td>3</td>\n",
       "      <td>4</td>\n",
       "      <td>1</td>\n",
       "      <td>6</td>\n",
       "      <td>3</td>\n",
       "      <td>3</td>\n",
       "      <td>2</td>\n",
       "      <td>2</td>\n",
       "      <td>2</td>\n",
       "      <td>2</td>\n",
       "    </tr>\n",
       "  </tbody>\n",
       "</table>\n",
       "</div>"
      ],
      "text/plain": [
       "   Age Attrition  BusinessTravel  DailyRate  Department  DistanceFromHome  \\\n",
       "0   41       Yes               2   7.004882           2                 1   \n",
       "1   49        No               1   5.631212           1                 8   \n",
       "2   37       Yes               2   7.224753           1                 2   \n",
       "3   33        No               1   7.238497           1                 3   \n",
       "4   27        No               2   6.381816           1                 2   \n",
       "\n",
       "   Education  EducationField  EnvironmentSatisfaction  Gender  HourlyRate  \\\n",
       "0          2               1                        2       0          94   \n",
       "1          1               1                        3       1          61   \n",
       "2          2               4                        4       1          92   \n",
       "3          4               1                        4       0          56   \n",
       "4          1               3                        1       1          40   \n",
       "\n",
       "   JobInvolvement  JobLevel  JobRole  JobSatisfaction  MaritalStatus  \\\n",
       "0               3         2        7                4              2   \n",
       "1               2         2        6                2              1   \n",
       "2               2         1        2                3              2   \n",
       "3               3         1        6                3              1   \n",
       "4               3         1        2                2              1   \n",
       "\n",
       "   MonthlyIncome  MonthlyRate  NumCompaniesWorked  OverTime  \\\n",
       "0           5993        19479                   8         1   \n",
       "1           5130        24907                   1         0   \n",
       "2           2090         2396                   6         1   \n",
       "3           2909        23159                   1         1   \n",
       "4           3468        16632                   9         0   \n",
       "\n",
       "   PercentSalaryHike  PerformanceRating  RelationshipSatisfaction  \\\n",
       "0                 11                  3                         1   \n",
       "1                 23                  4                         4   \n",
       "2                 15                  3                         2   \n",
       "3                 11                  3                         3   \n",
       "4                 12                  3                         4   \n",
       "\n",
       "   StockOptionLevel  TotalWorkingYears  TrainingTimesLastYear  \\\n",
       "0                 0                  8                      0   \n",
       "1                 1                 10                      3   \n",
       "2                 0                  7                      3   \n",
       "3                 0                  8                      3   \n",
       "4                 1                  6                      3   \n",
       "\n",
       "   WorkLifeBalance  YearsAtCompany  YearsInCurrentRole  \\\n",
       "0                1               6                   4   \n",
       "1                3              10                   7   \n",
       "2                3               0                   0   \n",
       "3                3               8                   7   \n",
       "4                3               2                   2   \n",
       "\n",
       "   YearsSinceLastPromotion  YearsWithCurrManager  \n",
       "0                        0                     5  \n",
       "1                        1                     7  \n",
       "2                        0                     0  \n",
       "3                        3                     0  \n",
       "4                        2                     2  "
      ]
     },
     "execution_count": 52,
     "metadata": {},
     "output_type": "execute_result"
    }
   ],
   "source": [
    "dataset.head()"
   ]
  },
  {
   "cell_type": "code",
   "execution_count": 53,
   "id": "8d252f1c",
   "metadata": {},
   "outputs": [
    {
     "data": {
      "text/plain": [
       "0    1233\n",
       "1     237\n",
       "Name: Attrition, dtype: int64"
      ]
     },
     "execution_count": 53,
     "metadata": {},
     "output_type": "execute_result"
    }
   ],
   "source": [
    "dataset[\"Attrition\"] = dataset[\"Attrition\"].astype(\"category\")\n",
    "dataset[\"Attrition\"] = dataset[\"Attrition\"].cat.codes\n",
    "dataset[\"Attrition\"].value_counts()"
   ]
  },
  {
   "cell_type": "code",
   "execution_count": 54,
   "id": "421a7fb7",
   "metadata": {},
   "outputs": [],
   "source": [
    "#Corelation"
   ]
  },
  {
   "cell_type": "code",
   "execution_count": 55,
   "id": "a4f1750f",
   "metadata": {},
   "outputs": [
    {
     "data": {
      "text/html": [
       "<div>\n",
       "<style scoped>\n",
       "    .dataframe tbody tr th:only-of-type {\n",
       "        vertical-align: middle;\n",
       "    }\n",
       "\n",
       "    .dataframe tbody tr th {\n",
       "        vertical-align: top;\n",
       "    }\n",
       "\n",
       "    .dataframe thead th {\n",
       "        text-align: right;\n",
       "    }\n",
       "</style>\n",
       "<table border=\"1\" class=\"dataframe\">\n",
       "  <thead>\n",
       "    <tr style=\"text-align: right;\">\n",
       "      <th></th>\n",
       "      <th>Age</th>\n",
       "      <th>Attrition</th>\n",
       "      <th>BusinessTravel</th>\n",
       "      <th>DailyRate</th>\n",
       "      <th>Department</th>\n",
       "      <th>DistanceFromHome</th>\n",
       "      <th>Education</th>\n",
       "      <th>EducationField</th>\n",
       "      <th>EnvironmentSatisfaction</th>\n",
       "      <th>Gender</th>\n",
       "      <th>HourlyRate</th>\n",
       "      <th>JobInvolvement</th>\n",
       "      <th>JobLevel</th>\n",
       "      <th>JobRole</th>\n",
       "      <th>JobSatisfaction</th>\n",
       "      <th>MaritalStatus</th>\n",
       "      <th>MonthlyIncome</th>\n",
       "      <th>MonthlyRate</th>\n",
       "      <th>NumCompaniesWorked</th>\n",
       "      <th>OverTime</th>\n",
       "      <th>PercentSalaryHike</th>\n",
       "      <th>PerformanceRating</th>\n",
       "      <th>RelationshipSatisfaction</th>\n",
       "      <th>StockOptionLevel</th>\n",
       "      <th>TotalWorkingYears</th>\n",
       "      <th>TrainingTimesLastYear</th>\n",
       "      <th>WorkLifeBalance</th>\n",
       "      <th>YearsAtCompany</th>\n",
       "      <th>YearsInCurrentRole</th>\n",
       "      <th>YearsSinceLastPromotion</th>\n",
       "      <th>YearsWithCurrManager</th>\n",
       "    </tr>\n",
       "  </thead>\n",
       "  <tbody>\n",
       "    <tr>\n",
       "      <th>Age</th>\n",
       "      <td>1.000000</td>\n",
       "      <td>-0.159205</td>\n",
       "      <td>0.024751</td>\n",
       "      <td>0.000804</td>\n",
       "      <td>-0.031882</td>\n",
       "      <td>-0.001686</td>\n",
       "      <td>0.208034</td>\n",
       "      <td>-0.040873</td>\n",
       "      <td>0.010146</td>\n",
       "      <td>-0.036311</td>\n",
       "      <td>0.024287</td>\n",
       "      <td>0.029820</td>\n",
       "      <td>0.509604</td>\n",
       "      <td>-0.122427</td>\n",
       "      <td>-0.004892</td>\n",
       "      <td>-0.095029</td>\n",
       "      <td>0.497855</td>\n",
       "      <td>0.028051</td>\n",
       "      <td>0.299635</td>\n",
       "      <td>0.028062</td>\n",
       "      <td>0.003634</td>\n",
       "      <td>0.001904</td>\n",
       "      <td>0.053535</td>\n",
       "      <td>0.037510</td>\n",
       "      <td>0.680381</td>\n",
       "      <td>-0.019621</td>\n",
       "      <td>-0.021490</td>\n",
       "      <td>0.311309</td>\n",
       "      <td>0.212901</td>\n",
       "      <td>0.216513</td>\n",
       "      <td>0.202089</td>\n",
       "    </tr>\n",
       "    <tr>\n",
       "      <th>Attrition</th>\n",
       "      <td>-0.159205</td>\n",
       "      <td>1.000000</td>\n",
       "      <td>0.000074</td>\n",
       "      <td>-0.049561</td>\n",
       "      <td>0.063991</td>\n",
       "      <td>0.077924</td>\n",
       "      <td>-0.031373</td>\n",
       "      <td>0.026846</td>\n",
       "      <td>-0.103369</td>\n",
       "      <td>0.029453</td>\n",
       "      <td>-0.006846</td>\n",
       "      <td>-0.130016</td>\n",
       "      <td>-0.169105</td>\n",
       "      <td>0.067151</td>\n",
       "      <td>-0.103481</td>\n",
       "      <td>0.162070</td>\n",
       "      <td>-0.159840</td>\n",
       "      <td>0.015170</td>\n",
       "      <td>0.043494</td>\n",
       "      <td>0.246118</td>\n",
       "      <td>-0.013478</td>\n",
       "      <td>0.002889</td>\n",
       "      <td>-0.045872</td>\n",
       "      <td>-0.137145</td>\n",
       "      <td>-0.171063</td>\n",
       "      <td>-0.059478</td>\n",
       "      <td>-0.063939</td>\n",
       "      <td>-0.134392</td>\n",
       "      <td>-0.160545</td>\n",
       "      <td>-0.033019</td>\n",
       "      <td>-0.156199</td>\n",
       "    </tr>\n",
       "    <tr>\n",
       "      <th>BusinessTravel</th>\n",
       "      <td>0.024751</td>\n",
       "      <td>0.000074</td>\n",
       "      <td>1.000000</td>\n",
       "      <td>-0.008978</td>\n",
       "      <td>-0.009044</td>\n",
       "      <td>-0.024469</td>\n",
       "      <td>0.000757</td>\n",
       "      <td>0.023724</td>\n",
       "      <td>0.004174</td>\n",
       "      <td>-0.032981</td>\n",
       "      <td>0.026528</td>\n",
       "      <td>0.039062</td>\n",
       "      <td>0.019311</td>\n",
       "      <td>0.002724</td>\n",
       "      <td>-0.033962</td>\n",
       "      <td>0.024001</td>\n",
       "      <td>0.034319</td>\n",
       "      <td>-0.014107</td>\n",
       "      <td>0.020875</td>\n",
       "      <td>0.016543</td>\n",
       "      <td>-0.029377</td>\n",
       "      <td>-0.026341</td>\n",
       "      <td>-0.035986</td>\n",
       "      <td>-0.016727</td>\n",
       "      <td>0.034226</td>\n",
       "      <td>0.015240</td>\n",
       "      <td>-0.011256</td>\n",
       "      <td>-0.014575</td>\n",
       "      <td>-0.011497</td>\n",
       "      <td>-0.032591</td>\n",
       "      <td>-0.022636</td>\n",
       "    </tr>\n",
       "    <tr>\n",
       "      <th>DailyRate</th>\n",
       "      <td>0.000804</td>\n",
       "      <td>-0.049561</td>\n",
       "      <td>-0.008978</td>\n",
       "      <td>1.000000</td>\n",
       "      <td>0.012303</td>\n",
       "      <td>-0.014951</td>\n",
       "      <td>-0.017494</td>\n",
       "      <td>0.034744</td>\n",
       "      <td>0.018950</td>\n",
       "      <td>0.000997</td>\n",
       "      <td>0.029014</td>\n",
       "      <td>0.031838</td>\n",
       "      <td>0.002488</td>\n",
       "      <td>-0.000100</td>\n",
       "      <td>0.041904</td>\n",
       "      <td>-0.073347</td>\n",
       "      <td>0.007440</td>\n",
       "      <td>-0.028172</td>\n",
       "      <td>0.041985</td>\n",
       "      <td>0.009227</td>\n",
       "      <td>0.026133</td>\n",
       "      <td>0.002452</td>\n",
       "      <td>0.012191</td>\n",
       "      <td>0.049660</td>\n",
       "      <td>0.010456</td>\n",
       "      <td>-0.002628</td>\n",
       "      <td>-0.041801</td>\n",
       "      <td>-0.034723</td>\n",
       "      <td>0.012237</td>\n",
       "      <td>-0.034490</td>\n",
       "      <td>-0.028827</td>\n",
       "    </tr>\n",
       "    <tr>\n",
       "      <th>Department</th>\n",
       "      <td>-0.031882</td>\n",
       "      <td>0.063991</td>\n",
       "      <td>-0.009044</td>\n",
       "      <td>0.012303</td>\n",
       "      <td>1.000000</td>\n",
       "      <td>0.017225</td>\n",
       "      <td>0.007996</td>\n",
       "      <td>0.013720</td>\n",
       "      <td>-0.019395</td>\n",
       "      <td>-0.041583</td>\n",
       "      <td>-0.004144</td>\n",
       "      <td>-0.024586</td>\n",
       "      <td>0.101963</td>\n",
       "      <td>0.662431</td>\n",
       "      <td>0.021001</td>\n",
       "      <td>0.056073</td>\n",
       "      <td>0.053130</td>\n",
       "      <td>0.023642</td>\n",
       "      <td>-0.035882</td>\n",
       "      <td>0.007481</td>\n",
       "      <td>-0.007840</td>\n",
       "      <td>-0.024604</td>\n",
       "      <td>-0.022414</td>\n",
       "      <td>-0.012193</td>\n",
       "      <td>-0.015762</td>\n",
       "      <td>0.036875</td>\n",
       "      <td>0.026383</td>\n",
       "      <td>0.022920</td>\n",
       "      <td>0.056315</td>\n",
       "      <td>0.040061</td>\n",
       "      <td>0.034282</td>\n",
       "    </tr>\n",
       "    <tr>\n",
       "      <th>DistanceFromHome</th>\n",
       "      <td>-0.001686</td>\n",
       "      <td>0.077924</td>\n",
       "      <td>-0.024469</td>\n",
       "      <td>-0.014951</td>\n",
       "      <td>0.017225</td>\n",
       "      <td>1.000000</td>\n",
       "      <td>0.021042</td>\n",
       "      <td>0.002013</td>\n",
       "      <td>-0.016075</td>\n",
       "      <td>-0.001851</td>\n",
       "      <td>0.031131</td>\n",
       "      <td>0.008783</td>\n",
       "      <td>0.005303</td>\n",
       "      <td>-0.001015</td>\n",
       "      <td>-0.003669</td>\n",
       "      <td>-0.014437</td>\n",
       "      <td>-0.017014</td>\n",
       "      <td>0.027473</td>\n",
       "      <td>-0.029251</td>\n",
       "      <td>0.025514</td>\n",
       "      <td>0.040235</td>\n",
       "      <td>0.027110</td>\n",
       "      <td>0.006557</td>\n",
       "      <td>0.044872</td>\n",
       "      <td>0.004628</td>\n",
       "      <td>-0.036942</td>\n",
       "      <td>-0.026556</td>\n",
       "      <td>0.009508</td>\n",
       "      <td>0.018845</td>\n",
       "      <td>0.010029</td>\n",
       "      <td>0.014406</td>\n",
       "    </tr>\n",
       "    <tr>\n",
       "      <th>Education</th>\n",
       "      <td>0.208034</td>\n",
       "      <td>-0.031373</td>\n",
       "      <td>0.000757</td>\n",
       "      <td>-0.017494</td>\n",
       "      <td>0.007996</td>\n",
       "      <td>0.021042</td>\n",
       "      <td>1.000000</td>\n",
       "      <td>-0.039592</td>\n",
       "      <td>-0.027128</td>\n",
       "      <td>-0.016547</td>\n",
       "      <td>0.016775</td>\n",
       "      <td>0.042438</td>\n",
       "      <td>0.101589</td>\n",
       "      <td>0.004236</td>\n",
       "      <td>-0.011296</td>\n",
       "      <td>0.004053</td>\n",
       "      <td>0.094961</td>\n",
       "      <td>-0.026084</td>\n",
       "      <td>0.126317</td>\n",
       "      <td>-0.020322</td>\n",
       "      <td>-0.011111</td>\n",
       "      <td>-0.024539</td>\n",
       "      <td>-0.009118</td>\n",
       "      <td>0.018422</td>\n",
       "      <td>0.148280</td>\n",
       "      <td>-0.025100</td>\n",
       "      <td>0.009819</td>\n",
       "      <td>0.069114</td>\n",
       "      <td>0.060236</td>\n",
       "      <td>0.054254</td>\n",
       "      <td>0.069065</td>\n",
       "    </tr>\n",
       "    <tr>\n",
       "      <th>EducationField</th>\n",
       "      <td>-0.040873</td>\n",
       "      <td>0.026846</td>\n",
       "      <td>0.023724</td>\n",
       "      <td>0.034744</td>\n",
       "      <td>0.013720</td>\n",
       "      <td>0.002013</td>\n",
       "      <td>-0.039592</td>\n",
       "      <td>1.000000</td>\n",
       "      <td>0.043163</td>\n",
       "      <td>-0.002504</td>\n",
       "      <td>-0.021941</td>\n",
       "      <td>-0.002655</td>\n",
       "      <td>-0.044933</td>\n",
       "      <td>0.015599</td>\n",
       "      <td>-0.034401</td>\n",
       "      <td>0.014420</td>\n",
       "      <td>-0.041070</td>\n",
       "      <td>-0.027182</td>\n",
       "      <td>-0.008663</td>\n",
       "      <td>0.002259</td>\n",
       "      <td>-0.011214</td>\n",
       "      <td>-0.005614</td>\n",
       "      <td>-0.004378</td>\n",
       "      <td>-0.016185</td>\n",
       "      <td>-0.027848</td>\n",
       "      <td>0.049195</td>\n",
       "      <td>0.041191</td>\n",
       "      <td>-0.018692</td>\n",
       "      <td>-0.010506</td>\n",
       "      <td>0.002326</td>\n",
       "      <td>-0.004130</td>\n",
       "    </tr>\n",
       "    <tr>\n",
       "      <th>EnvironmentSatisfaction</th>\n",
       "      <td>0.010146</td>\n",
       "      <td>-0.103369</td>\n",
       "      <td>0.004174</td>\n",
       "      <td>0.018950</td>\n",
       "      <td>-0.019395</td>\n",
       "      <td>-0.016075</td>\n",
       "      <td>-0.027128</td>\n",
       "      <td>0.043163</td>\n",
       "      <td>1.000000</td>\n",
       "      <td>0.000508</td>\n",
       "      <td>-0.049857</td>\n",
       "      <td>-0.008278</td>\n",
       "      <td>0.001212</td>\n",
       "      <td>-0.017321</td>\n",
       "      <td>-0.006784</td>\n",
       "      <td>-0.003593</td>\n",
       "      <td>-0.006259</td>\n",
       "      <td>0.037600</td>\n",
       "      <td>0.012594</td>\n",
       "      <td>0.070132</td>\n",
       "      <td>-0.031701</td>\n",
       "      <td>-0.029548</td>\n",
       "      <td>0.007665</td>\n",
       "      <td>0.003432</td>\n",
       "      <td>-0.002693</td>\n",
       "      <td>-0.019359</td>\n",
       "      <td>0.027627</td>\n",
       "      <td>0.001458</td>\n",
       "      <td>0.018007</td>\n",
       "      <td>0.016194</td>\n",
       "      <td>-0.004999</td>\n",
       "    </tr>\n",
       "    <tr>\n",
       "      <th>Gender</th>\n",
       "      <td>-0.036311</td>\n",
       "      <td>0.029453</td>\n",
       "      <td>-0.032981</td>\n",
       "      <td>0.000997</td>\n",
       "      <td>-0.041583</td>\n",
       "      <td>-0.001851</td>\n",
       "      <td>-0.016547</td>\n",
       "      <td>-0.002504</td>\n",
       "      <td>0.000508</td>\n",
       "      <td>1.000000</td>\n",
       "      <td>-0.000478</td>\n",
       "      <td>0.017960</td>\n",
       "      <td>-0.039403</td>\n",
       "      <td>-0.039723</td>\n",
       "      <td>0.033252</td>\n",
       "      <td>-0.047183</td>\n",
       "      <td>-0.031858</td>\n",
       "      <td>-0.041482</td>\n",
       "      <td>-0.039147</td>\n",
       "      <td>-0.041924</td>\n",
       "      <td>0.002733</td>\n",
       "      <td>-0.013859</td>\n",
       "      <td>0.022868</td>\n",
       "      <td>0.012716</td>\n",
       "      <td>-0.046881</td>\n",
       "      <td>-0.038787</td>\n",
       "      <td>-0.002753</td>\n",
       "      <td>-0.029747</td>\n",
       "      <td>-0.041483</td>\n",
       "      <td>-0.026985</td>\n",
       "      <td>-0.030599</td>\n",
       "    </tr>\n",
       "    <tr>\n",
       "      <th>HourlyRate</th>\n",
       "      <td>0.024287</td>\n",
       "      <td>-0.006846</td>\n",
       "      <td>0.026528</td>\n",
       "      <td>0.029014</td>\n",
       "      <td>-0.004144</td>\n",
       "      <td>0.031131</td>\n",
       "      <td>0.016775</td>\n",
       "      <td>-0.021941</td>\n",
       "      <td>-0.049857</td>\n",
       "      <td>-0.000478</td>\n",
       "      <td>1.000000</td>\n",
       "      <td>0.042861</td>\n",
       "      <td>-0.027853</td>\n",
       "      <td>-0.018861</td>\n",
       "      <td>-0.071335</td>\n",
       "      <td>-0.017861</td>\n",
       "      <td>-0.015794</td>\n",
       "      <td>-0.015297</td>\n",
       "      <td>0.022157</td>\n",
       "      <td>-0.007782</td>\n",
       "      <td>-0.009062</td>\n",
       "      <td>-0.002172</td>\n",
       "      <td>0.001330</td>\n",
       "      <td>0.050263</td>\n",
       "      <td>-0.002334</td>\n",
       "      <td>-0.008548</td>\n",
       "      <td>-0.004607</td>\n",
       "      <td>-0.019582</td>\n",
       "      <td>-0.024106</td>\n",
       "      <td>-0.026716</td>\n",
       "      <td>-0.020123</td>\n",
       "    </tr>\n",
       "    <tr>\n",
       "      <th>JobInvolvement</th>\n",
       "      <td>0.029820</td>\n",
       "      <td>-0.130016</td>\n",
       "      <td>0.039062</td>\n",
       "      <td>0.031838</td>\n",
       "      <td>-0.024586</td>\n",
       "      <td>0.008783</td>\n",
       "      <td>0.042438</td>\n",
       "      <td>-0.002655</td>\n",
       "      <td>-0.008278</td>\n",
       "      <td>0.017960</td>\n",
       "      <td>0.042861</td>\n",
       "      <td>1.000000</td>\n",
       "      <td>-0.012630</td>\n",
       "      <td>0.006616</td>\n",
       "      <td>-0.021476</td>\n",
       "      <td>-0.038497</td>\n",
       "      <td>-0.015271</td>\n",
       "      <td>-0.016322</td>\n",
       "      <td>0.015012</td>\n",
       "      <td>-0.003507</td>\n",
       "      <td>-0.017205</td>\n",
       "      <td>-0.029071</td>\n",
       "      <td>0.034297</td>\n",
       "      <td>0.021523</td>\n",
       "      <td>-0.005533</td>\n",
       "      <td>-0.015338</td>\n",
       "      <td>-0.014617</td>\n",
       "      <td>-0.021355</td>\n",
       "      <td>0.008717</td>\n",
       "      <td>-0.024184</td>\n",
       "      <td>0.025976</td>\n",
       "    </tr>\n",
       "    <tr>\n",
       "      <th>JobLevel</th>\n",
       "      <td>0.509604</td>\n",
       "      <td>-0.169105</td>\n",
       "      <td>0.019311</td>\n",
       "      <td>0.002488</td>\n",
       "      <td>0.101963</td>\n",
       "      <td>0.005303</td>\n",
       "      <td>0.101589</td>\n",
       "      <td>-0.044933</td>\n",
       "      <td>0.001212</td>\n",
       "      <td>-0.039403</td>\n",
       "      <td>-0.027853</td>\n",
       "      <td>-0.012630</td>\n",
       "      <td>1.000000</td>\n",
       "      <td>-0.085457</td>\n",
       "      <td>-0.001944</td>\n",
       "      <td>-0.076769</td>\n",
       "      <td>0.950300</td>\n",
       "      <td>0.039563</td>\n",
       "      <td>0.142501</td>\n",
       "      <td>0.000544</td>\n",
       "      <td>-0.034730</td>\n",
       "      <td>-0.021222</td>\n",
       "      <td>0.021642</td>\n",
       "      <td>0.013984</td>\n",
       "      <td>0.782208</td>\n",
       "      <td>-0.018191</td>\n",
       "      <td>0.037818</td>\n",
       "      <td>0.534739</td>\n",
       "      <td>0.389447</td>\n",
       "      <td>0.353885</td>\n",
       "      <td>0.375281</td>\n",
       "    </tr>\n",
       "    <tr>\n",
       "      <th>JobRole</th>\n",
       "      <td>-0.122427</td>\n",
       "      <td>0.067151</td>\n",
       "      <td>0.002724</td>\n",
       "      <td>-0.000100</td>\n",
       "      <td>0.662431</td>\n",
       "      <td>-0.001015</td>\n",
       "      <td>0.004236</td>\n",
       "      <td>0.015599</td>\n",
       "      <td>-0.017321</td>\n",
       "      <td>-0.039723</td>\n",
       "      <td>-0.018861</td>\n",
       "      <td>0.006616</td>\n",
       "      <td>-0.085457</td>\n",
       "      <td>1.000000</td>\n",
       "      <td>0.017537</td>\n",
       "      <td>0.067957</td>\n",
       "      <td>-0.093951</td>\n",
       "      <td>0.005290</td>\n",
       "      <td>-0.056368</td>\n",
       "      <td>0.040662</td>\n",
       "      <td>-0.000848</td>\n",
       "      <td>-0.024233</td>\n",
       "      <td>-0.020218</td>\n",
       "      <td>-0.019171</td>\n",
       "      <td>-0.145439</td>\n",
       "      <td>0.001342</td>\n",
       "      <td>0.027764</td>\n",
       "      <td>-0.083657</td>\n",
       "      <td>-0.028354</td>\n",
       "      <td>-0.046384</td>\n",
       "      <td>-0.041150</td>\n",
       "    </tr>\n",
       "    <tr>\n",
       "      <th>JobSatisfaction</th>\n",
       "      <td>-0.004892</td>\n",
       "      <td>-0.103481</td>\n",
       "      <td>-0.033962</td>\n",
       "      <td>0.041904</td>\n",
       "      <td>0.021001</td>\n",
       "      <td>-0.003669</td>\n",
       "      <td>-0.011296</td>\n",
       "      <td>-0.034401</td>\n",
       "      <td>-0.006784</td>\n",
       "      <td>0.033252</td>\n",
       "      <td>-0.071335</td>\n",
       "      <td>-0.021476</td>\n",
       "      <td>-0.001944</td>\n",
       "      <td>0.017537</td>\n",
       "      <td>1.000000</td>\n",
       "      <td>0.024360</td>\n",
       "      <td>-0.007157</td>\n",
       "      <td>0.000644</td>\n",
       "      <td>-0.055699</td>\n",
       "      <td>0.024539</td>\n",
       "      <td>0.020002</td>\n",
       "      <td>0.002297</td>\n",
       "      <td>-0.012454</td>\n",
       "      <td>0.010690</td>\n",
       "      <td>-0.020185</td>\n",
       "      <td>-0.005779</td>\n",
       "      <td>-0.019459</td>\n",
       "      <td>-0.003803</td>\n",
       "      <td>-0.002305</td>\n",
       "      <td>-0.018214</td>\n",
       "      <td>-0.027656</td>\n",
       "    </tr>\n",
       "    <tr>\n",
       "      <th>MaritalStatus</th>\n",
       "      <td>-0.095029</td>\n",
       "      <td>0.162070</td>\n",
       "      <td>0.024001</td>\n",
       "      <td>-0.073347</td>\n",
       "      <td>0.056073</td>\n",
       "      <td>-0.014437</td>\n",
       "      <td>0.004053</td>\n",
       "      <td>0.014420</td>\n",
       "      <td>-0.003593</td>\n",
       "      <td>-0.047183</td>\n",
       "      <td>-0.017861</td>\n",
       "      <td>-0.038497</td>\n",
       "      <td>-0.076769</td>\n",
       "      <td>0.067957</td>\n",
       "      <td>0.024360</td>\n",
       "      <td>1.000000</td>\n",
       "      <td>-0.075450</td>\n",
       "      <td>0.023937</td>\n",
       "      <td>-0.035505</td>\n",
       "      <td>-0.017521</td>\n",
       "      <td>0.012492</td>\n",
       "      <td>0.005207</td>\n",
       "      <td>0.022549</td>\n",
       "      <td>-0.662577</td>\n",
       "      <td>-0.077886</td>\n",
       "      <td>0.010629</td>\n",
       "      <td>0.014708</td>\n",
       "      <td>-0.059986</td>\n",
       "      <td>-0.065822</td>\n",
       "      <td>-0.030915</td>\n",
       "      <td>-0.038570</td>\n",
       "    </tr>\n",
       "    <tr>\n",
       "      <th>MonthlyIncome</th>\n",
       "      <td>0.497855</td>\n",
       "      <td>-0.159840</td>\n",
       "      <td>0.034319</td>\n",
       "      <td>0.007440</td>\n",
       "      <td>0.053130</td>\n",
       "      <td>-0.017014</td>\n",
       "      <td>0.094961</td>\n",
       "      <td>-0.041070</td>\n",
       "      <td>-0.006259</td>\n",
       "      <td>-0.031858</td>\n",
       "      <td>-0.015794</td>\n",
       "      <td>-0.015271</td>\n",
       "      <td>0.950300</td>\n",
       "      <td>-0.093951</td>\n",
       "      <td>-0.007157</td>\n",
       "      <td>-0.075450</td>\n",
       "      <td>1.000000</td>\n",
       "      <td>0.034814</td>\n",
       "      <td>0.149515</td>\n",
       "      <td>0.006089</td>\n",
       "      <td>-0.027269</td>\n",
       "      <td>-0.017120</td>\n",
       "      <td>0.025873</td>\n",
       "      <td>0.005408</td>\n",
       "      <td>0.772893</td>\n",
       "      <td>-0.021736</td>\n",
       "      <td>0.030683</td>\n",
       "      <td>0.514285</td>\n",
       "      <td>0.363818</td>\n",
       "      <td>0.344978</td>\n",
       "      <td>0.344079</td>\n",
       "    </tr>\n",
       "    <tr>\n",
       "      <th>MonthlyRate</th>\n",
       "      <td>0.028051</td>\n",
       "      <td>0.015170</td>\n",
       "      <td>-0.014107</td>\n",
       "      <td>-0.028172</td>\n",
       "      <td>0.023642</td>\n",
       "      <td>0.027473</td>\n",
       "      <td>-0.026084</td>\n",
       "      <td>-0.027182</td>\n",
       "      <td>0.037600</td>\n",
       "      <td>-0.041482</td>\n",
       "      <td>-0.015297</td>\n",
       "      <td>-0.016322</td>\n",
       "      <td>0.039563</td>\n",
       "      <td>0.005290</td>\n",
       "      <td>0.000644</td>\n",
       "      <td>0.023937</td>\n",
       "      <td>0.034814</td>\n",
       "      <td>1.000000</td>\n",
       "      <td>0.017521</td>\n",
       "      <td>0.021431</td>\n",
       "      <td>-0.006429</td>\n",
       "      <td>-0.009811</td>\n",
       "      <td>-0.004085</td>\n",
       "      <td>-0.034323</td>\n",
       "      <td>0.026442</td>\n",
       "      <td>0.001467</td>\n",
       "      <td>0.007963</td>\n",
       "      <td>-0.023655</td>\n",
       "      <td>-0.012815</td>\n",
       "      <td>0.001567</td>\n",
       "      <td>-0.036746</td>\n",
       "    </tr>\n",
       "    <tr>\n",
       "      <th>NumCompaniesWorked</th>\n",
       "      <td>0.299635</td>\n",
       "      <td>0.043494</td>\n",
       "      <td>0.020875</td>\n",
       "      <td>0.041985</td>\n",
       "      <td>-0.035882</td>\n",
       "      <td>-0.029251</td>\n",
       "      <td>0.126317</td>\n",
       "      <td>-0.008663</td>\n",
       "      <td>0.012594</td>\n",
       "      <td>-0.039147</td>\n",
       "      <td>0.022157</td>\n",
       "      <td>0.015012</td>\n",
       "      <td>0.142501</td>\n",
       "      <td>-0.056368</td>\n",
       "      <td>-0.055699</td>\n",
       "      <td>-0.035505</td>\n",
       "      <td>0.149515</td>\n",
       "      <td>0.017521</td>\n",
       "      <td>1.000000</td>\n",
       "      <td>-0.020786</td>\n",
       "      <td>-0.010238</td>\n",
       "      <td>-0.014095</td>\n",
       "      <td>0.052733</td>\n",
       "      <td>0.030075</td>\n",
       "      <td>0.237639</td>\n",
       "      <td>-0.066054</td>\n",
       "      <td>-0.008366</td>\n",
       "      <td>-0.118421</td>\n",
       "      <td>-0.090754</td>\n",
       "      <td>-0.036814</td>\n",
       "      <td>-0.110319</td>\n",
       "    </tr>\n",
       "    <tr>\n",
       "      <th>OverTime</th>\n",
       "      <td>0.028062</td>\n",
       "      <td>0.246118</td>\n",
       "      <td>0.016543</td>\n",
       "      <td>0.009227</td>\n",
       "      <td>0.007481</td>\n",
       "      <td>0.025514</td>\n",
       "      <td>-0.020322</td>\n",
       "      <td>0.002259</td>\n",
       "      <td>0.070132</td>\n",
       "      <td>-0.041924</td>\n",
       "      <td>-0.007782</td>\n",
       "      <td>-0.003507</td>\n",
       "      <td>0.000544</td>\n",
       "      <td>0.040662</td>\n",
       "      <td>0.024539</td>\n",
       "      <td>-0.017521</td>\n",
       "      <td>0.006089</td>\n",
       "      <td>0.021431</td>\n",
       "      <td>-0.020786</td>\n",
       "      <td>1.000000</td>\n",
       "      <td>-0.005433</td>\n",
       "      <td>0.004369</td>\n",
       "      <td>0.048493</td>\n",
       "      <td>-0.000449</td>\n",
       "      <td>0.012754</td>\n",
       "      <td>-0.079113</td>\n",
       "      <td>-0.027092</td>\n",
       "      <td>-0.011687</td>\n",
       "      <td>-0.029758</td>\n",
       "      <td>-0.012239</td>\n",
       "      <td>-0.041586</td>\n",
       "    </tr>\n",
       "    <tr>\n",
       "      <th>PercentSalaryHike</th>\n",
       "      <td>0.003634</td>\n",
       "      <td>-0.013478</td>\n",
       "      <td>-0.029377</td>\n",
       "      <td>0.026133</td>\n",
       "      <td>-0.007840</td>\n",
       "      <td>0.040235</td>\n",
       "      <td>-0.011111</td>\n",
       "      <td>-0.011214</td>\n",
       "      <td>-0.031701</td>\n",
       "      <td>0.002733</td>\n",
       "      <td>-0.009062</td>\n",
       "      <td>-0.017205</td>\n",
       "      <td>-0.034730</td>\n",
       "      <td>-0.000848</td>\n",
       "      <td>0.020002</td>\n",
       "      <td>0.012492</td>\n",
       "      <td>-0.027269</td>\n",
       "      <td>-0.006429</td>\n",
       "      <td>-0.010238</td>\n",
       "      <td>-0.005433</td>\n",
       "      <td>1.000000</td>\n",
       "      <td>0.773550</td>\n",
       "      <td>-0.040490</td>\n",
       "      <td>0.007528</td>\n",
       "      <td>-0.020608</td>\n",
       "      <td>-0.005221</td>\n",
       "      <td>-0.003280</td>\n",
       "      <td>-0.035991</td>\n",
       "      <td>-0.001520</td>\n",
       "      <td>-0.022154</td>\n",
       "      <td>-0.011985</td>\n",
       "    </tr>\n",
       "    <tr>\n",
       "      <th>PerformanceRating</th>\n",
       "      <td>0.001904</td>\n",
       "      <td>0.002889</td>\n",
       "      <td>-0.026341</td>\n",
       "      <td>0.002452</td>\n",
       "      <td>-0.024604</td>\n",
       "      <td>0.027110</td>\n",
       "      <td>-0.024539</td>\n",
       "      <td>-0.005614</td>\n",
       "      <td>-0.029548</td>\n",
       "      <td>-0.013859</td>\n",
       "      <td>-0.002172</td>\n",
       "      <td>-0.029071</td>\n",
       "      <td>-0.021222</td>\n",
       "      <td>-0.024233</td>\n",
       "      <td>0.002297</td>\n",
       "      <td>0.005207</td>\n",
       "      <td>-0.017120</td>\n",
       "      <td>-0.009811</td>\n",
       "      <td>-0.014095</td>\n",
       "      <td>0.004369</td>\n",
       "      <td>0.773550</td>\n",
       "      <td>1.000000</td>\n",
       "      <td>-0.031351</td>\n",
       "      <td>0.003506</td>\n",
       "      <td>0.006744</td>\n",
       "      <td>-0.015579</td>\n",
       "      <td>0.002572</td>\n",
       "      <td>0.003435</td>\n",
       "      <td>0.034986</td>\n",
       "      <td>0.017896</td>\n",
       "      <td>0.022827</td>\n",
       "    </tr>\n",
       "    <tr>\n",
       "      <th>RelationshipSatisfaction</th>\n",
       "      <td>0.053535</td>\n",
       "      <td>-0.045872</td>\n",
       "      <td>-0.035986</td>\n",
       "      <td>0.012191</td>\n",
       "      <td>-0.022414</td>\n",
       "      <td>0.006557</td>\n",
       "      <td>-0.009118</td>\n",
       "      <td>-0.004378</td>\n",
       "      <td>0.007665</td>\n",
       "      <td>0.022868</td>\n",
       "      <td>0.001330</td>\n",
       "      <td>0.034297</td>\n",
       "      <td>0.021642</td>\n",
       "      <td>-0.020218</td>\n",
       "      <td>-0.012454</td>\n",
       "      <td>0.022549</td>\n",
       "      <td>0.025873</td>\n",
       "      <td>-0.004085</td>\n",
       "      <td>0.052733</td>\n",
       "      <td>0.048493</td>\n",
       "      <td>-0.040490</td>\n",
       "      <td>-0.031351</td>\n",
       "      <td>1.000000</td>\n",
       "      <td>-0.045952</td>\n",
       "      <td>0.024054</td>\n",
       "      <td>0.002497</td>\n",
       "      <td>0.019604</td>\n",
       "      <td>0.019367</td>\n",
       "      <td>-0.015123</td>\n",
       "      <td>0.033493</td>\n",
       "      <td>-0.000867</td>\n",
       "    </tr>\n",
       "    <tr>\n",
       "      <th>StockOptionLevel</th>\n",
       "      <td>0.037510</td>\n",
       "      <td>-0.137145</td>\n",
       "      <td>-0.016727</td>\n",
       "      <td>0.049660</td>\n",
       "      <td>-0.012193</td>\n",
       "      <td>0.044872</td>\n",
       "      <td>0.018422</td>\n",
       "      <td>-0.016185</td>\n",
       "      <td>0.003432</td>\n",
       "      <td>0.012716</td>\n",
       "      <td>0.050263</td>\n",
       "      <td>0.021523</td>\n",
       "      <td>0.013984</td>\n",
       "      <td>-0.019171</td>\n",
       "      <td>0.010690</td>\n",
       "      <td>-0.662577</td>\n",
       "      <td>0.005408</td>\n",
       "      <td>-0.034323</td>\n",
       "      <td>0.030075</td>\n",
       "      <td>-0.000449</td>\n",
       "      <td>0.007528</td>\n",
       "      <td>0.003506</td>\n",
       "      <td>-0.045952</td>\n",
       "      <td>1.000000</td>\n",
       "      <td>0.010136</td>\n",
       "      <td>0.011274</td>\n",
       "      <td>0.004129</td>\n",
       "      <td>0.015058</td>\n",
       "      <td>0.050818</td>\n",
       "      <td>0.014352</td>\n",
       "      <td>0.024698</td>\n",
       "    </tr>\n",
       "    <tr>\n",
       "      <th>TotalWorkingYears</th>\n",
       "      <td>0.680381</td>\n",
       "      <td>-0.171063</td>\n",
       "      <td>0.034226</td>\n",
       "      <td>0.010456</td>\n",
       "      <td>-0.015762</td>\n",
       "      <td>0.004628</td>\n",
       "      <td>0.148280</td>\n",
       "      <td>-0.027848</td>\n",
       "      <td>-0.002693</td>\n",
       "      <td>-0.046881</td>\n",
       "      <td>-0.002334</td>\n",
       "      <td>-0.005533</td>\n",
       "      <td>0.782208</td>\n",
       "      <td>-0.145439</td>\n",
       "      <td>-0.020185</td>\n",
       "      <td>-0.077886</td>\n",
       "      <td>0.772893</td>\n",
       "      <td>0.026442</td>\n",
       "      <td>0.237639</td>\n",
       "      <td>0.012754</td>\n",
       "      <td>-0.020608</td>\n",
       "      <td>0.006744</td>\n",
       "      <td>0.024054</td>\n",
       "      <td>0.010136</td>\n",
       "      <td>1.000000</td>\n",
       "      <td>-0.035662</td>\n",
       "      <td>0.001008</td>\n",
       "      <td>0.628133</td>\n",
       "      <td>0.460365</td>\n",
       "      <td>0.404858</td>\n",
       "      <td>0.459188</td>\n",
       "    </tr>\n",
       "    <tr>\n",
       "      <th>TrainingTimesLastYear</th>\n",
       "      <td>-0.019621</td>\n",
       "      <td>-0.059478</td>\n",
       "      <td>0.015240</td>\n",
       "      <td>-0.002628</td>\n",
       "      <td>0.036875</td>\n",
       "      <td>-0.036942</td>\n",
       "      <td>-0.025100</td>\n",
       "      <td>0.049195</td>\n",
       "      <td>-0.019359</td>\n",
       "      <td>-0.038787</td>\n",
       "      <td>-0.008548</td>\n",
       "      <td>-0.015338</td>\n",
       "      <td>-0.018191</td>\n",
       "      <td>0.001342</td>\n",
       "      <td>-0.005779</td>\n",
       "      <td>0.010629</td>\n",
       "      <td>-0.021736</td>\n",
       "      <td>0.001467</td>\n",
       "      <td>-0.066054</td>\n",
       "      <td>-0.079113</td>\n",
       "      <td>-0.005221</td>\n",
       "      <td>-0.015579</td>\n",
       "      <td>0.002497</td>\n",
       "      <td>0.011274</td>\n",
       "      <td>-0.035662</td>\n",
       "      <td>1.000000</td>\n",
       "      <td>0.028072</td>\n",
       "      <td>0.003569</td>\n",
       "      <td>-0.005738</td>\n",
       "      <td>-0.002067</td>\n",
       "      <td>-0.004096</td>\n",
       "    </tr>\n",
       "    <tr>\n",
       "      <th>WorkLifeBalance</th>\n",
       "      <td>-0.021490</td>\n",
       "      <td>-0.063939</td>\n",
       "      <td>-0.011256</td>\n",
       "      <td>-0.041801</td>\n",
       "      <td>0.026383</td>\n",
       "      <td>-0.026556</td>\n",
       "      <td>0.009819</td>\n",
       "      <td>0.041191</td>\n",
       "      <td>0.027627</td>\n",
       "      <td>-0.002753</td>\n",
       "      <td>-0.004607</td>\n",
       "      <td>-0.014617</td>\n",
       "      <td>0.037818</td>\n",
       "      <td>0.027764</td>\n",
       "      <td>-0.019459</td>\n",
       "      <td>0.014708</td>\n",
       "      <td>0.030683</td>\n",
       "      <td>0.007963</td>\n",
       "      <td>-0.008366</td>\n",
       "      <td>-0.027092</td>\n",
       "      <td>-0.003280</td>\n",
       "      <td>0.002572</td>\n",
       "      <td>0.019604</td>\n",
       "      <td>0.004129</td>\n",
       "      <td>0.001008</td>\n",
       "      <td>0.028072</td>\n",
       "      <td>1.000000</td>\n",
       "      <td>0.012089</td>\n",
       "      <td>0.049856</td>\n",
       "      <td>0.008941</td>\n",
       "      <td>0.002759</td>\n",
       "    </tr>\n",
       "    <tr>\n",
       "      <th>YearsAtCompany</th>\n",
       "      <td>0.311309</td>\n",
       "      <td>-0.134392</td>\n",
       "      <td>-0.014575</td>\n",
       "      <td>-0.034723</td>\n",
       "      <td>0.022920</td>\n",
       "      <td>0.009508</td>\n",
       "      <td>0.069114</td>\n",
       "      <td>-0.018692</td>\n",
       "      <td>0.001458</td>\n",
       "      <td>-0.029747</td>\n",
       "      <td>-0.019582</td>\n",
       "      <td>-0.021355</td>\n",
       "      <td>0.534739</td>\n",
       "      <td>-0.083657</td>\n",
       "      <td>-0.003803</td>\n",
       "      <td>-0.059986</td>\n",
       "      <td>0.514285</td>\n",
       "      <td>-0.023655</td>\n",
       "      <td>-0.118421</td>\n",
       "      <td>-0.011687</td>\n",
       "      <td>-0.035991</td>\n",
       "      <td>0.003435</td>\n",
       "      <td>0.019367</td>\n",
       "      <td>0.015058</td>\n",
       "      <td>0.628133</td>\n",
       "      <td>0.003569</td>\n",
       "      <td>0.012089</td>\n",
       "      <td>1.000000</td>\n",
       "      <td>0.758754</td>\n",
       "      <td>0.618409</td>\n",
       "      <td>0.769212</td>\n",
       "    </tr>\n",
       "    <tr>\n",
       "      <th>YearsInCurrentRole</th>\n",
       "      <td>0.212901</td>\n",
       "      <td>-0.160545</td>\n",
       "      <td>-0.011497</td>\n",
       "      <td>0.012237</td>\n",
       "      <td>0.056315</td>\n",
       "      <td>0.018845</td>\n",
       "      <td>0.060236</td>\n",
       "      <td>-0.010506</td>\n",
       "      <td>0.018007</td>\n",
       "      <td>-0.041483</td>\n",
       "      <td>-0.024106</td>\n",
       "      <td>0.008717</td>\n",
       "      <td>0.389447</td>\n",
       "      <td>-0.028354</td>\n",
       "      <td>-0.002305</td>\n",
       "      <td>-0.065822</td>\n",
       "      <td>0.363818</td>\n",
       "      <td>-0.012815</td>\n",
       "      <td>-0.090754</td>\n",
       "      <td>-0.029758</td>\n",
       "      <td>-0.001520</td>\n",
       "      <td>0.034986</td>\n",
       "      <td>-0.015123</td>\n",
       "      <td>0.050818</td>\n",
       "      <td>0.460365</td>\n",
       "      <td>-0.005738</td>\n",
       "      <td>0.049856</td>\n",
       "      <td>0.758754</td>\n",
       "      <td>1.000000</td>\n",
       "      <td>0.548056</td>\n",
       "      <td>0.714365</td>\n",
       "    </tr>\n",
       "    <tr>\n",
       "      <th>YearsSinceLastPromotion</th>\n",
       "      <td>0.216513</td>\n",
       "      <td>-0.033019</td>\n",
       "      <td>-0.032591</td>\n",
       "      <td>-0.034490</td>\n",
       "      <td>0.040061</td>\n",
       "      <td>0.010029</td>\n",
       "      <td>0.054254</td>\n",
       "      <td>0.002326</td>\n",
       "      <td>0.016194</td>\n",
       "      <td>-0.026985</td>\n",
       "      <td>-0.026716</td>\n",
       "      <td>-0.024184</td>\n",
       "      <td>0.353885</td>\n",
       "      <td>-0.046384</td>\n",
       "      <td>-0.018214</td>\n",
       "      <td>-0.030915</td>\n",
       "      <td>0.344978</td>\n",
       "      <td>0.001567</td>\n",
       "      <td>-0.036814</td>\n",
       "      <td>-0.012239</td>\n",
       "      <td>-0.022154</td>\n",
       "      <td>0.017896</td>\n",
       "      <td>0.033493</td>\n",
       "      <td>0.014352</td>\n",
       "      <td>0.404858</td>\n",
       "      <td>-0.002067</td>\n",
       "      <td>0.008941</td>\n",
       "      <td>0.618409</td>\n",
       "      <td>0.548056</td>\n",
       "      <td>1.000000</td>\n",
       "      <td>0.510224</td>\n",
       "    </tr>\n",
       "    <tr>\n",
       "      <th>YearsWithCurrManager</th>\n",
       "      <td>0.202089</td>\n",
       "      <td>-0.156199</td>\n",
       "      <td>-0.022636</td>\n",
       "      <td>-0.028827</td>\n",
       "      <td>0.034282</td>\n",
       "      <td>0.014406</td>\n",
       "      <td>0.069065</td>\n",
       "      <td>-0.004130</td>\n",
       "      <td>-0.004999</td>\n",
       "      <td>-0.030599</td>\n",
       "      <td>-0.020123</td>\n",
       "      <td>0.025976</td>\n",
       "      <td>0.375281</td>\n",
       "      <td>-0.041150</td>\n",
       "      <td>-0.027656</td>\n",
       "      <td>-0.038570</td>\n",
       "      <td>0.344079</td>\n",
       "      <td>-0.036746</td>\n",
       "      <td>-0.110319</td>\n",
       "      <td>-0.041586</td>\n",
       "      <td>-0.011985</td>\n",
       "      <td>0.022827</td>\n",
       "      <td>-0.000867</td>\n",
       "      <td>0.024698</td>\n",
       "      <td>0.459188</td>\n",
       "      <td>-0.004096</td>\n",
       "      <td>0.002759</td>\n",
       "      <td>0.769212</td>\n",
       "      <td>0.714365</td>\n",
       "      <td>0.510224</td>\n",
       "      <td>1.000000</td>\n",
       "    </tr>\n",
       "  </tbody>\n",
       "</table>\n",
       "</div>"
      ],
      "text/plain": [
       "                               Age  Attrition  BusinessTravel  DailyRate  \\\n",
       "Age                       1.000000  -0.159205        0.024751   0.000804   \n",
       "Attrition                -0.159205   1.000000        0.000074  -0.049561   \n",
       "BusinessTravel            0.024751   0.000074        1.000000  -0.008978   \n",
       "DailyRate                 0.000804  -0.049561       -0.008978   1.000000   \n",
       "Department               -0.031882   0.063991       -0.009044   0.012303   \n",
       "DistanceFromHome         -0.001686   0.077924       -0.024469  -0.014951   \n",
       "Education                 0.208034  -0.031373        0.000757  -0.017494   \n",
       "EducationField           -0.040873   0.026846        0.023724   0.034744   \n",
       "EnvironmentSatisfaction   0.010146  -0.103369        0.004174   0.018950   \n",
       "Gender                   -0.036311   0.029453       -0.032981   0.000997   \n",
       "HourlyRate                0.024287  -0.006846        0.026528   0.029014   \n",
       "JobInvolvement            0.029820  -0.130016        0.039062   0.031838   \n",
       "JobLevel                  0.509604  -0.169105        0.019311   0.002488   \n",
       "JobRole                  -0.122427   0.067151        0.002724  -0.000100   \n",
       "JobSatisfaction          -0.004892  -0.103481       -0.033962   0.041904   \n",
       "MaritalStatus            -0.095029   0.162070        0.024001  -0.073347   \n",
       "MonthlyIncome             0.497855  -0.159840        0.034319   0.007440   \n",
       "MonthlyRate               0.028051   0.015170       -0.014107  -0.028172   \n",
       "NumCompaniesWorked        0.299635   0.043494        0.020875   0.041985   \n",
       "OverTime                  0.028062   0.246118        0.016543   0.009227   \n",
       "PercentSalaryHike         0.003634  -0.013478       -0.029377   0.026133   \n",
       "PerformanceRating         0.001904   0.002889       -0.026341   0.002452   \n",
       "RelationshipSatisfaction  0.053535  -0.045872       -0.035986   0.012191   \n",
       "StockOptionLevel          0.037510  -0.137145       -0.016727   0.049660   \n",
       "TotalWorkingYears         0.680381  -0.171063        0.034226   0.010456   \n",
       "TrainingTimesLastYear    -0.019621  -0.059478        0.015240  -0.002628   \n",
       "WorkLifeBalance          -0.021490  -0.063939       -0.011256  -0.041801   \n",
       "YearsAtCompany            0.311309  -0.134392       -0.014575  -0.034723   \n",
       "YearsInCurrentRole        0.212901  -0.160545       -0.011497   0.012237   \n",
       "YearsSinceLastPromotion   0.216513  -0.033019       -0.032591  -0.034490   \n",
       "YearsWithCurrManager      0.202089  -0.156199       -0.022636  -0.028827   \n",
       "\n",
       "                          Department  DistanceFromHome  Education  \\\n",
       "Age                        -0.031882         -0.001686   0.208034   \n",
       "Attrition                   0.063991          0.077924  -0.031373   \n",
       "BusinessTravel             -0.009044         -0.024469   0.000757   \n",
       "DailyRate                   0.012303         -0.014951  -0.017494   \n",
       "Department                  1.000000          0.017225   0.007996   \n",
       "DistanceFromHome            0.017225          1.000000   0.021042   \n",
       "Education                   0.007996          0.021042   1.000000   \n",
       "EducationField              0.013720          0.002013  -0.039592   \n",
       "EnvironmentSatisfaction    -0.019395         -0.016075  -0.027128   \n",
       "Gender                     -0.041583         -0.001851  -0.016547   \n",
       "HourlyRate                 -0.004144          0.031131   0.016775   \n",
       "JobInvolvement             -0.024586          0.008783   0.042438   \n",
       "JobLevel                    0.101963          0.005303   0.101589   \n",
       "JobRole                     0.662431         -0.001015   0.004236   \n",
       "JobSatisfaction             0.021001         -0.003669  -0.011296   \n",
       "MaritalStatus               0.056073         -0.014437   0.004053   \n",
       "MonthlyIncome               0.053130         -0.017014   0.094961   \n",
       "MonthlyRate                 0.023642          0.027473  -0.026084   \n",
       "NumCompaniesWorked         -0.035882         -0.029251   0.126317   \n",
       "OverTime                    0.007481          0.025514  -0.020322   \n",
       "PercentSalaryHike          -0.007840          0.040235  -0.011111   \n",
       "PerformanceRating          -0.024604          0.027110  -0.024539   \n",
       "RelationshipSatisfaction   -0.022414          0.006557  -0.009118   \n",
       "StockOptionLevel           -0.012193          0.044872   0.018422   \n",
       "TotalWorkingYears          -0.015762          0.004628   0.148280   \n",
       "TrainingTimesLastYear       0.036875         -0.036942  -0.025100   \n",
       "WorkLifeBalance             0.026383         -0.026556   0.009819   \n",
       "YearsAtCompany              0.022920          0.009508   0.069114   \n",
       "YearsInCurrentRole          0.056315          0.018845   0.060236   \n",
       "YearsSinceLastPromotion     0.040061          0.010029   0.054254   \n",
       "YearsWithCurrManager        0.034282          0.014406   0.069065   \n",
       "\n",
       "                          EducationField  EnvironmentSatisfaction    Gender  \\\n",
       "Age                            -0.040873                 0.010146 -0.036311   \n",
       "Attrition                       0.026846                -0.103369  0.029453   \n",
       "BusinessTravel                  0.023724                 0.004174 -0.032981   \n",
       "DailyRate                       0.034744                 0.018950  0.000997   \n",
       "Department                      0.013720                -0.019395 -0.041583   \n",
       "DistanceFromHome                0.002013                -0.016075 -0.001851   \n",
       "Education                      -0.039592                -0.027128 -0.016547   \n",
       "EducationField                  1.000000                 0.043163 -0.002504   \n",
       "EnvironmentSatisfaction         0.043163                 1.000000  0.000508   \n",
       "Gender                         -0.002504                 0.000508  1.000000   \n",
       "HourlyRate                     -0.021941                -0.049857 -0.000478   \n",
       "JobInvolvement                 -0.002655                -0.008278  0.017960   \n",
       "JobLevel                       -0.044933                 0.001212 -0.039403   \n",
       "JobRole                         0.015599                -0.017321 -0.039723   \n",
       "JobSatisfaction                -0.034401                -0.006784  0.033252   \n",
       "MaritalStatus                   0.014420                -0.003593 -0.047183   \n",
       "MonthlyIncome                  -0.041070                -0.006259 -0.031858   \n",
       "MonthlyRate                    -0.027182                 0.037600 -0.041482   \n",
       "NumCompaniesWorked             -0.008663                 0.012594 -0.039147   \n",
       "OverTime                        0.002259                 0.070132 -0.041924   \n",
       "PercentSalaryHike              -0.011214                -0.031701  0.002733   \n",
       "PerformanceRating              -0.005614                -0.029548 -0.013859   \n",
       "RelationshipSatisfaction       -0.004378                 0.007665  0.022868   \n",
       "StockOptionLevel               -0.016185                 0.003432  0.012716   \n",
       "TotalWorkingYears              -0.027848                -0.002693 -0.046881   \n",
       "TrainingTimesLastYear           0.049195                -0.019359 -0.038787   \n",
       "WorkLifeBalance                 0.041191                 0.027627 -0.002753   \n",
       "YearsAtCompany                 -0.018692                 0.001458 -0.029747   \n",
       "YearsInCurrentRole             -0.010506                 0.018007 -0.041483   \n",
       "YearsSinceLastPromotion         0.002326                 0.016194 -0.026985   \n",
       "YearsWithCurrManager           -0.004130                -0.004999 -0.030599   \n",
       "\n",
       "                          HourlyRate  JobInvolvement  JobLevel   JobRole  \\\n",
       "Age                         0.024287        0.029820  0.509604 -0.122427   \n",
       "Attrition                  -0.006846       -0.130016 -0.169105  0.067151   \n",
       "BusinessTravel              0.026528        0.039062  0.019311  0.002724   \n",
       "DailyRate                   0.029014        0.031838  0.002488 -0.000100   \n",
       "Department                 -0.004144       -0.024586  0.101963  0.662431   \n",
       "DistanceFromHome            0.031131        0.008783  0.005303 -0.001015   \n",
       "Education                   0.016775        0.042438  0.101589  0.004236   \n",
       "EducationField             -0.021941       -0.002655 -0.044933  0.015599   \n",
       "EnvironmentSatisfaction    -0.049857       -0.008278  0.001212 -0.017321   \n",
       "Gender                     -0.000478        0.017960 -0.039403 -0.039723   \n",
       "HourlyRate                  1.000000        0.042861 -0.027853 -0.018861   \n",
       "JobInvolvement              0.042861        1.000000 -0.012630  0.006616   \n",
       "JobLevel                   -0.027853       -0.012630  1.000000 -0.085457   \n",
       "JobRole                    -0.018861        0.006616 -0.085457  1.000000   \n",
       "JobSatisfaction            -0.071335       -0.021476 -0.001944  0.017537   \n",
       "MaritalStatus              -0.017861       -0.038497 -0.076769  0.067957   \n",
       "MonthlyIncome              -0.015794       -0.015271  0.950300 -0.093951   \n",
       "MonthlyRate                -0.015297       -0.016322  0.039563  0.005290   \n",
       "NumCompaniesWorked          0.022157        0.015012  0.142501 -0.056368   \n",
       "OverTime                   -0.007782       -0.003507  0.000544  0.040662   \n",
       "PercentSalaryHike          -0.009062       -0.017205 -0.034730 -0.000848   \n",
       "PerformanceRating          -0.002172       -0.029071 -0.021222 -0.024233   \n",
       "RelationshipSatisfaction    0.001330        0.034297  0.021642 -0.020218   \n",
       "StockOptionLevel            0.050263        0.021523  0.013984 -0.019171   \n",
       "TotalWorkingYears          -0.002334       -0.005533  0.782208 -0.145439   \n",
       "TrainingTimesLastYear      -0.008548       -0.015338 -0.018191  0.001342   \n",
       "WorkLifeBalance            -0.004607       -0.014617  0.037818  0.027764   \n",
       "YearsAtCompany             -0.019582       -0.021355  0.534739 -0.083657   \n",
       "YearsInCurrentRole         -0.024106        0.008717  0.389447 -0.028354   \n",
       "YearsSinceLastPromotion    -0.026716       -0.024184  0.353885 -0.046384   \n",
       "YearsWithCurrManager       -0.020123        0.025976  0.375281 -0.041150   \n",
       "\n",
       "                          JobSatisfaction  MaritalStatus  MonthlyIncome  \\\n",
       "Age                             -0.004892      -0.095029       0.497855   \n",
       "Attrition                       -0.103481       0.162070      -0.159840   \n",
       "BusinessTravel                  -0.033962       0.024001       0.034319   \n",
       "DailyRate                        0.041904      -0.073347       0.007440   \n",
       "Department                       0.021001       0.056073       0.053130   \n",
       "DistanceFromHome                -0.003669      -0.014437      -0.017014   \n",
       "Education                       -0.011296       0.004053       0.094961   \n",
       "EducationField                  -0.034401       0.014420      -0.041070   \n",
       "EnvironmentSatisfaction         -0.006784      -0.003593      -0.006259   \n",
       "Gender                           0.033252      -0.047183      -0.031858   \n",
       "HourlyRate                      -0.071335      -0.017861      -0.015794   \n",
       "JobInvolvement                  -0.021476      -0.038497      -0.015271   \n",
       "JobLevel                        -0.001944      -0.076769       0.950300   \n",
       "JobRole                          0.017537       0.067957      -0.093951   \n",
       "JobSatisfaction                  1.000000       0.024360      -0.007157   \n",
       "MaritalStatus                    0.024360       1.000000      -0.075450   \n",
       "MonthlyIncome                   -0.007157      -0.075450       1.000000   \n",
       "MonthlyRate                      0.000644       0.023937       0.034814   \n",
       "NumCompaniesWorked              -0.055699      -0.035505       0.149515   \n",
       "OverTime                         0.024539      -0.017521       0.006089   \n",
       "PercentSalaryHike                0.020002       0.012492      -0.027269   \n",
       "PerformanceRating                0.002297       0.005207      -0.017120   \n",
       "RelationshipSatisfaction        -0.012454       0.022549       0.025873   \n",
       "StockOptionLevel                 0.010690      -0.662577       0.005408   \n",
       "TotalWorkingYears               -0.020185      -0.077886       0.772893   \n",
       "TrainingTimesLastYear           -0.005779       0.010629      -0.021736   \n",
       "WorkLifeBalance                 -0.019459       0.014708       0.030683   \n",
       "YearsAtCompany                  -0.003803      -0.059986       0.514285   \n",
       "YearsInCurrentRole              -0.002305      -0.065822       0.363818   \n",
       "YearsSinceLastPromotion         -0.018214      -0.030915       0.344978   \n",
       "YearsWithCurrManager            -0.027656      -0.038570       0.344079   \n",
       "\n",
       "                          MonthlyRate  NumCompaniesWorked  OverTime  \\\n",
       "Age                          0.028051            0.299635  0.028062   \n",
       "Attrition                    0.015170            0.043494  0.246118   \n",
       "BusinessTravel              -0.014107            0.020875  0.016543   \n",
       "DailyRate                   -0.028172            0.041985  0.009227   \n",
       "Department                   0.023642           -0.035882  0.007481   \n",
       "DistanceFromHome             0.027473           -0.029251  0.025514   \n",
       "Education                   -0.026084            0.126317 -0.020322   \n",
       "EducationField              -0.027182           -0.008663  0.002259   \n",
       "EnvironmentSatisfaction      0.037600            0.012594  0.070132   \n",
       "Gender                      -0.041482           -0.039147 -0.041924   \n",
       "HourlyRate                  -0.015297            0.022157 -0.007782   \n",
       "JobInvolvement              -0.016322            0.015012 -0.003507   \n",
       "JobLevel                     0.039563            0.142501  0.000544   \n",
       "JobRole                      0.005290           -0.056368  0.040662   \n",
       "JobSatisfaction              0.000644           -0.055699  0.024539   \n",
       "MaritalStatus                0.023937           -0.035505 -0.017521   \n",
       "MonthlyIncome                0.034814            0.149515  0.006089   \n",
       "MonthlyRate                  1.000000            0.017521  0.021431   \n",
       "NumCompaniesWorked           0.017521            1.000000 -0.020786   \n",
       "OverTime                     0.021431           -0.020786  1.000000   \n",
       "PercentSalaryHike           -0.006429           -0.010238 -0.005433   \n",
       "PerformanceRating           -0.009811           -0.014095  0.004369   \n",
       "RelationshipSatisfaction    -0.004085            0.052733  0.048493   \n",
       "StockOptionLevel            -0.034323            0.030075 -0.000449   \n",
       "TotalWorkingYears            0.026442            0.237639  0.012754   \n",
       "TrainingTimesLastYear        0.001467           -0.066054 -0.079113   \n",
       "WorkLifeBalance              0.007963           -0.008366 -0.027092   \n",
       "YearsAtCompany              -0.023655           -0.118421 -0.011687   \n",
       "YearsInCurrentRole          -0.012815           -0.090754 -0.029758   \n",
       "YearsSinceLastPromotion      0.001567           -0.036814 -0.012239   \n",
       "YearsWithCurrManager        -0.036746           -0.110319 -0.041586   \n",
       "\n",
       "                          PercentSalaryHike  PerformanceRating  \\\n",
       "Age                                0.003634           0.001904   \n",
       "Attrition                         -0.013478           0.002889   \n",
       "BusinessTravel                    -0.029377          -0.026341   \n",
       "DailyRate                          0.026133           0.002452   \n",
       "Department                        -0.007840          -0.024604   \n",
       "DistanceFromHome                   0.040235           0.027110   \n",
       "Education                         -0.011111          -0.024539   \n",
       "EducationField                    -0.011214          -0.005614   \n",
       "EnvironmentSatisfaction           -0.031701          -0.029548   \n",
       "Gender                             0.002733          -0.013859   \n",
       "HourlyRate                        -0.009062          -0.002172   \n",
       "JobInvolvement                    -0.017205          -0.029071   \n",
       "JobLevel                          -0.034730          -0.021222   \n",
       "JobRole                           -0.000848          -0.024233   \n",
       "JobSatisfaction                    0.020002           0.002297   \n",
       "MaritalStatus                      0.012492           0.005207   \n",
       "MonthlyIncome                     -0.027269          -0.017120   \n",
       "MonthlyRate                       -0.006429          -0.009811   \n",
       "NumCompaniesWorked                -0.010238          -0.014095   \n",
       "OverTime                          -0.005433           0.004369   \n",
       "PercentSalaryHike                  1.000000           0.773550   \n",
       "PerformanceRating                  0.773550           1.000000   \n",
       "RelationshipSatisfaction          -0.040490          -0.031351   \n",
       "StockOptionLevel                   0.007528           0.003506   \n",
       "TotalWorkingYears                 -0.020608           0.006744   \n",
       "TrainingTimesLastYear             -0.005221          -0.015579   \n",
       "WorkLifeBalance                   -0.003280           0.002572   \n",
       "YearsAtCompany                    -0.035991           0.003435   \n",
       "YearsInCurrentRole                -0.001520           0.034986   \n",
       "YearsSinceLastPromotion           -0.022154           0.017896   \n",
       "YearsWithCurrManager              -0.011985           0.022827   \n",
       "\n",
       "                          RelationshipSatisfaction  StockOptionLevel  \\\n",
       "Age                                       0.053535          0.037510   \n",
       "Attrition                                -0.045872         -0.137145   \n",
       "BusinessTravel                           -0.035986         -0.016727   \n",
       "DailyRate                                 0.012191          0.049660   \n",
       "Department                               -0.022414         -0.012193   \n",
       "DistanceFromHome                          0.006557          0.044872   \n",
       "Education                                -0.009118          0.018422   \n",
       "EducationField                           -0.004378         -0.016185   \n",
       "EnvironmentSatisfaction                   0.007665          0.003432   \n",
       "Gender                                    0.022868          0.012716   \n",
       "HourlyRate                                0.001330          0.050263   \n",
       "JobInvolvement                            0.034297          0.021523   \n",
       "JobLevel                                  0.021642          0.013984   \n",
       "JobRole                                  -0.020218         -0.019171   \n",
       "JobSatisfaction                          -0.012454          0.010690   \n",
       "MaritalStatus                             0.022549         -0.662577   \n",
       "MonthlyIncome                             0.025873          0.005408   \n",
       "MonthlyRate                              -0.004085         -0.034323   \n",
       "NumCompaniesWorked                        0.052733          0.030075   \n",
       "OverTime                                  0.048493         -0.000449   \n",
       "PercentSalaryHike                        -0.040490          0.007528   \n",
       "PerformanceRating                        -0.031351          0.003506   \n",
       "RelationshipSatisfaction                  1.000000         -0.045952   \n",
       "StockOptionLevel                         -0.045952          1.000000   \n",
       "TotalWorkingYears                         0.024054          0.010136   \n",
       "TrainingTimesLastYear                     0.002497          0.011274   \n",
       "WorkLifeBalance                           0.019604          0.004129   \n",
       "YearsAtCompany                            0.019367          0.015058   \n",
       "YearsInCurrentRole                       -0.015123          0.050818   \n",
       "YearsSinceLastPromotion                   0.033493          0.014352   \n",
       "YearsWithCurrManager                     -0.000867          0.024698   \n",
       "\n",
       "                          TotalWorkingYears  TrainingTimesLastYear  \\\n",
       "Age                                0.680381              -0.019621   \n",
       "Attrition                         -0.171063              -0.059478   \n",
       "BusinessTravel                     0.034226               0.015240   \n",
       "DailyRate                          0.010456              -0.002628   \n",
       "Department                        -0.015762               0.036875   \n",
       "DistanceFromHome                   0.004628              -0.036942   \n",
       "Education                          0.148280              -0.025100   \n",
       "EducationField                    -0.027848               0.049195   \n",
       "EnvironmentSatisfaction           -0.002693              -0.019359   \n",
       "Gender                            -0.046881              -0.038787   \n",
       "HourlyRate                        -0.002334              -0.008548   \n",
       "JobInvolvement                    -0.005533              -0.015338   \n",
       "JobLevel                           0.782208              -0.018191   \n",
       "JobRole                           -0.145439               0.001342   \n",
       "JobSatisfaction                   -0.020185              -0.005779   \n",
       "MaritalStatus                     -0.077886               0.010629   \n",
       "MonthlyIncome                      0.772893              -0.021736   \n",
       "MonthlyRate                        0.026442               0.001467   \n",
       "NumCompaniesWorked                 0.237639              -0.066054   \n",
       "OverTime                           0.012754              -0.079113   \n",
       "PercentSalaryHike                 -0.020608              -0.005221   \n",
       "PerformanceRating                  0.006744              -0.015579   \n",
       "RelationshipSatisfaction           0.024054               0.002497   \n",
       "StockOptionLevel                   0.010136               0.011274   \n",
       "TotalWorkingYears                  1.000000              -0.035662   \n",
       "TrainingTimesLastYear             -0.035662               1.000000   \n",
       "WorkLifeBalance                    0.001008               0.028072   \n",
       "YearsAtCompany                     0.628133               0.003569   \n",
       "YearsInCurrentRole                 0.460365              -0.005738   \n",
       "YearsSinceLastPromotion            0.404858              -0.002067   \n",
       "YearsWithCurrManager               0.459188              -0.004096   \n",
       "\n",
       "                          WorkLifeBalance  YearsAtCompany  YearsInCurrentRole  \\\n",
       "Age                             -0.021490        0.311309            0.212901   \n",
       "Attrition                       -0.063939       -0.134392           -0.160545   \n",
       "BusinessTravel                  -0.011256       -0.014575           -0.011497   \n",
       "DailyRate                       -0.041801       -0.034723            0.012237   \n",
       "Department                       0.026383        0.022920            0.056315   \n",
       "DistanceFromHome                -0.026556        0.009508            0.018845   \n",
       "Education                        0.009819        0.069114            0.060236   \n",
       "EducationField                   0.041191       -0.018692           -0.010506   \n",
       "EnvironmentSatisfaction          0.027627        0.001458            0.018007   \n",
       "Gender                          -0.002753       -0.029747           -0.041483   \n",
       "HourlyRate                      -0.004607       -0.019582           -0.024106   \n",
       "JobInvolvement                  -0.014617       -0.021355            0.008717   \n",
       "JobLevel                         0.037818        0.534739            0.389447   \n",
       "JobRole                          0.027764       -0.083657           -0.028354   \n",
       "JobSatisfaction                 -0.019459       -0.003803           -0.002305   \n",
       "MaritalStatus                    0.014708       -0.059986           -0.065822   \n",
       "MonthlyIncome                    0.030683        0.514285            0.363818   \n",
       "MonthlyRate                      0.007963       -0.023655           -0.012815   \n",
       "NumCompaniesWorked              -0.008366       -0.118421           -0.090754   \n",
       "OverTime                        -0.027092       -0.011687           -0.029758   \n",
       "PercentSalaryHike               -0.003280       -0.035991           -0.001520   \n",
       "PerformanceRating                0.002572        0.003435            0.034986   \n",
       "RelationshipSatisfaction         0.019604        0.019367           -0.015123   \n",
       "StockOptionLevel                 0.004129        0.015058            0.050818   \n",
       "TotalWorkingYears                0.001008        0.628133            0.460365   \n",
       "TrainingTimesLastYear            0.028072        0.003569           -0.005738   \n",
       "WorkLifeBalance                  1.000000        0.012089            0.049856   \n",
       "YearsAtCompany                   0.012089        1.000000            0.758754   \n",
       "YearsInCurrentRole               0.049856        0.758754            1.000000   \n",
       "YearsSinceLastPromotion          0.008941        0.618409            0.548056   \n",
       "YearsWithCurrManager             0.002759        0.769212            0.714365   \n",
       "\n",
       "                          YearsSinceLastPromotion  YearsWithCurrManager  \n",
       "Age                                      0.216513              0.202089  \n",
       "Attrition                               -0.033019             -0.156199  \n",
       "BusinessTravel                          -0.032591             -0.022636  \n",
       "DailyRate                               -0.034490             -0.028827  \n",
       "Department                               0.040061              0.034282  \n",
       "DistanceFromHome                         0.010029              0.014406  \n",
       "Education                                0.054254              0.069065  \n",
       "EducationField                           0.002326             -0.004130  \n",
       "EnvironmentSatisfaction                  0.016194             -0.004999  \n",
       "Gender                                  -0.026985             -0.030599  \n",
       "HourlyRate                              -0.026716             -0.020123  \n",
       "JobInvolvement                          -0.024184              0.025976  \n",
       "JobLevel                                 0.353885              0.375281  \n",
       "JobRole                                 -0.046384             -0.041150  \n",
       "JobSatisfaction                         -0.018214             -0.027656  \n",
       "MaritalStatus                           -0.030915             -0.038570  \n",
       "MonthlyIncome                            0.344978              0.344079  \n",
       "MonthlyRate                              0.001567             -0.036746  \n",
       "NumCompaniesWorked                      -0.036814             -0.110319  \n",
       "OverTime                                -0.012239             -0.041586  \n",
       "PercentSalaryHike                       -0.022154             -0.011985  \n",
       "PerformanceRating                        0.017896              0.022827  \n",
       "RelationshipSatisfaction                 0.033493             -0.000867  \n",
       "StockOptionLevel                         0.014352              0.024698  \n",
       "TotalWorkingYears                        0.404858              0.459188  \n",
       "TrainingTimesLastYear                   -0.002067             -0.004096  \n",
       "WorkLifeBalance                          0.008941              0.002759  \n",
       "YearsAtCompany                           0.618409              0.769212  \n",
       "YearsInCurrentRole                       0.548056              0.714365  \n",
       "YearsSinceLastPromotion                  1.000000              0.510224  \n",
       "YearsWithCurrManager                     0.510224              1.000000  "
      ]
     },
     "execution_count": 55,
     "metadata": {},
     "output_type": "execute_result"
    }
   ],
   "source": [
    "dataset.corr()"
   ]
  },
  {
   "cell_type": "code",
   "execution_count": 56,
   "id": "1424a7e4",
   "metadata": {},
   "outputs": [],
   "source": [
    "#Imbalanced Dataset"
   ]
  },
  {
   "cell_type": "code",
   "execution_count": 57,
   "id": "e053d507",
   "metadata": {},
   "outputs": [
    {
     "data": {
      "text/html": [
       "<div>\n",
       "<style scoped>\n",
       "    .dataframe tbody tr th:only-of-type {\n",
       "        vertical-align: middle;\n",
       "    }\n",
       "\n",
       "    .dataframe tbody tr th {\n",
       "        vertical-align: top;\n",
       "    }\n",
       "\n",
       "    .dataframe thead th {\n",
       "        text-align: right;\n",
       "    }\n",
       "</style>\n",
       "<table border=\"1\" class=\"dataframe\">\n",
       "  <thead>\n",
       "    <tr style=\"text-align: right;\">\n",
       "      <th></th>\n",
       "      <th>Age</th>\n",
       "      <th>Attrition</th>\n",
       "      <th>BusinessTravel</th>\n",
       "      <th>DailyRate</th>\n",
       "      <th>Department</th>\n",
       "      <th>DistanceFromHome</th>\n",
       "      <th>Education</th>\n",
       "      <th>EducationField</th>\n",
       "      <th>EnvironmentSatisfaction</th>\n",
       "      <th>Gender</th>\n",
       "      <th>HourlyRate</th>\n",
       "      <th>JobInvolvement</th>\n",
       "      <th>JobLevel</th>\n",
       "      <th>JobRole</th>\n",
       "      <th>JobSatisfaction</th>\n",
       "      <th>MaritalStatus</th>\n",
       "      <th>MonthlyIncome</th>\n",
       "      <th>MonthlyRate</th>\n",
       "      <th>NumCompaniesWorked</th>\n",
       "      <th>OverTime</th>\n",
       "      <th>PercentSalaryHike</th>\n",
       "      <th>PerformanceRating</th>\n",
       "      <th>RelationshipSatisfaction</th>\n",
       "      <th>StockOptionLevel</th>\n",
       "      <th>TotalWorkingYears</th>\n",
       "      <th>TrainingTimesLastYear</th>\n",
       "      <th>WorkLifeBalance</th>\n",
       "      <th>YearsAtCompany</th>\n",
       "      <th>YearsInCurrentRole</th>\n",
       "      <th>YearsSinceLastPromotion</th>\n",
       "      <th>YearsWithCurrManager</th>\n",
       "    </tr>\n",
       "  </thead>\n",
       "  <tbody>\n",
       "    <tr>\n",
       "      <th>0</th>\n",
       "      <td>41</td>\n",
       "      <td>1</td>\n",
       "      <td>2</td>\n",
       "      <td>7.004882</td>\n",
       "      <td>2</td>\n",
       "      <td>1</td>\n",
       "      <td>2</td>\n",
       "      <td>1</td>\n",
       "      <td>2</td>\n",
       "      <td>0</td>\n",
       "      <td>94</td>\n",
       "      <td>3</td>\n",
       "      <td>2</td>\n",
       "      <td>7</td>\n",
       "      <td>4</td>\n",
       "      <td>2</td>\n",
       "      <td>5993</td>\n",
       "      <td>19479</td>\n",
       "      <td>8</td>\n",
       "      <td>1</td>\n",
       "      <td>11</td>\n",
       "      <td>3</td>\n",
       "      <td>1</td>\n",
       "      <td>0</td>\n",
       "      <td>8</td>\n",
       "      <td>0</td>\n",
       "      <td>1</td>\n",
       "      <td>6</td>\n",
       "      <td>4</td>\n",
       "      <td>0</td>\n",
       "      <td>5</td>\n",
       "    </tr>\n",
       "    <tr>\n",
       "      <th>1</th>\n",
       "      <td>49</td>\n",
       "      <td>0</td>\n",
       "      <td>1</td>\n",
       "      <td>5.631212</td>\n",
       "      <td>1</td>\n",
       "      <td>8</td>\n",
       "      <td>1</td>\n",
       "      <td>1</td>\n",
       "      <td>3</td>\n",
       "      <td>1</td>\n",
       "      <td>61</td>\n",
       "      <td>2</td>\n",
       "      <td>2</td>\n",
       "      <td>6</td>\n",
       "      <td>2</td>\n",
       "      <td>1</td>\n",
       "      <td>5130</td>\n",
       "      <td>24907</td>\n",
       "      <td>1</td>\n",
       "      <td>0</td>\n",
       "      <td>23</td>\n",
       "      <td>4</td>\n",
       "      <td>4</td>\n",
       "      <td>1</td>\n",
       "      <td>10</td>\n",
       "      <td>3</td>\n",
       "      <td>3</td>\n",
       "      <td>10</td>\n",
       "      <td>7</td>\n",
       "      <td>1</td>\n",
       "      <td>7</td>\n",
       "    </tr>\n",
       "    <tr>\n",
       "      <th>2</th>\n",
       "      <td>37</td>\n",
       "      <td>1</td>\n",
       "      <td>2</td>\n",
       "      <td>7.224753</td>\n",
       "      <td>1</td>\n",
       "      <td>2</td>\n",
       "      <td>2</td>\n",
       "      <td>4</td>\n",
       "      <td>4</td>\n",
       "      <td>1</td>\n",
       "      <td>92</td>\n",
       "      <td>2</td>\n",
       "      <td>1</td>\n",
       "      <td>2</td>\n",
       "      <td>3</td>\n",
       "      <td>2</td>\n",
       "      <td>2090</td>\n",
       "      <td>2396</td>\n",
       "      <td>6</td>\n",
       "      <td>1</td>\n",
       "      <td>15</td>\n",
       "      <td>3</td>\n",
       "      <td>2</td>\n",
       "      <td>0</td>\n",
       "      <td>7</td>\n",
       "      <td>3</td>\n",
       "      <td>3</td>\n",
       "      <td>0</td>\n",
       "      <td>0</td>\n",
       "      <td>0</td>\n",
       "      <td>0</td>\n",
       "    </tr>\n",
       "    <tr>\n",
       "      <th>3</th>\n",
       "      <td>33</td>\n",
       "      <td>0</td>\n",
       "      <td>1</td>\n",
       "      <td>7.238497</td>\n",
       "      <td>1</td>\n",
       "      <td>3</td>\n",
       "      <td>4</td>\n",
       "      <td>1</td>\n",
       "      <td>4</td>\n",
       "      <td>0</td>\n",
       "      <td>56</td>\n",
       "      <td>3</td>\n",
       "      <td>1</td>\n",
       "      <td>6</td>\n",
       "      <td>3</td>\n",
       "      <td>1</td>\n",
       "      <td>2909</td>\n",
       "      <td>23159</td>\n",
       "      <td>1</td>\n",
       "      <td>1</td>\n",
       "      <td>11</td>\n",
       "      <td>3</td>\n",
       "      <td>3</td>\n",
       "      <td>0</td>\n",
       "      <td>8</td>\n",
       "      <td>3</td>\n",
       "      <td>3</td>\n",
       "      <td>8</td>\n",
       "      <td>7</td>\n",
       "      <td>3</td>\n",
       "      <td>0</td>\n",
       "    </tr>\n",
       "    <tr>\n",
       "      <th>4</th>\n",
       "      <td>27</td>\n",
       "      <td>0</td>\n",
       "      <td>2</td>\n",
       "      <td>6.381816</td>\n",
       "      <td>1</td>\n",
       "      <td>2</td>\n",
       "      <td>1</td>\n",
       "      <td>3</td>\n",
       "      <td>1</td>\n",
       "      <td>1</td>\n",
       "      <td>40</td>\n",
       "      <td>3</td>\n",
       "      <td>1</td>\n",
       "      <td>2</td>\n",
       "      <td>2</td>\n",
       "      <td>1</td>\n",
       "      <td>3468</td>\n",
       "      <td>16632</td>\n",
       "      <td>9</td>\n",
       "      <td>0</td>\n",
       "      <td>12</td>\n",
       "      <td>3</td>\n",
       "      <td>4</td>\n",
       "      <td>1</td>\n",
       "      <td>6</td>\n",
       "      <td>3</td>\n",
       "      <td>3</td>\n",
       "      <td>2</td>\n",
       "      <td>2</td>\n",
       "      <td>2</td>\n",
       "      <td>2</td>\n",
       "    </tr>\n",
       "  </tbody>\n",
       "</table>\n",
       "</div>"
      ],
      "text/plain": [
       "   Age  Attrition  BusinessTravel  DailyRate  Department  DistanceFromHome  \\\n",
       "0   41          1               2   7.004882           2                 1   \n",
       "1   49          0               1   5.631212           1                 8   \n",
       "2   37          1               2   7.224753           1                 2   \n",
       "3   33          0               1   7.238497           1                 3   \n",
       "4   27          0               2   6.381816           1                 2   \n",
       "\n",
       "   Education  EducationField  EnvironmentSatisfaction  Gender  HourlyRate  \\\n",
       "0          2               1                        2       0          94   \n",
       "1          1               1                        3       1          61   \n",
       "2          2               4                        4       1          92   \n",
       "3          4               1                        4       0          56   \n",
       "4          1               3                        1       1          40   \n",
       "\n",
       "   JobInvolvement  JobLevel  JobRole  JobSatisfaction  MaritalStatus  \\\n",
       "0               3         2        7                4              2   \n",
       "1               2         2        6                2              1   \n",
       "2               2         1        2                3              2   \n",
       "3               3         1        6                3              1   \n",
       "4               3         1        2                2              1   \n",
       "\n",
       "   MonthlyIncome  MonthlyRate  NumCompaniesWorked  OverTime  \\\n",
       "0           5993        19479                   8         1   \n",
       "1           5130        24907                   1         0   \n",
       "2           2090         2396                   6         1   \n",
       "3           2909        23159                   1         1   \n",
       "4           3468        16632                   9         0   \n",
       "\n",
       "   PercentSalaryHike  PerformanceRating  RelationshipSatisfaction  \\\n",
       "0                 11                  3                         1   \n",
       "1                 23                  4                         4   \n",
       "2                 15                  3                         2   \n",
       "3                 11                  3                         3   \n",
       "4                 12                  3                         4   \n",
       "\n",
       "   StockOptionLevel  TotalWorkingYears  TrainingTimesLastYear  \\\n",
       "0                 0                  8                      0   \n",
       "1                 1                 10                      3   \n",
       "2                 0                  7                      3   \n",
       "3                 0                  8                      3   \n",
       "4                 1                  6                      3   \n",
       "\n",
       "   WorkLifeBalance  YearsAtCompany  YearsInCurrentRole  \\\n",
       "0                1               6                   4   \n",
       "1                3              10                   7   \n",
       "2                3               0                   0   \n",
       "3                3               8                   7   \n",
       "4                3               2                   2   \n",
       "\n",
       "   YearsSinceLastPromotion  YearsWithCurrManager  \n",
       "0                        0                     5  \n",
       "1                        1                     7  \n",
       "2                        0                     0  \n",
       "3                        3                     0  \n",
       "4                        2                     2  "
      ]
     },
     "execution_count": 57,
     "metadata": {},
     "output_type": "execute_result"
    }
   ],
   "source": [
    "dataset.head()"
   ]
  },
  {
   "cell_type": "code",
   "execution_count": 58,
   "id": "fd2fd64e",
   "metadata": {},
   "outputs": [
    {
     "data": {
      "text/plain": [
       "0    1233\n",
       "1     237\n",
       "Name: Attrition, dtype: int64"
      ]
     },
     "execution_count": 58,
     "metadata": {},
     "output_type": "execute_result"
    }
   ],
   "source": [
    "dataset[\"Attrition\"].value_counts()"
   ]
  },
  {
   "cell_type": "code",
   "execution_count": 59,
   "id": "8bfada5a",
   "metadata": {},
   "outputs": [],
   "source": [
    "x = dataset.drop([\"Attrition\"],axis =1)\n",
    "y = dataset[\"Attrition\"]"
   ]
  },
  {
   "cell_type": "code",
   "execution_count": 60,
   "id": "2ee02134",
   "metadata": {},
   "outputs": [],
   "source": [
    "from imblearn.over_sampling import RandomOverSampler\n",
    "over = RandomOverSampler()\n",
    "x_over, y_over = over.fit_resample(x,y)"
   ]
  },
  {
   "cell_type": "code",
   "execution_count": 61,
   "id": "f3737349",
   "metadata": {},
   "outputs": [
    {
     "name": "stdout",
     "output_type": "stream",
     "text": [
      "0    1233\n",
      "1     237\n",
      "Name: Attrition, dtype: int64\n",
      "###################################\n",
      "1    1233\n",
      "0    1233\n",
      "Name: Attrition, dtype: int64\n"
     ]
    }
   ],
   "source": [
    "print(dataset['Attrition'].value_counts())\n",
    "\n",
    "print(\"#######\"*5)\n",
    "\n",
    "print(y_over.value_counts())"
   ]
  },
  {
   "cell_type": "code",
   "execution_count": 62,
   "id": "e3dd8465",
   "metadata": {},
   "outputs": [],
   "source": [
    "x = x_over\n",
    "y = y_over"
   ]
  },
  {
   "cell_type": "code",
   "execution_count": 63,
   "id": "86bdcc68",
   "metadata": {},
   "outputs": [],
   "source": [
    "from sklearn.model_selection import train_test_split\n",
    "x_train,x_test,y_train,y_test = train_test_split(x,y, train_size = .7, random_state = 101)"
   ]
  },
  {
   "cell_type": "code",
   "execution_count": 64,
   "id": "81489da8",
   "metadata": {},
   "outputs": [
    {
     "name": "stdout",
     "output_type": "stream",
     "text": [
      "(1726, 30)\n",
      "(740, 30)\n",
      "(1726,)\n",
      "(740,)\n"
     ]
    }
   ],
   "source": [
    "print(x_train.shape)\n",
    "print(x_test.shape)\n",
    "print(y_train.shape)\n",
    "print(y_test.shape)"
   ]
  },
  {
   "cell_type": "code",
   "execution_count": 65,
   "id": "cf9ee81a",
   "metadata": {},
   "outputs": [],
   "source": [
    "#Build Logit Regression"
   ]
  },
  {
   "cell_type": "code",
   "execution_count": 66,
   "id": "3a63e7e5",
   "metadata": {},
   "outputs": [
    {
     "data": {
      "text/html": [
       "<style>#sk-container-id-1 {color: black;background-color: white;}#sk-container-id-1 pre{padding: 0;}#sk-container-id-1 div.sk-toggleable {background-color: white;}#sk-container-id-1 label.sk-toggleable__label {cursor: pointer;display: block;width: 100%;margin-bottom: 0;padding: 0.3em;box-sizing: border-box;text-align: center;}#sk-container-id-1 label.sk-toggleable__label-arrow:before {content: \"▸\";float: left;margin-right: 0.25em;color: #696969;}#sk-container-id-1 label.sk-toggleable__label-arrow:hover:before {color: black;}#sk-container-id-1 div.sk-estimator:hover label.sk-toggleable__label-arrow:before {color: black;}#sk-container-id-1 div.sk-toggleable__content {max-height: 0;max-width: 0;overflow: hidden;text-align: left;background-color: #f0f8ff;}#sk-container-id-1 div.sk-toggleable__content pre {margin: 0.2em;color: black;border-radius: 0.25em;background-color: #f0f8ff;}#sk-container-id-1 input.sk-toggleable__control:checked~div.sk-toggleable__content {max-height: 200px;max-width: 100%;overflow: auto;}#sk-container-id-1 input.sk-toggleable__control:checked~label.sk-toggleable__label-arrow:before {content: \"▾\";}#sk-container-id-1 div.sk-estimator input.sk-toggleable__control:checked~label.sk-toggleable__label {background-color: #d4ebff;}#sk-container-id-1 div.sk-label input.sk-toggleable__control:checked~label.sk-toggleable__label {background-color: #d4ebff;}#sk-container-id-1 input.sk-hidden--visually {border: 0;clip: rect(1px 1px 1px 1px);clip: rect(1px, 1px, 1px, 1px);height: 1px;margin: -1px;overflow: hidden;padding: 0;position: absolute;width: 1px;}#sk-container-id-1 div.sk-estimator {font-family: monospace;background-color: #f0f8ff;border: 1px dotted black;border-radius: 0.25em;box-sizing: border-box;margin-bottom: 0.5em;}#sk-container-id-1 div.sk-estimator:hover {background-color: #d4ebff;}#sk-container-id-1 div.sk-parallel-item::after {content: \"\";width: 100%;border-bottom: 1px solid gray;flex-grow: 1;}#sk-container-id-1 div.sk-label:hover label.sk-toggleable__label {background-color: #d4ebff;}#sk-container-id-1 div.sk-serial::before {content: \"\";position: absolute;border-left: 1px solid gray;box-sizing: border-box;top: 0;bottom: 0;left: 50%;z-index: 0;}#sk-container-id-1 div.sk-serial {display: flex;flex-direction: column;align-items: center;background-color: white;padding-right: 0.2em;padding-left: 0.2em;position: relative;}#sk-container-id-1 div.sk-item {position: relative;z-index: 1;}#sk-container-id-1 div.sk-parallel {display: flex;align-items: stretch;justify-content: center;background-color: white;position: relative;}#sk-container-id-1 div.sk-item::before, #sk-container-id-1 div.sk-parallel-item::before {content: \"\";position: absolute;border-left: 1px solid gray;box-sizing: border-box;top: 0;bottom: 0;left: 50%;z-index: -1;}#sk-container-id-1 div.sk-parallel-item {display: flex;flex-direction: column;z-index: 1;position: relative;background-color: white;}#sk-container-id-1 div.sk-parallel-item:first-child::after {align-self: flex-end;width: 50%;}#sk-container-id-1 div.sk-parallel-item:last-child::after {align-self: flex-start;width: 50%;}#sk-container-id-1 div.sk-parallel-item:only-child::after {width: 0;}#sk-container-id-1 div.sk-dashed-wrapped {border: 1px dashed gray;margin: 0 0.4em 0.5em 0.4em;box-sizing: border-box;padding-bottom: 0.4em;background-color: white;}#sk-container-id-1 div.sk-label label {font-family: monospace;font-weight: bold;display: inline-block;line-height: 1.2em;}#sk-container-id-1 div.sk-label-container {text-align: center;}#sk-container-id-1 div.sk-container {/* jupyter's `normalize.less` sets `[hidden] { display: none; }` but bootstrap.min.css set `[hidden] { display: none !important; }` so we also need the `!important` here to be able to override the default hidden behavior on the sphinx rendered scikit-learn.org. See: https://github.com/scikit-learn/scikit-learn/issues/21755 */display: inline-block !important;position: relative;}#sk-container-id-1 div.sk-text-repr-fallback {display: none;}</style><div id=\"sk-container-id-1\" class=\"sk-top-container\"><div class=\"sk-text-repr-fallback\"><pre>LogisticRegression()</pre><b>In a Jupyter environment, please rerun this cell to show the HTML representation or trust the notebook. <br />On GitHub, the HTML representation is unable to render, please try loading this page with nbviewer.org.</b></div><div class=\"sk-container\" hidden><div class=\"sk-item\"><div class=\"sk-estimator sk-toggleable\"><input class=\"sk-toggleable__control sk-hidden--visually\" id=\"sk-estimator-id-1\" type=\"checkbox\" checked><label for=\"sk-estimator-id-1\" class=\"sk-toggleable__label sk-toggleable__label-arrow\">LogisticRegression</label><div class=\"sk-toggleable__content\"><pre>LogisticRegression()</pre></div></div></div></div></div>"
      ],
      "text/plain": [
       "LogisticRegression()"
      ]
     },
     "execution_count": 66,
     "metadata": {},
     "output_type": "execute_result"
    }
   ],
   "source": [
    "from sklearn.linear_model import LogisticRegression\n",
    "logit_model = LogisticRegression()\n",
    "logit_model.fit(x_train, y_train)"
   ]
  },
  {
   "cell_type": "code",
   "execution_count": 67,
   "id": "84bf28b6",
   "metadata": {},
   "outputs": [],
   "source": [
    "#Predict the Model"
   ]
  },
  {
   "cell_type": "code",
   "execution_count": 68,
   "id": "05a4cdf5",
   "metadata": {},
   "outputs": [],
   "source": [
    "y_pred_train = logit_model.predict(x_train)\n",
    "y_pred_test = logit_model.predict(x_test)"
   ]
  },
  {
   "cell_type": "code",
   "execution_count": 69,
   "id": "c831478a",
   "metadata": {},
   "outputs": [],
   "source": [
    "#Evaluate the Model"
   ]
  },
  {
   "cell_type": "code",
   "execution_count": 70,
   "id": "fe96c44e",
   "metadata": {},
   "outputs": [],
   "source": [
    "from sklearn.metrics import confusion_matrix, classification_report, accuracy_score"
   ]
  },
  {
   "cell_type": "code",
   "execution_count": 71,
   "id": "4df2a58c",
   "metadata": {},
   "outputs": [
    {
     "name": "stdout",
     "output_type": "stream",
     "text": [
      "[[549 304]\n",
      " [244 629]]\n",
      "########################################################################################################################################################################################################\n",
      "[[242 138]\n",
      " [114 246]]\n"
     ]
    }
   ],
   "source": [
    "print(confusion_matrix(y_train, y_pred_train))\n",
    "print(\"########\"*25)\n",
    "print(confusion_matrix(y_test, y_pred_test))"
   ]
  },
  {
   "cell_type": "code",
   "execution_count": 72,
   "id": "de859f9c",
   "metadata": {},
   "outputs": [
    {
     "name": "stdout",
     "output_type": "stream",
     "text": [
      "              precision    recall  f1-score   support\n",
      "\n",
      "           0       0.69      0.64      0.67       853\n",
      "           1       0.67      0.72      0.70       873\n",
      "\n",
      "    accuracy                           0.68      1726\n",
      "   macro avg       0.68      0.68      0.68      1726\n",
      "weighted avg       0.68      0.68      0.68      1726\n",
      "\n",
      "#####################################################################################################################################################################################################################################################################################################################################\n",
      "              precision    recall  f1-score   support\n",
      "\n",
      "           0       0.68      0.64      0.66       380\n",
      "           1       0.64      0.68      0.66       360\n",
      "\n",
      "    accuracy                           0.66       740\n",
      "   macro avg       0.66      0.66      0.66       740\n",
      "weighted avg       0.66      0.66      0.66       740\n",
      "\n"
     ]
    }
   ],
   "source": [
    "print(classification_report(y_train, y_pred_train))\n",
    "print(\"#############\"*25)\n",
    "print(classification_report(y_test, y_pred_test))"
   ]
  },
  {
   "cell_type": "code",
   "execution_count": 73,
   "id": "83e5cb11",
   "metadata": {},
   "outputs": [],
   "source": [
    "#Decision Tree"
   ]
  },
  {
   "cell_type": "code",
   "execution_count": 74,
   "id": "6ae9554b",
   "metadata": {},
   "outputs": [
    {
     "data": {
      "text/html": [
       "<style>#sk-container-id-2 {color: black;background-color: white;}#sk-container-id-2 pre{padding: 0;}#sk-container-id-2 div.sk-toggleable {background-color: white;}#sk-container-id-2 label.sk-toggleable__label {cursor: pointer;display: block;width: 100%;margin-bottom: 0;padding: 0.3em;box-sizing: border-box;text-align: center;}#sk-container-id-2 label.sk-toggleable__label-arrow:before {content: \"▸\";float: left;margin-right: 0.25em;color: #696969;}#sk-container-id-2 label.sk-toggleable__label-arrow:hover:before {color: black;}#sk-container-id-2 div.sk-estimator:hover label.sk-toggleable__label-arrow:before {color: black;}#sk-container-id-2 div.sk-toggleable__content {max-height: 0;max-width: 0;overflow: hidden;text-align: left;background-color: #f0f8ff;}#sk-container-id-2 div.sk-toggleable__content pre {margin: 0.2em;color: black;border-radius: 0.25em;background-color: #f0f8ff;}#sk-container-id-2 input.sk-toggleable__control:checked~div.sk-toggleable__content {max-height: 200px;max-width: 100%;overflow: auto;}#sk-container-id-2 input.sk-toggleable__control:checked~label.sk-toggleable__label-arrow:before {content: \"▾\";}#sk-container-id-2 div.sk-estimator input.sk-toggleable__control:checked~label.sk-toggleable__label {background-color: #d4ebff;}#sk-container-id-2 div.sk-label input.sk-toggleable__control:checked~label.sk-toggleable__label {background-color: #d4ebff;}#sk-container-id-2 input.sk-hidden--visually {border: 0;clip: rect(1px 1px 1px 1px);clip: rect(1px, 1px, 1px, 1px);height: 1px;margin: -1px;overflow: hidden;padding: 0;position: absolute;width: 1px;}#sk-container-id-2 div.sk-estimator {font-family: monospace;background-color: #f0f8ff;border: 1px dotted black;border-radius: 0.25em;box-sizing: border-box;margin-bottom: 0.5em;}#sk-container-id-2 div.sk-estimator:hover {background-color: #d4ebff;}#sk-container-id-2 div.sk-parallel-item::after {content: \"\";width: 100%;border-bottom: 1px solid gray;flex-grow: 1;}#sk-container-id-2 div.sk-label:hover label.sk-toggleable__label {background-color: #d4ebff;}#sk-container-id-2 div.sk-serial::before {content: \"\";position: absolute;border-left: 1px solid gray;box-sizing: border-box;top: 0;bottom: 0;left: 50%;z-index: 0;}#sk-container-id-2 div.sk-serial {display: flex;flex-direction: column;align-items: center;background-color: white;padding-right: 0.2em;padding-left: 0.2em;position: relative;}#sk-container-id-2 div.sk-item {position: relative;z-index: 1;}#sk-container-id-2 div.sk-parallel {display: flex;align-items: stretch;justify-content: center;background-color: white;position: relative;}#sk-container-id-2 div.sk-item::before, #sk-container-id-2 div.sk-parallel-item::before {content: \"\";position: absolute;border-left: 1px solid gray;box-sizing: border-box;top: 0;bottom: 0;left: 50%;z-index: -1;}#sk-container-id-2 div.sk-parallel-item {display: flex;flex-direction: column;z-index: 1;position: relative;background-color: white;}#sk-container-id-2 div.sk-parallel-item:first-child::after {align-self: flex-end;width: 50%;}#sk-container-id-2 div.sk-parallel-item:last-child::after {align-self: flex-start;width: 50%;}#sk-container-id-2 div.sk-parallel-item:only-child::after {width: 0;}#sk-container-id-2 div.sk-dashed-wrapped {border: 1px dashed gray;margin: 0 0.4em 0.5em 0.4em;box-sizing: border-box;padding-bottom: 0.4em;background-color: white;}#sk-container-id-2 div.sk-label label {font-family: monospace;font-weight: bold;display: inline-block;line-height: 1.2em;}#sk-container-id-2 div.sk-label-container {text-align: center;}#sk-container-id-2 div.sk-container {/* jupyter's `normalize.less` sets `[hidden] { display: none; }` but bootstrap.min.css set `[hidden] { display: none !important; }` so we also need the `!important` here to be able to override the default hidden behavior on the sphinx rendered scikit-learn.org. See: https://github.com/scikit-learn/scikit-learn/issues/21755 */display: inline-block !important;position: relative;}#sk-container-id-2 div.sk-text-repr-fallback {display: none;}</style><div id=\"sk-container-id-2\" class=\"sk-top-container\"><div class=\"sk-text-repr-fallback\"><pre>DecisionTreeClassifier(criterion=&#x27;entropy&#x27;)</pre><b>In a Jupyter environment, please rerun this cell to show the HTML representation or trust the notebook. <br />On GitHub, the HTML representation is unable to render, please try loading this page with nbviewer.org.</b></div><div class=\"sk-container\" hidden><div class=\"sk-item\"><div class=\"sk-estimator sk-toggleable\"><input class=\"sk-toggleable__control sk-hidden--visually\" id=\"sk-estimator-id-2\" type=\"checkbox\" checked><label for=\"sk-estimator-id-2\" class=\"sk-toggleable__label sk-toggleable__label-arrow\">DecisionTreeClassifier</label><div class=\"sk-toggleable__content\"><pre>DecisionTreeClassifier(criterion=&#x27;entropy&#x27;)</pre></div></div></div></div></div>"
      ],
      "text/plain": [
       "DecisionTreeClassifier(criterion='entropy')"
      ]
     },
     "execution_count": 74,
     "metadata": {},
     "output_type": "execute_result"
    }
   ],
   "source": [
    "from sklearn.tree import DecisionTreeClassifier\n",
    "dtree = DecisionTreeClassifier(criterion ='entropy')\n",
    "dtree.fit(x_train, y_train)"
   ]
  },
  {
   "cell_type": "code",
   "execution_count": 75,
   "id": "a4b64f25",
   "metadata": {},
   "outputs": [],
   "source": [
    "y_pred_dtree_train = dtree.predict(x_train)\n",
    "y_pred_dtree_test = dtree.predict(x_test)"
   ]
  },
  {
   "cell_type": "code",
   "execution_count": 76,
   "id": "b4b9f86f",
   "metadata": {},
   "outputs": [
    {
     "name": "stdout",
     "output_type": "stream",
     "text": [
      "[[853   0]\n",
      " [  0 873]]\n",
      "#################################################################\n",
      "[[313  67]\n",
      " [  1 359]]\n",
      "              precision    recall  f1-score   support\n",
      "\n",
      "           0       1.00      1.00      1.00       853\n",
      "           1       1.00      1.00      1.00       873\n",
      "\n",
      "    accuracy                           1.00      1726\n",
      "   macro avg       1.00      1.00      1.00      1726\n",
      "weighted avg       1.00      1.00      1.00      1726\n",
      "\n",
      "#################################################################\n",
      "              precision    recall  f1-score   support\n",
      "\n",
      "           0       1.00      0.82      0.90       380\n",
      "           1       0.84      1.00      0.91       360\n",
      "\n",
      "    accuracy                           0.91       740\n",
      "   macro avg       0.92      0.91      0.91       740\n",
      "weighted avg       0.92      0.91      0.91       740\n",
      "\n",
      "Training Accuracy : 1.0\n",
      "#################################################################\n",
      "Test Accuracy : 0.9081081081081082\n"
     ]
    }
   ],
   "source": [
    "print(confusion_matrix(y_train, y_pred_dtree_train))\n",
    "print(\"#############\"*5)\n",
    "print(confusion_matrix(y_test, y_pred_dtree_test))\n",
    "\n",
    "print(classification_report(y_train, y_pred_dtree_train))\n",
    "print(\"#############\"*5)\n",
    "print(classification_report(y_test, y_pred_dtree_test))\n",
    "\n",
    "print(\"Training Accuracy :\", accuracy_score(y_train, y_pred_dtree_train))\n",
    "print(\"#############\"*5)\n",
    "print(\"Test Accuracy :\",accuracy_score(y_test, y_pred_dtree_test))"
   ]
  },
  {
   "cell_type": "code",
   "execution_count": 77,
   "id": "905a6406",
   "metadata": {},
   "outputs": [],
   "source": [
    "from sklearn import tree"
   ]
  },
  {
   "cell_type": "code",
   "execution_count": 78,
   "id": "4a384505",
   "metadata": {},
   "outputs": [
    {
     "data": {
      "image/png": "[encoded data removed]",
      "text/plain": [
       "<Figure size 432x288 with 1 Axes>"
      ]
     },
     "metadata": {},
     "output_type": "display_data"
    }
   ],
   "source": [
    "tree.plot_tree(dtree, filled=True)\n",
    "plt.show()"
   ]
  },
  {
   "cell_type": "code",
   "execution_count": 79,
   "id": "b2a673db",
   "metadata": {},
   "outputs": [],
   "source": [
    "#Random Forest"
   ]
  },
  {
   "cell_type": "code",
   "execution_count": 80,
   "id": "aeae5db6",
   "metadata": {},
   "outputs": [
    {
     "data": {
      "text/html": [
       "<style>#sk-container-id-3 {color: black;background-color: white;}#sk-container-id-3 pre{padding: 0;}#sk-container-id-3 div.sk-toggleable {background-color: white;}#sk-container-id-3 label.sk-toggleable__label {cursor: pointer;display: block;width: 100%;margin-bottom: 0;padding: 0.3em;box-sizing: border-box;text-align: center;}#sk-container-id-3 label.sk-toggleable__label-arrow:before {content: \"▸\";float: left;margin-right: 0.25em;color: #696969;}#sk-container-id-3 label.sk-toggleable__label-arrow:hover:before {color: black;}#sk-container-id-3 div.sk-estimator:hover label.sk-toggleable__label-arrow:before {color: black;}#sk-container-id-3 div.sk-toggleable__content {max-height: 0;max-width: 0;overflow: hidden;text-align: left;background-color: #f0f8ff;}#sk-container-id-3 div.sk-toggleable__content pre {margin: 0.2em;color: black;border-radius: 0.25em;background-color: #f0f8ff;}#sk-container-id-3 input.sk-toggleable__control:checked~div.sk-toggleable__content {max-height: 200px;max-width: 100%;overflow: auto;}#sk-container-id-3 input.sk-toggleable__control:checked~label.sk-toggleable__label-arrow:before {content: \"▾\";}#sk-container-id-3 div.sk-estimator input.sk-toggleable__control:checked~label.sk-toggleable__label {background-color: #d4ebff;}#sk-container-id-3 div.sk-label input.sk-toggleable__control:checked~label.sk-toggleable__label {background-color: #d4ebff;}#sk-container-id-3 input.sk-hidden--visually {border: 0;clip: rect(1px 1px 1px 1px);clip: rect(1px, 1px, 1px, 1px);height: 1px;margin: -1px;overflow: hidden;padding: 0;position: absolute;width: 1px;}#sk-container-id-3 div.sk-estimator {font-family: monospace;background-color: #f0f8ff;border: 1px dotted black;border-radius: 0.25em;box-sizing: border-box;margin-bottom: 0.5em;}#sk-container-id-3 div.sk-estimator:hover {background-color: #d4ebff;}#sk-container-id-3 div.sk-parallel-item::after {content: \"\";width: 100%;border-bottom: 1px solid gray;flex-grow: 1;}#sk-container-id-3 div.sk-label:hover label.sk-toggleable__label {background-color: #d4ebff;}#sk-container-id-3 div.sk-serial::before {content: \"\";position: absolute;border-left: 1px solid gray;box-sizing: border-box;top: 0;bottom: 0;left: 50%;z-index: 0;}#sk-container-id-3 div.sk-serial {display: flex;flex-direction: column;align-items: center;background-color: white;padding-right: 0.2em;padding-left: 0.2em;position: relative;}#sk-container-id-3 div.sk-item {position: relative;z-index: 1;}#sk-container-id-3 div.sk-parallel {display: flex;align-items: stretch;justify-content: center;background-color: white;position: relative;}#sk-container-id-3 div.sk-item::before, #sk-container-id-3 div.sk-parallel-item::before {content: \"\";position: absolute;border-left: 1px solid gray;box-sizing: border-box;top: 0;bottom: 0;left: 50%;z-index: -1;}#sk-container-id-3 div.sk-parallel-item {display: flex;flex-direction: column;z-index: 1;position: relative;background-color: white;}#sk-container-id-3 div.sk-parallel-item:first-child::after {align-self: flex-end;width: 50%;}#sk-container-id-3 div.sk-parallel-item:last-child::after {align-self: flex-start;width: 50%;}#sk-container-id-3 div.sk-parallel-item:only-child::after {width: 0;}#sk-container-id-3 div.sk-dashed-wrapped {border: 1px dashed gray;margin: 0 0.4em 0.5em 0.4em;box-sizing: border-box;padding-bottom: 0.4em;background-color: white;}#sk-container-id-3 div.sk-label label {font-family: monospace;font-weight: bold;display: inline-block;line-height: 1.2em;}#sk-container-id-3 div.sk-label-container {text-align: center;}#sk-container-id-3 div.sk-container {/* jupyter's `normalize.less` sets `[hidden] { display: none; }` but bootstrap.min.css set `[hidden] { display: none !important; }` so we also need the `!important` here to be able to override the default hidden behavior on the sphinx rendered scikit-learn.org. See: https://github.com/scikit-learn/scikit-learn/issues/21755 */display: inline-block !important;position: relative;}#sk-container-id-3 div.sk-text-repr-fallback {display: none;}</style><div id=\"sk-container-id-3\" class=\"sk-top-container\"><div class=\"sk-text-repr-fallback\"><pre>RandomForestClassifier(criterion=&#x27;entropy&#x27;)</pre><b>In a Jupyter environment, please rerun this cell to show the HTML representation or trust the notebook. <br />On GitHub, the HTML representation is unable to render, please try loading this page with nbviewer.org.</b></div><div class=\"sk-container\" hidden><div class=\"sk-item\"><div class=\"sk-estimator sk-toggleable\"><input class=\"sk-toggleable__control sk-hidden--visually\" id=\"sk-estimator-id-3\" type=\"checkbox\" checked><label for=\"sk-estimator-id-3\" class=\"sk-toggleable__label sk-toggleable__label-arrow\">RandomForestClassifier</label><div class=\"sk-toggleable__content\"><pre>RandomForestClassifier(criterion=&#x27;entropy&#x27;)</pre></div></div></div></div></div>"
      ],
      "text/plain": [
       "RandomForestClassifier(criterion='entropy')"
      ]
     },
     "execution_count": 80,
     "metadata": {},
     "output_type": "execute_result"
    }
   ],
   "source": [
    "from sklearn.ensemble import RandomForestClassifier\n",
    "rf_reg = RandomForestClassifier(n_estimators=100, criterion='entropy')\n",
    "rf_reg.fit(x_train, y_train)"
   ]
  },
  {
   "cell_type": "code",
   "execution_count": 81,
   "id": "c6136c0d",
   "metadata": {},
   "outputs": [],
   "source": [
    "y_pred_train_rf = rf_reg.predict(x_train)\n",
    "y_pred_test_rf = rf_reg.predict(x_test)"
   ]
  },
  {
   "cell_type": "code",
   "execution_count": 82,
   "id": "d57b1c6e",
   "metadata": {},
   "outputs": [
    {
     "name": "stdout",
     "output_type": "stream",
     "text": [
      "1.0\n",
      "######################################################################################################################################################\n",
      "0.9756756756756757\n"
     ]
    }
   ],
   "source": [
    "print(accuracy_score(y_train, y_pred_train_rf))\n",
    "print(\"###############\"*10)\n",
    "print(accuracy_score(y_test, y_pred_test_rf))"
   ]
  },
  {
   "cell_type": "code",
   "execution_count": 83,
   "id": "d34ad9de",
   "metadata": {},
   "outputs": [
    {
     "data": {
      "text/plain": [
       "array([0.86486486, 0.87837838, 0.90540541, 0.87837838, 0.86486486,\n",
       "       0.81081081, 0.94594595, 0.7972973 , 0.95945946, 0.87837838])"
      ]
     },
     "execution_count": 83,
     "metadata": {},
     "output_type": "execute_result"
    }
   ],
   "source": [
    "x"
   ]
  },
  {
   "cell_type": "code",
   "execution_count": 84,
   "id": "5e92fd83",
   "metadata": {},
   "outputs": [],
   "source": [
    "#XG Boost"
   ]
  },
  {
   "cell_type": "code",
   "execution_count": 85,
   "id": "4af956a6",
   "metadata": {},
   "outputs": [
    {
     "data": {
      "text/html": [
       "<style>#sk-container-id-4 {color: black;background-color: white;}#sk-container-id-4 pre{padding: 0;}#sk-container-id-4 div.sk-toggleable {background-color: white;}#sk-container-id-4 label.sk-toggleable__label {cursor: pointer;display: block;width: 100%;margin-bottom: 0;padding: 0.3em;box-sizing: border-box;text-align: center;}#sk-container-id-4 label.sk-toggleable__label-arrow:before {content: \"▸\";float: left;margin-right: 0.25em;color: #696969;}#sk-container-id-4 label.sk-toggleable__label-arrow:hover:before {color: black;}#sk-container-id-4 div.sk-estimator:hover label.sk-toggleable__label-arrow:before {color: black;}#sk-container-id-4 div.sk-toggleable__content {max-height: 0;max-width: 0;overflow: hidden;text-align: left;background-color: #f0f8ff;}#sk-container-id-4 div.sk-toggleable__content pre {margin: 0.2em;color: black;border-radius: 0.25em;background-color: #f0f8ff;}#sk-container-id-4 input.sk-toggleable__control:checked~div.sk-toggleable__content {max-height: 200px;max-width: 100%;overflow: auto;}#sk-container-id-4 input.sk-toggleable__control:checked~label.sk-toggleable__label-arrow:before {content: \"▾\";}#sk-container-id-4 div.sk-estimator input.sk-toggleable__control:checked~label.sk-toggleable__label {background-color: #d4ebff;}#sk-container-id-4 div.sk-label input.sk-toggleable__control:checked~label.sk-toggleable__label {background-color: #d4ebff;}#sk-container-id-4 input.sk-hidden--visually {border: 0;clip: rect(1px 1px 1px 1px);clip: rect(1px, 1px, 1px, 1px);height: 1px;margin: -1px;overflow: hidden;padding: 0;position: absolute;width: 1px;}#sk-container-id-4 div.sk-estimator {font-family: monospace;background-color: #f0f8ff;border: 1px dotted black;border-radius: 0.25em;box-sizing: border-box;margin-bottom: 0.5em;}#sk-container-id-4 div.sk-estimator:hover {background-color: #d4ebff;}#sk-container-id-4 div.sk-parallel-item::after {content: \"\";width: 100%;border-bottom: 1px solid gray;flex-grow: 1;}#sk-container-id-4 div.sk-label:hover label.sk-toggleable__label {background-color: #d4ebff;}#sk-container-id-4 div.sk-serial::before {content: \"\";position: absolute;border-left: 1px solid gray;box-sizing: border-box;top: 0;bottom: 0;left: 50%;z-index: 0;}#sk-container-id-4 div.sk-serial {display: flex;flex-direction: column;align-items: center;background-color: white;padding-right: 0.2em;padding-left: 0.2em;position: relative;}#sk-container-id-4 div.sk-item {position: relative;z-index: 1;}#sk-container-id-4 div.sk-parallel {display: flex;align-items: stretch;justify-content: center;background-color: white;position: relative;}#sk-container-id-4 div.sk-item::before, #sk-container-id-4 div.sk-parallel-item::before {content: \"\";position: absolute;border-left: 1px solid gray;box-sizing: border-box;top: 0;bottom: 0;left: 50%;z-index: -1;}#sk-container-id-4 div.sk-parallel-item {display: flex;flex-direction: column;z-index: 1;position: relative;background-color: white;}#sk-container-id-4 div.sk-parallel-item:first-child::after {align-self: flex-end;width: 50%;}#sk-container-id-4 div.sk-parallel-item:last-child::after {align-self: flex-start;width: 50%;}#sk-container-id-4 div.sk-parallel-item:only-child::after {width: 0;}#sk-container-id-4 div.sk-dashed-wrapped {border: 1px dashed gray;margin: 0 0.4em 0.5em 0.4em;box-sizing: border-box;padding-bottom: 0.4em;background-color: white;}#sk-container-id-4 div.sk-label label {font-family: monospace;font-weight: bold;display: inline-block;line-height: 1.2em;}#sk-container-id-4 div.sk-label-container {text-align: center;}#sk-container-id-4 div.sk-container {/* jupyter's `normalize.less` sets `[hidden] { display: none; }` but bootstrap.min.css set `[hidden] { display: none !important; }` so we also need the `!important` here to be able to override the default hidden behavior on the sphinx rendered scikit-learn.org. See: https://github.com/scikit-learn/scikit-learn/issues/21755 */display: inline-block !important;position: relative;}#sk-container-id-4 div.sk-text-repr-fallback {display: none;}</style><div id=\"sk-container-id-4\" class=\"sk-top-container\"><div class=\"sk-text-repr-fallback\"><pre>XGBClassifier(base_score=0.5, booster=&#x27;gbtree&#x27;, callbacks=None,\n",
       "              colsample_bylevel=1, colsample_bynode=1, colsample_bytree=1,\n",
       "              early_stopping_rounds=None, enable_categorical=False,\n",
       "              eval_metric=None, gamma=0, gpu_id=-1, grow_policy=&#x27;depthwise&#x27;,\n",
       "              importance_type=None, interaction_constraints=&#x27;&#x27;,\n",
       "              learning_rate=0.300000012, max_bin=256, max_cat_to_onehot=4,\n",
       "              max_delta_step=0, max_depth=6, max_leaves=0, min_child_weight=1,\n",
       "              missing=nan, monotone_constraints=&#x27;()&#x27;, n_estimators=100,\n",
       "              n_jobs=0, num_parallel_tree=1, predictor=&#x27;auto&#x27;, random_state=0,\n",
       "              reg_alpha=0, reg_lambda=1, ...)</pre><b>In a Jupyter environment, please rerun this cell to show the HTML representation or trust the notebook. <br />On GitHub, the HTML representation is unable to render, please try loading this page with nbviewer.org.</b></div><div class=\"sk-container\" hidden><div class=\"sk-item\"><div class=\"sk-estimator sk-toggleable\"><input class=\"sk-toggleable__control sk-hidden--visually\" id=\"sk-estimator-id-4\" type=\"checkbox\" checked><label for=\"sk-estimator-id-4\" class=\"sk-toggleable__label sk-toggleable__label-arrow\">XGBClassifier</label><div class=\"sk-toggleable__content\"><pre>XGBClassifier(base_score=0.5, booster=&#x27;gbtree&#x27;, callbacks=None,\n",
       "              colsample_bylevel=1, colsample_bynode=1, colsample_bytree=1,\n",
       "              early_stopping_rounds=None, enable_categorical=False,\n",
       "              eval_metric=None, gamma=0, gpu_id=-1, grow_policy=&#x27;depthwise&#x27;,\n",
       "              importance_type=None, interaction_constraints=&#x27;&#x27;,\n",
       "              learning_rate=0.300000012, max_bin=256, max_cat_to_onehot=4,\n",
       "              max_delta_step=0, max_depth=6, max_leaves=0, min_child_weight=1,\n",
       "              missing=nan, monotone_constraints=&#x27;()&#x27;, n_estimators=100,\n",
       "              n_jobs=0, num_parallel_tree=1, predictor=&#x27;auto&#x27;, random_state=0,\n",
       "              reg_alpha=0, reg_lambda=1, ...)</pre></div></div></div></div></div>"
      ],
      "text/plain": [
       "XGBClassifier(base_score=0.5, booster='gbtree', callbacks=None,\n",
       "              colsample_bylevel=1, colsample_bynode=1, colsample_bytree=1,\n",
       "              early_stopping_rounds=None, enable_categorical=False,\n",
       "              eval_metric=None, gamma=0, gpu_id=-1, grow_policy='depthwise',\n",
       "              importance_type=None, interaction_constraints='',\n",
       "              learning_rate=0.300000012, max_bin=256, max_cat_to_onehot=4,\n",
       "              max_delta_step=0, max_depth=6, max_leaves=0, min_child_weight=1,\n",
       "              missing=nan, monotone_constraints='()', n_estimators=100,\n",
       "              n_jobs=0, num_parallel_tree=1, predictor='auto', random_state=0,\n",
       "              reg_alpha=0, reg_lambda=1, ...)"
      ]
     },
     "execution_count": 85,
     "metadata": {},
     "output_type": "execute_result"
    }
   ],
   "source": [
    "from xgboost import XGBClassifier\n",
    "xgb = XGBClassifier()\n",
    "xgb.fit(x_train, y_train)"
   ]
  },
  {
   "cell_type": "code",
   "execution_count": 86,
   "id": "68687606",
   "metadata": {},
   "outputs": [],
   "source": [
    "#Learning: XGBoost Takes input in Binary"
   ]
  },
  {
   "cell_type": "code",
   "execution_count": 87,
   "id": "5631c3f2",
   "metadata": {},
   "outputs": [],
   "source": [
    "y_pred_xgb_train = xgb.predict(x_train)\n",
    "y_pred_xgb_test = xgb.predict(x_test)"
   ]
  },
  {
   "cell_type": "code",
   "execution_count": 88,
   "id": "42002167",
   "metadata": {},
   "outputs": [
    {
     "name": "stdout",
     "output_type": "stream",
     "text": [
      "[[853   0]\n",
      " [  0 873]]\n",
      "#################################################################\n",
      "[[347  33]\n",
      " [  1 359]]\n",
      "              precision    recall  f1-score   support\n",
      "\n",
      "           0       1.00      1.00      1.00       853\n",
      "           1       1.00      1.00      1.00       873\n",
      "\n",
      "    accuracy                           1.00      1726\n",
      "   macro avg       1.00      1.00      1.00      1726\n",
      "weighted avg       1.00      1.00      1.00      1726\n",
      "\n",
      "#################################################################\n",
      "              precision    recall  f1-score   support\n",
      "\n",
      "           0       1.00      0.91      0.95       380\n",
      "           1       0.92      1.00      0.95       360\n",
      "\n",
      "    accuracy                           0.95       740\n",
      "   macro avg       0.96      0.96      0.95       740\n",
      "weighted avg       0.96      0.95      0.95       740\n",
      "\n",
      "Training Accuracy : 1.0\n",
      "#################################################################\n",
      "Test Accuracy : 0.9540540540540541\n"
     ]
    }
   ],
   "source": [
    "print(confusion_matrix(y_train, y_pred_xgb_train))\n",
    "print(\"#############\"*5)\n",
    "print(confusion_matrix(y_test, y_pred_xgb_test))\n",
    "\n",
    "print(classification_report(y_train, y_pred_xgb_train))\n",
    "print(\"#############\"*5)\n",
    "print(classification_report(y_test, y_pred_xgb_test))\n",
    "\n",
    "print(\"Training Accuracy :\", accuracy_score(y_train, y_pred_xgb_train))\n",
    "print(\"#############\"*5)\n",
    "print(\"Test Accuracy :\",accuracy_score(y_test, y_pred_xgb_test))"
   ]
  },
  {
   "cell_type": "code",
   "execution_count": 89,
   "id": "9c7694ec",
   "metadata": {},
   "outputs": [],
   "source": [
    "# ROC and AUC"
   ]
  },
  {
   "cell_type": "code",
   "execution_count": 90,
   "id": "220f8d9c",
   "metadata": {},
   "outputs": [
    {
     "data": {
      "text/plain": [
       "0.9551900584795321"
      ]
     },
     "execution_count": 90,
     "metadata": {},
     "output_type": "execute_result"
    }
   ],
   "source": [
    "from sklearn.metrics import roc_auc_score\n",
    "logistic_roc_auc = roc_auc_score(y_test, y_pred_xgb_test)\n",
    "logistic_roc_auc"
   ]
  },
  {
   "cell_type": "code",
   "execution_count": 91,
   "id": "75d2ab73",
   "metadata": {},
   "outputs": [
    {
     "data": {
      "text/plain": [
       "array([0.        , 0.08684211, 1.        ])"
      ]
     },
     "metadata": {},
     "output_type": "display_data"
    },
    {
     "data": {
      "text/plain": [
       "array([0.        , 0.99722222, 1.        ])"
      ]
     },
     "metadata": {},
     "output_type": "display_data"
    },
    {
     "data": {
      "text/plain": [
       "array([2, 1, 0])"
      ]
     },
     "metadata": {},
     "output_type": "display_data"
    }
   ],
   "source": [
    "from sklearn.metrics import roc_curve\n",
    "fpr, tpr, thresholds = roc_curve(y_test, y_pred_xgb_test)\n",
    "display(fpr[:10])\n",
    "display(tpr[:10])\n",
    "display(thresholds[:10])"
   ]
  },
  {
   "cell_type": "code",
   "execution_count": 92,
   "id": "2ef00f31",
   "metadata": {},
   "outputs": [
    {
     "data": {
      "image/png": "[encoded data removed]",
      "text/plain": [
       "<Figure size 432x288 with 1 Axes>"
      ]
     },
     "metadata": {},
     "output_type": "display_data"
    }
   ],
   "source": [
    "plt.figure()\n",
    "plt.plot(fpr, tpr, label = 'ROC Curve (area=%0.2f)' %logistic_roc_auc)\n",
    "plt.plot([0,1],[0,1],'k--')\n",
    "plt.xlim([0.0,1.0])\n",
    "plt.ylim([0.0,1.0])\n",
    "plt.xlabel('False Positive Rate')\n",
    "plt.ylabel('True Positive Rate')\n",
    "plt.title('Receiver Operating Characteristic with Area Under Curve')\n",
    "plt.legend(loc='lower right')\n",
    "plt.show()"
   ]
  },
  {
   "cell_type": "code",
   "execution_count": 93,
   "id": "ba9a0099",
   "metadata": {},
   "outputs": [],
   "source": [
    "#Precision and Recall came best in XG Boost so will stay with this model"
   ]
  },
  {
   "cell_type": "markdown",
   "id": "2bb47301",
   "metadata": {},
   "source": [
    "# With Standardized Value"
   ]
  },
  {
   "cell_type": "code",
   "execution_count": 94,
   "id": "38aa0fe6",
   "metadata": {},
   "outputs": [],
   "source": [
    "from sklearn.preprocessing import StandardScaler\n",
    "Scaler = StandardScaler()\n",
    "x1 = Scaler.fit_transform(x)"
   ]
  },
  {
   "cell_type": "code",
   "execution_count": 95,
   "id": "49cd0b89",
   "metadata": {},
   "outputs": [
    {
     "name": "stdout",
     "output_type": "stream",
     "text": [
      "(2466, 30)\n",
      "(2466,)\n",
      "(2466, 30)\n"
     ]
    }
   ],
   "source": [
    "print(x.shape)\n",
    "print(y.shape)\n",
    "print(x1.shape)"
   ]
  },
  {
   "cell_type": "code",
   "execution_count": 96,
   "id": "72f7cd04",
   "metadata": {},
   "outputs": [],
   "source": [
    "from sklearn.model_selection import train_test_split"
   ]
  },
  {
   "cell_type": "code",
   "execution_count": 97,
   "id": "9279a50a",
   "metadata": {},
   "outputs": [],
   "source": [
    "x1_train,x1_test,y_train,y_test = train_test_split(x1,y,train_size = .70, random_state = 101)"
   ]
  },
  {
   "cell_type": "code",
   "execution_count": 98,
   "id": "8ae89883",
   "metadata": {},
   "outputs": [
    {
     "name": "stdout",
     "output_type": "stream",
     "text": [
      "(1726, 30)\n",
      "(1726,)\n"
     ]
    }
   ],
   "source": [
    "print(x1_train.shape)\n",
    "print(y_train.shape)"
   ]
  },
  {
   "cell_type": "markdown",
   "id": "010e02ff",
   "metadata": {},
   "source": [
    "# LR"
   ]
  },
  {
   "cell_type": "code",
   "execution_count": 99,
   "id": "4bc83e01",
   "metadata": {},
   "outputs": [
    {
     "data": {
      "text/html": [
       "<style>#sk-container-id-5 {color: black;background-color: white;}#sk-container-id-5 pre{padding: 0;}#sk-container-id-5 div.sk-toggleable {background-color: white;}#sk-container-id-5 label.sk-toggleable__label {cursor: pointer;display: block;width: 100%;margin-bottom: 0;padding: 0.3em;box-sizing: border-box;text-align: center;}#sk-container-id-5 label.sk-toggleable__label-arrow:before {content: \"▸\";float: left;margin-right: 0.25em;color: #696969;}#sk-container-id-5 label.sk-toggleable__label-arrow:hover:before {color: black;}#sk-container-id-5 div.sk-estimator:hover label.sk-toggleable__label-arrow:before {color: black;}#sk-container-id-5 div.sk-toggleable__content {max-height: 0;max-width: 0;overflow: hidden;text-align: left;background-color: #f0f8ff;}#sk-container-id-5 div.sk-toggleable__content pre {margin: 0.2em;color: black;border-radius: 0.25em;background-color: #f0f8ff;}#sk-container-id-5 input.sk-toggleable__control:checked~div.sk-toggleable__content {max-height: 200px;max-width: 100%;overflow: auto;}#sk-container-id-5 input.sk-toggleable__control:checked~label.sk-toggleable__label-arrow:before {content: \"▾\";}#sk-container-id-5 div.sk-estimator input.sk-toggleable__control:checked~label.sk-toggleable__label {background-color: #d4ebff;}#sk-container-id-5 div.sk-label input.sk-toggleable__control:checked~label.sk-toggleable__label {background-color: #d4ebff;}#sk-container-id-5 input.sk-hidden--visually {border: 0;clip: rect(1px 1px 1px 1px);clip: rect(1px, 1px, 1px, 1px);height: 1px;margin: -1px;overflow: hidden;padding: 0;position: absolute;width: 1px;}#sk-container-id-5 div.sk-estimator {font-family: monospace;background-color: #f0f8ff;border: 1px dotted black;border-radius: 0.25em;box-sizing: border-box;margin-bottom: 0.5em;}#sk-container-id-5 div.sk-estimator:hover {background-color: #d4ebff;}#sk-container-id-5 div.sk-parallel-item::after {content: \"\";width: 100%;border-bottom: 1px solid gray;flex-grow: 1;}#sk-container-id-5 div.sk-label:hover label.sk-toggleable__label {background-color: #d4ebff;}#sk-container-id-5 div.sk-serial::before {content: \"\";position: absolute;border-left: 1px solid gray;box-sizing: border-box;top: 0;bottom: 0;left: 50%;z-index: 0;}#sk-container-id-5 div.sk-serial {display: flex;flex-direction: column;align-items: center;background-color: white;padding-right: 0.2em;padding-left: 0.2em;position: relative;}#sk-container-id-5 div.sk-item {position: relative;z-index: 1;}#sk-container-id-5 div.sk-parallel {display: flex;align-items: stretch;justify-content: center;background-color: white;position: relative;}#sk-container-id-5 div.sk-item::before, #sk-container-id-5 div.sk-parallel-item::before {content: \"\";position: absolute;border-left: 1px solid gray;box-sizing: border-box;top: 0;bottom: 0;left: 50%;z-index: -1;}#sk-container-id-5 div.sk-parallel-item {display: flex;flex-direction: column;z-index: 1;position: relative;background-color: white;}#sk-container-id-5 div.sk-parallel-item:first-child::after {align-self: flex-end;width: 50%;}#sk-container-id-5 div.sk-parallel-item:last-child::after {align-self: flex-start;width: 50%;}#sk-container-id-5 div.sk-parallel-item:only-child::after {width: 0;}#sk-container-id-5 div.sk-dashed-wrapped {border: 1px dashed gray;margin: 0 0.4em 0.5em 0.4em;box-sizing: border-box;padding-bottom: 0.4em;background-color: white;}#sk-container-id-5 div.sk-label label {font-family: monospace;font-weight: bold;display: inline-block;line-height: 1.2em;}#sk-container-id-5 div.sk-label-container {text-align: center;}#sk-container-id-5 div.sk-container {/* jupyter's `normalize.less` sets `[hidden] { display: none; }` but bootstrap.min.css set `[hidden] { display: none !important; }` so we also need the `!important` here to be able to override the default hidden behavior on the sphinx rendered scikit-learn.org. See: https://github.com/scikit-learn/scikit-learn/issues/21755 */display: inline-block !important;position: relative;}#sk-container-id-5 div.sk-text-repr-fallback {display: none;}</style><div id=\"sk-container-id-5\" class=\"sk-top-container\"><div class=\"sk-text-repr-fallback\"><pre>LogisticRegression()</pre><b>In a Jupyter environment, please rerun this cell to show the HTML representation or trust the notebook. <br />On GitHub, the HTML representation is unable to render, please try loading this page with nbviewer.org.</b></div><div class=\"sk-container\" hidden><div class=\"sk-item\"><div class=\"sk-estimator sk-toggleable\"><input class=\"sk-toggleable__control sk-hidden--visually\" id=\"sk-estimator-id-5\" type=\"checkbox\" checked><label for=\"sk-estimator-id-5\" class=\"sk-toggleable__label sk-toggleable__label-arrow\">LogisticRegression</label><div class=\"sk-toggleable__content\"><pre>LogisticRegression()</pre></div></div></div></div></div>"
      ],
      "text/plain": [
       "LogisticRegression()"
      ]
     },
     "execution_count": 99,
     "metadata": {},
     "output_type": "execute_result"
    }
   ],
   "source": [
    "from sklearn.linear_model import LogisticRegression\n",
    "logit_model = LogisticRegression()\n",
    "logit_model.fit(x1_train, y_train)"
   ]
  },
  {
   "cell_type": "code",
   "execution_count": 100,
   "id": "bc503fda",
   "metadata": {},
   "outputs": [
    {
     "data": {
      "text/html": [
       "<style>#sk-container-id-6 {color: black;background-color: white;}#sk-container-id-6 pre{padding: 0;}#sk-container-id-6 div.sk-toggleable {background-color: white;}#sk-container-id-6 label.sk-toggleable__label {cursor: pointer;display: block;width: 100%;margin-bottom: 0;padding: 0.3em;box-sizing: border-box;text-align: center;}#sk-container-id-6 label.sk-toggleable__label-arrow:before {content: \"▸\";float: left;margin-right: 0.25em;color: #696969;}#sk-container-id-6 label.sk-toggleable__label-arrow:hover:before {color: black;}#sk-container-id-6 div.sk-estimator:hover label.sk-toggleable__label-arrow:before {color: black;}#sk-container-id-6 div.sk-toggleable__content {max-height: 0;max-width: 0;overflow: hidden;text-align: left;background-color: #f0f8ff;}#sk-container-id-6 div.sk-toggleable__content pre {margin: 0.2em;color: black;border-radius: 0.25em;background-color: #f0f8ff;}#sk-container-id-6 input.sk-toggleable__control:checked~div.sk-toggleable__content {max-height: 200px;max-width: 100%;overflow: auto;}#sk-container-id-6 input.sk-toggleable__control:checked~label.sk-toggleable__label-arrow:before {content: \"▾\";}#sk-container-id-6 div.sk-estimator input.sk-toggleable__control:checked~label.sk-toggleable__label {background-color: #d4ebff;}#sk-container-id-6 div.sk-label input.sk-toggleable__control:checked~label.sk-toggleable__label {background-color: #d4ebff;}#sk-container-id-6 input.sk-hidden--visually {border: 0;clip: rect(1px 1px 1px 1px);clip: rect(1px, 1px, 1px, 1px);height: 1px;margin: -1px;overflow: hidden;padding: 0;position: absolute;width: 1px;}#sk-container-id-6 div.sk-estimator {font-family: monospace;background-color: #f0f8ff;border: 1px dotted black;border-radius: 0.25em;box-sizing: border-box;margin-bottom: 0.5em;}#sk-container-id-6 div.sk-estimator:hover {background-color: #d4ebff;}#sk-container-id-6 div.sk-parallel-item::after {content: \"\";width: 100%;border-bottom: 1px solid gray;flex-grow: 1;}#sk-container-id-6 div.sk-label:hover label.sk-toggleable__label {background-color: #d4ebff;}#sk-container-id-6 div.sk-serial::before {content: \"\";position: absolute;border-left: 1px solid gray;box-sizing: border-box;top: 0;bottom: 0;left: 50%;z-index: 0;}#sk-container-id-6 div.sk-serial {display: flex;flex-direction: column;align-items: center;background-color: white;padding-right: 0.2em;padding-left: 0.2em;position: relative;}#sk-container-id-6 div.sk-item {position: relative;z-index: 1;}#sk-container-id-6 div.sk-parallel {display: flex;align-items: stretch;justify-content: center;background-color: white;position: relative;}#sk-container-id-6 div.sk-item::before, #sk-container-id-6 div.sk-parallel-item::before {content: \"\";position: absolute;border-left: 1px solid gray;box-sizing: border-box;top: 0;bottom: 0;left: 50%;z-index: -1;}#sk-container-id-6 div.sk-parallel-item {display: flex;flex-direction: column;z-index: 1;position: relative;background-color: white;}#sk-container-id-6 div.sk-parallel-item:first-child::after {align-self: flex-end;width: 50%;}#sk-container-id-6 div.sk-parallel-item:last-child::after {align-self: flex-start;width: 50%;}#sk-container-id-6 div.sk-parallel-item:only-child::after {width: 0;}#sk-container-id-6 div.sk-dashed-wrapped {border: 1px dashed gray;margin: 0 0.4em 0.5em 0.4em;box-sizing: border-box;padding-bottom: 0.4em;background-color: white;}#sk-container-id-6 div.sk-label label {font-family: monospace;font-weight: bold;display: inline-block;line-height: 1.2em;}#sk-container-id-6 div.sk-label-container {text-align: center;}#sk-container-id-6 div.sk-container {/* jupyter's `normalize.less` sets `[hidden] { display: none; }` but bootstrap.min.css set `[hidden] { display: none !important; }` so we also need the `!important` here to be able to override the default hidden behavior on the sphinx rendered scikit-learn.org. See: https://github.com/scikit-learn/scikit-learn/issues/21755 */display: inline-block !important;position: relative;}#sk-container-id-6 div.sk-text-repr-fallback {display: none;}</style><div id=\"sk-container-id-6\" class=\"sk-top-container\"><div class=\"sk-text-repr-fallback\"><pre>LogisticRegression()</pre><b>In a Jupyter environment, please rerun this cell to show the HTML representation or trust the notebook. <br />On GitHub, the HTML representation is unable to render, please try loading this page with nbviewer.org.</b></div><div class=\"sk-container\" hidden><div class=\"sk-item\"><div class=\"sk-estimator sk-toggleable\"><input class=\"sk-toggleable__control sk-hidden--visually\" id=\"sk-estimator-id-6\" type=\"checkbox\" checked><label for=\"sk-estimator-id-6\" class=\"sk-toggleable__label sk-toggleable__label-arrow\">LogisticRegression</label><div class=\"sk-toggleable__content\"><pre>LogisticRegression()</pre></div></div></div></div></div>"
      ],
      "text/plain": [
       "LogisticRegression()"
      ]
     },
     "execution_count": 100,
     "metadata": {},
     "output_type": "execute_result"
    }
   ],
   "source": [
    "from sklearn.linear_model import LogisticRegression\n",
    "logit = LogisticRegression()\n",
    "logit.fit(x1_train,y_train)"
   ]
  },
  {
   "cell_type": "code",
   "execution_count": 101,
   "id": "c09161d1",
   "metadata": {},
   "outputs": [],
   "source": [
    "y_pred_train = logit_model.predict(x1_train)\n",
    "y_pred_test = logit_model.predict(x1_test)"
   ]
  },
  {
   "cell_type": "code",
   "execution_count": 102,
   "id": "d643905f",
   "metadata": {},
   "outputs": [
    {
     "name": "stdout",
     "output_type": "stream",
     "text": [
      "[[650 203]\n",
      " [174 699]]\n",
      "########################################################################################################################################################################################################\n",
      "[[280 100]\n",
      " [ 96 264]]\n"
     ]
    }
   ],
   "source": [
    "print(confusion_matrix(y_train, y_pred_train))\n",
    "print(\"########\"*25)\n",
    "print(confusion_matrix(y_test, y_pred_test))"
   ]
  },
  {
   "cell_type": "code",
   "execution_count": 103,
   "id": "d13c82c4",
   "metadata": {},
   "outputs": [
    {
     "name": "stdout",
     "output_type": "stream",
     "text": [
      "              precision    recall  f1-score   support\n",
      "\n",
      "           0       0.79      0.76      0.78       853\n",
      "           1       0.77      0.80      0.79       873\n",
      "\n",
      "    accuracy                           0.78      1726\n",
      "   macro avg       0.78      0.78      0.78      1726\n",
      "weighted avg       0.78      0.78      0.78      1726\n",
      "\n",
      "#####################################################################################################################################################################################################################################################################################################################################\n",
      "              precision    recall  f1-score   support\n",
      "\n",
      "           0       0.74      0.74      0.74       380\n",
      "           1       0.73      0.73      0.73       360\n",
      "\n",
      "    accuracy                           0.74       740\n",
      "   macro avg       0.73      0.74      0.74       740\n",
      "weighted avg       0.74      0.74      0.74       740\n",
      "\n"
     ]
    }
   ],
   "source": [
    "print(classification_report(y_train, y_pred_train))\n",
    "print(\"#############\"*25)\n",
    "print(classification_report(y_test, y_pred_test))"
   ]
  },
  {
   "cell_type": "markdown",
   "id": "5d43fe1c",
   "metadata": {},
   "source": [
    "# DT"
   ]
  },
  {
   "cell_type": "code",
   "execution_count": 104,
   "id": "fd3bd19d",
   "metadata": {},
   "outputs": [
    {
     "data": {
      "text/html": [
       "<style>#sk-container-id-7 {color: black;background-color: white;}#sk-container-id-7 pre{padding: 0;}#sk-container-id-7 div.sk-toggleable {background-color: white;}#sk-container-id-7 label.sk-toggleable__label {cursor: pointer;display: block;width: 100%;margin-bottom: 0;padding: 0.3em;box-sizing: border-box;text-align: center;}#sk-container-id-7 label.sk-toggleable__label-arrow:before {content: \"▸\";float: left;margin-right: 0.25em;color: #696969;}#sk-container-id-7 label.sk-toggleable__label-arrow:hover:before {color: black;}#sk-container-id-7 div.sk-estimator:hover label.sk-toggleable__label-arrow:before {color: black;}#sk-container-id-7 div.sk-toggleable__content {max-height: 0;max-width: 0;overflow: hidden;text-align: left;background-color: #f0f8ff;}#sk-container-id-7 div.sk-toggleable__content pre {margin: 0.2em;color: black;border-radius: 0.25em;background-color: #f0f8ff;}#sk-container-id-7 input.sk-toggleable__control:checked~div.sk-toggleable__content {max-height: 200px;max-width: 100%;overflow: auto;}#sk-container-id-7 input.sk-toggleable__control:checked~label.sk-toggleable__label-arrow:before {content: \"▾\";}#sk-container-id-7 div.sk-estimator input.sk-toggleable__control:checked~label.sk-toggleable__label {background-color: #d4ebff;}#sk-container-id-7 div.sk-label input.sk-toggleable__control:checked~label.sk-toggleable__label {background-color: #d4ebff;}#sk-container-id-7 input.sk-hidden--visually {border: 0;clip: rect(1px 1px 1px 1px);clip: rect(1px, 1px, 1px, 1px);height: 1px;margin: -1px;overflow: hidden;padding: 0;position: absolute;width: 1px;}#sk-container-id-7 div.sk-estimator {font-family: monospace;background-color: #f0f8ff;border: 1px dotted black;border-radius: 0.25em;box-sizing: border-box;margin-bottom: 0.5em;}#sk-container-id-7 div.sk-estimator:hover {background-color: #d4ebff;}#sk-container-id-7 div.sk-parallel-item::after {content: \"\";width: 100%;border-bottom: 1px solid gray;flex-grow: 1;}#sk-container-id-7 div.sk-label:hover label.sk-toggleable__label {background-color: #d4ebff;}#sk-container-id-7 div.sk-serial::before {content: \"\";position: absolute;border-left: 1px solid gray;box-sizing: border-box;top: 0;bottom: 0;left: 50%;z-index: 0;}#sk-container-id-7 div.sk-serial {display: flex;flex-direction: column;align-items: center;background-color: white;padding-right: 0.2em;padding-left: 0.2em;position: relative;}#sk-container-id-7 div.sk-item {position: relative;z-index: 1;}#sk-container-id-7 div.sk-parallel {display: flex;align-items: stretch;justify-content: center;background-color: white;position: relative;}#sk-container-id-7 div.sk-item::before, #sk-container-id-7 div.sk-parallel-item::before {content: \"\";position: absolute;border-left: 1px solid gray;box-sizing: border-box;top: 0;bottom: 0;left: 50%;z-index: -1;}#sk-container-id-7 div.sk-parallel-item {display: flex;flex-direction: column;z-index: 1;position: relative;background-color: white;}#sk-container-id-7 div.sk-parallel-item:first-child::after {align-self: flex-end;width: 50%;}#sk-container-id-7 div.sk-parallel-item:last-child::after {align-self: flex-start;width: 50%;}#sk-container-id-7 div.sk-parallel-item:only-child::after {width: 0;}#sk-container-id-7 div.sk-dashed-wrapped {border: 1px dashed gray;margin: 0 0.4em 0.5em 0.4em;box-sizing: border-box;padding-bottom: 0.4em;background-color: white;}#sk-container-id-7 div.sk-label label {font-family: monospace;font-weight: bold;display: inline-block;line-height: 1.2em;}#sk-container-id-7 div.sk-label-container {text-align: center;}#sk-container-id-7 div.sk-container {/* jupyter's `normalize.less` sets `[hidden] { display: none; }` but bootstrap.min.css set `[hidden] { display: none !important; }` so we also need the `!important` here to be able to override the default hidden behavior on the sphinx rendered scikit-learn.org. See: https://github.com/scikit-learn/scikit-learn/issues/21755 */display: inline-block !important;position: relative;}#sk-container-id-7 div.sk-text-repr-fallback {display: none;}</style><div id=\"sk-container-id-7\" class=\"sk-top-container\"><div class=\"sk-text-repr-fallback\"><pre>DecisionTreeClassifier(criterion=&#x27;entropy&#x27;)</pre><b>In a Jupyter environment, please rerun this cell to show the HTML representation or trust the notebook. <br />On GitHub, the HTML representation is unable to render, please try loading this page with nbviewer.org.</b></div><div class=\"sk-container\" hidden><div class=\"sk-item\"><div class=\"sk-estimator sk-toggleable\"><input class=\"sk-toggleable__control sk-hidden--visually\" id=\"sk-estimator-id-7\" type=\"checkbox\" checked><label for=\"sk-estimator-id-7\" class=\"sk-toggleable__label sk-toggleable__label-arrow\">DecisionTreeClassifier</label><div class=\"sk-toggleable__content\"><pre>DecisionTreeClassifier(criterion=&#x27;entropy&#x27;)</pre></div></div></div></div></div>"
      ],
      "text/plain": [
       "DecisionTreeClassifier(criterion='entropy')"
      ]
     },
     "execution_count": 104,
     "metadata": {},
     "output_type": "execute_result"
    }
   ],
   "source": [
    "from sklearn.tree import DecisionTreeClassifier\n",
    "dtree = DecisionTreeClassifier(criterion ='entropy')\n",
    "dtree.fit(x1_train, y_train)"
   ]
  },
  {
   "cell_type": "code",
   "execution_count": 105,
   "id": "19816569",
   "metadata": {},
   "outputs": [],
   "source": [
    "y_pred_dtree_train = dtree.predict(x1_train)\n",
    "y_pred_dtree_test = dtree.predict(x1_test)"
   ]
  },
  {
   "cell_type": "code",
   "execution_count": 106,
   "id": "358b249b",
   "metadata": {},
   "outputs": [
    {
     "name": "stdout",
     "output_type": "stream",
     "text": [
      "[[853   0]\n",
      " [  0 873]]\n",
      "#################################################################\n",
      "[[310  70]\n",
      " [  1 359]]\n",
      "              precision    recall  f1-score   support\n",
      "\n",
      "           0       1.00      1.00      1.00       853\n",
      "           1       1.00      1.00      1.00       873\n",
      "\n",
      "    accuracy                           1.00      1726\n",
      "   macro avg       1.00      1.00      1.00      1726\n",
      "weighted avg       1.00      1.00      1.00      1726\n",
      "\n",
      "#################################################################\n",
      "              precision    recall  f1-score   support\n",
      "\n",
      "           0       1.00      0.82      0.90       380\n",
      "           1       0.84      1.00      0.91       360\n",
      "\n",
      "    accuracy                           0.90       740\n",
      "   macro avg       0.92      0.91      0.90       740\n",
      "weighted avg       0.92      0.90      0.90       740\n",
      "\n",
      "Training Accuracy : 1.0\n",
      "#################################################################\n",
      "Test Accuracy : 0.904054054054054\n"
     ]
    }
   ],
   "source": [
    "print(confusion_matrix(y_train, y_pred_dtree_train))\n",
    "print(\"#############\"*5)\n",
    "print(confusion_matrix(y_test, y_pred_dtree_test))\n",
    "\n",
    "print(classification_report(y_train, y_pred_dtree_train))\n",
    "print(\"#############\"*5)\n",
    "print(classification_report(y_test, y_pred_dtree_test))\n",
    "\n",
    "print(\"Training Accuracy :\", accuracy_score(y_train, y_pred_dtree_train))\n",
    "print(\"#############\"*5)\n",
    "print(\"Test Accuracy :\",accuracy_score(y_test, y_pred_dtree_test))"
   ]
  },
  {
   "cell_type": "markdown",
   "id": "71cee322",
   "metadata": {},
   "source": [
    "# RF"
   ]
  },
  {
   "cell_type": "code",
   "execution_count": 107,
   "id": "151ebbc0",
   "metadata": {},
   "outputs": [
    {
     "data": {
      "text/html": [
       "<style>#sk-container-id-8 {color: black;background-color: white;}#sk-container-id-8 pre{padding: 0;}#sk-container-id-8 div.sk-toggleable {background-color: white;}#sk-container-id-8 label.sk-toggleable__label {cursor: pointer;display: block;width: 100%;margin-bottom: 0;padding: 0.3em;box-sizing: border-box;text-align: center;}#sk-container-id-8 label.sk-toggleable__label-arrow:before {content: \"▸\";float: left;margin-right: 0.25em;color: #696969;}#sk-container-id-8 label.sk-toggleable__label-arrow:hover:before {color: black;}#sk-container-id-8 div.sk-estimator:hover label.sk-toggleable__label-arrow:before {color: black;}#sk-container-id-8 div.sk-toggleable__content {max-height: 0;max-width: 0;overflow: hidden;text-align: left;background-color: #f0f8ff;}#sk-container-id-8 div.sk-toggleable__content pre {margin: 0.2em;color: black;border-radius: 0.25em;background-color: #f0f8ff;}#sk-container-id-8 input.sk-toggleable__control:checked~div.sk-toggleable__content {max-height: 200px;max-width: 100%;overflow: auto;}#sk-container-id-8 input.sk-toggleable__control:checked~label.sk-toggleable__label-arrow:before {content: \"▾\";}#sk-container-id-8 div.sk-estimator input.sk-toggleable__control:checked~label.sk-toggleable__label {background-color: #d4ebff;}#sk-container-id-8 div.sk-label input.sk-toggleable__control:checked~label.sk-toggleable__label {background-color: #d4ebff;}#sk-container-id-8 input.sk-hidden--visually {border: 0;clip: rect(1px 1px 1px 1px);clip: rect(1px, 1px, 1px, 1px);height: 1px;margin: -1px;overflow: hidden;padding: 0;position: absolute;width: 1px;}#sk-container-id-8 div.sk-estimator {font-family: monospace;background-color: #f0f8ff;border: 1px dotted black;border-radius: 0.25em;box-sizing: border-box;margin-bottom: 0.5em;}#sk-container-id-8 div.sk-estimator:hover {background-color: #d4ebff;}#sk-container-id-8 div.sk-parallel-item::after {content: \"\";width: 100%;border-bottom: 1px solid gray;flex-grow: 1;}#sk-container-id-8 div.sk-label:hover label.sk-toggleable__label {background-color: #d4ebff;}#sk-container-id-8 div.sk-serial::before {content: \"\";position: absolute;border-left: 1px solid gray;box-sizing: border-box;top: 0;bottom: 0;left: 50%;z-index: 0;}#sk-container-id-8 div.sk-serial {display: flex;flex-direction: column;align-items: center;background-color: white;padding-right: 0.2em;padding-left: 0.2em;position: relative;}#sk-container-id-8 div.sk-item {position: relative;z-index: 1;}#sk-container-id-8 div.sk-parallel {display: flex;align-items: stretch;justify-content: center;background-color: white;position: relative;}#sk-container-id-8 div.sk-item::before, #sk-container-id-8 div.sk-parallel-item::before {content: \"\";position: absolute;border-left: 1px solid gray;box-sizing: border-box;top: 0;bottom: 0;left: 50%;z-index: -1;}#sk-container-id-8 div.sk-parallel-item {display: flex;flex-direction: column;z-index: 1;position: relative;background-color: white;}#sk-container-id-8 div.sk-parallel-item:first-child::after {align-self: flex-end;width: 50%;}#sk-container-id-8 div.sk-parallel-item:last-child::after {align-self: flex-start;width: 50%;}#sk-container-id-8 div.sk-parallel-item:only-child::after {width: 0;}#sk-container-id-8 div.sk-dashed-wrapped {border: 1px dashed gray;margin: 0 0.4em 0.5em 0.4em;box-sizing: border-box;padding-bottom: 0.4em;background-color: white;}#sk-container-id-8 div.sk-label label {font-family: monospace;font-weight: bold;display: inline-block;line-height: 1.2em;}#sk-container-id-8 div.sk-label-container {text-align: center;}#sk-container-id-8 div.sk-container {/* jupyter's `normalize.less` sets `[hidden] { display: none; }` but bootstrap.min.css set `[hidden] { display: none !important; }` so we also need the `!important` here to be able to override the default hidden behavior on the sphinx rendered scikit-learn.org. See: https://github.com/scikit-learn/scikit-learn/issues/21755 */display: inline-block !important;position: relative;}#sk-container-id-8 div.sk-text-repr-fallback {display: none;}</style><div id=\"sk-container-id-8\" class=\"sk-top-container\"><div class=\"sk-text-repr-fallback\"><pre>RandomForestClassifier(criterion=&#x27;entropy&#x27;)</pre><b>In a Jupyter environment, please rerun this cell to show the HTML representation or trust the notebook. <br />On GitHub, the HTML representation is unable to render, please try loading this page with nbviewer.org.</b></div><div class=\"sk-container\" hidden><div class=\"sk-item\"><div class=\"sk-estimator sk-toggleable\"><input class=\"sk-toggleable__control sk-hidden--visually\" id=\"sk-estimator-id-8\" type=\"checkbox\" checked><label for=\"sk-estimator-id-8\" class=\"sk-toggleable__label sk-toggleable__label-arrow\">RandomForestClassifier</label><div class=\"sk-toggleable__content\"><pre>RandomForestClassifier(criterion=&#x27;entropy&#x27;)</pre></div></div></div></div></div>"
      ],
      "text/plain": [
       "RandomForestClassifier(criterion='entropy')"
      ]
     },
     "execution_count": 107,
     "metadata": {},
     "output_type": "execute_result"
    }
   ],
   "source": [
    "from sklearn.ensemble import RandomForestClassifier\n",
    "rf_reg = RandomForestClassifier(n_estimators=100, criterion='entropy')\n",
    "rf_reg.fit(x1_train, y_train)"
   ]
  },
  {
   "cell_type": "code",
   "execution_count": 108,
   "id": "a523499a",
   "metadata": {},
   "outputs": [],
   "source": [
    "y_pred_train_rf = rf_reg.predict(x1_train)\n",
    "y_pred_test_rf = rf_reg.predict(x1_test)"
   ]
  },
  {
   "cell_type": "code",
   "execution_count": 109,
   "id": "2d0a08a8",
   "metadata": {},
   "outputs": [
    {
     "name": "stdout",
     "output_type": "stream",
     "text": [
      "1.0\n",
      "######################################################################################################################################################\n",
      "0.9689189189189189\n"
     ]
    }
   ],
   "source": [
    "print(accuracy_score(y_train, y_pred_train_rf))\n",
    "print(\"###############\"*10)\n",
    "print(accuracy_score(y_test, y_pred_test_rf))"
   ]
  },
  {
   "cell_type": "markdown",
   "id": "ea03e077",
   "metadata": {},
   "source": [
    "# XGBoost"
   ]
  },
  {
   "cell_type": "code",
   "execution_count": 110,
   "id": "801451ac",
   "metadata": {},
   "outputs": [
    {
     "data": {
      "text/html": [
       "<style>#sk-container-id-9 {color: black;background-color: white;}#sk-container-id-9 pre{padding: 0;}#sk-container-id-9 div.sk-toggleable {background-color: white;}#sk-container-id-9 label.sk-toggleable__label {cursor: pointer;display: block;width: 100%;margin-bottom: 0;padding: 0.3em;box-sizing: border-box;text-align: center;}#sk-container-id-9 label.sk-toggleable__label-arrow:before {content: \"▸\";float: left;margin-right: 0.25em;color: #696969;}#sk-container-id-9 label.sk-toggleable__label-arrow:hover:before {color: black;}#sk-container-id-9 div.sk-estimator:hover label.sk-toggleable__label-arrow:before {color: black;}#sk-container-id-9 div.sk-toggleable__content {max-height: 0;max-width: 0;overflow: hidden;text-align: left;background-color: #f0f8ff;}#sk-container-id-9 div.sk-toggleable__content pre {margin: 0.2em;color: black;border-radius: 0.25em;background-color: #f0f8ff;}#sk-container-id-9 input.sk-toggleable__control:checked~div.sk-toggleable__content {max-height: 200px;max-width: 100%;overflow: auto;}#sk-container-id-9 input.sk-toggleable__control:checked~label.sk-toggleable__label-arrow:before {content: \"▾\";}#sk-container-id-9 div.sk-estimator input.sk-toggleable__control:checked~label.sk-toggleable__label {background-color: #d4ebff;}#sk-container-id-9 div.sk-label input.sk-toggleable__control:checked~label.sk-toggleable__label {background-color: #d4ebff;}#sk-container-id-9 input.sk-hidden--visually {border: 0;clip: rect(1px 1px 1px 1px);clip: rect(1px, 1px, 1px, 1px);height: 1px;margin: -1px;overflow: hidden;padding: 0;position: absolute;width: 1px;}#sk-container-id-9 div.sk-estimator {font-family: monospace;background-color: #f0f8ff;border: 1px dotted black;border-radius: 0.25em;box-sizing: border-box;margin-bottom: 0.5em;}#sk-container-id-9 div.sk-estimator:hover {background-color: #d4ebff;}#sk-container-id-9 div.sk-parallel-item::after {content: \"\";width: 100%;border-bottom: 1px solid gray;flex-grow: 1;}#sk-container-id-9 div.sk-label:hover label.sk-toggleable__label {background-color: #d4ebff;}#sk-container-id-9 div.sk-serial::before {content: \"\";position: absolute;border-left: 1px solid gray;box-sizing: border-box;top: 0;bottom: 0;left: 50%;z-index: 0;}#sk-container-id-9 div.sk-serial {display: flex;flex-direction: column;align-items: center;background-color: white;padding-right: 0.2em;padding-left: 0.2em;position: relative;}#sk-container-id-9 div.sk-item {position: relative;z-index: 1;}#sk-container-id-9 div.sk-parallel {display: flex;align-items: stretch;justify-content: center;background-color: white;position: relative;}#sk-container-id-9 div.sk-item::before, #sk-container-id-9 div.sk-parallel-item::before {content: \"\";position: absolute;border-left: 1px solid gray;box-sizing: border-box;top: 0;bottom: 0;left: 50%;z-index: -1;}#sk-container-id-9 div.sk-parallel-item {display: flex;flex-direction: column;z-index: 1;position: relative;background-color: white;}#sk-container-id-9 div.sk-parallel-item:first-child::after {align-self: flex-end;width: 50%;}#sk-container-id-9 div.sk-parallel-item:last-child::after {align-self: flex-start;width: 50%;}#sk-container-id-9 div.sk-parallel-item:only-child::after {width: 0;}#sk-container-id-9 div.sk-dashed-wrapped {border: 1px dashed gray;margin: 0 0.4em 0.5em 0.4em;box-sizing: border-box;padding-bottom: 0.4em;background-color: white;}#sk-container-id-9 div.sk-label label {font-family: monospace;font-weight: bold;display: inline-block;line-height: 1.2em;}#sk-container-id-9 div.sk-label-container {text-align: center;}#sk-container-id-9 div.sk-container {/* jupyter's `normalize.less` sets `[hidden] { display: none; }` but bootstrap.min.css set `[hidden] { display: none !important; }` so we also need the `!important` here to be able to override the default hidden behavior on the sphinx rendered scikit-learn.org. See: https://github.com/scikit-learn/scikit-learn/issues/21755 */display: inline-block !important;position: relative;}#sk-container-id-9 div.sk-text-repr-fallback {display: none;}</style><div id=\"sk-container-id-9\" class=\"sk-top-container\"><div class=\"sk-text-repr-fallback\"><pre>XGBClassifier(base_score=0.5, booster=&#x27;gbtree&#x27;, callbacks=None,\n",
       "              colsample_bylevel=1, colsample_bynode=1, colsample_bytree=1,\n",
       "              early_stopping_rounds=None, enable_categorical=False,\n",
       "              eval_metric=None, gamma=0, gpu_id=-1, grow_policy=&#x27;depthwise&#x27;,\n",
       "              importance_type=None, interaction_constraints=&#x27;&#x27;,\n",
       "              learning_rate=0.300000012, max_bin=256, max_cat_to_onehot=4,\n",
       "              max_delta_step=0, max_depth=6, max_leaves=0, min_child_weight=1,\n",
       "              missing=nan, monotone_constraints=&#x27;()&#x27;, n_estimators=100,\n",
       "              n_jobs=0, num_parallel_tree=1, predictor=&#x27;auto&#x27;, random_state=0,\n",
       "              reg_alpha=0, reg_lambda=1, ...)</pre><b>In a Jupyter environment, please rerun this cell to show the HTML representation or trust the notebook. <br />On GitHub, the HTML representation is unable to render, please try loading this page with nbviewer.org.</b></div><div class=\"sk-container\" hidden><div class=\"sk-item\"><div class=\"sk-estimator sk-toggleable\"><input class=\"sk-toggleable__control sk-hidden--visually\" id=\"sk-estimator-id-9\" type=\"checkbox\" checked><label for=\"sk-estimator-id-9\" class=\"sk-toggleable__label sk-toggleable__label-arrow\">XGBClassifier</label><div class=\"sk-toggleable__content\"><pre>XGBClassifier(base_score=0.5, booster=&#x27;gbtree&#x27;, callbacks=None,\n",
       "              colsample_bylevel=1, colsample_bynode=1, colsample_bytree=1,\n",
       "              early_stopping_rounds=None, enable_categorical=False,\n",
       "              eval_metric=None, gamma=0, gpu_id=-1, grow_policy=&#x27;depthwise&#x27;,\n",
       "              importance_type=None, interaction_constraints=&#x27;&#x27;,\n",
       "              learning_rate=0.300000012, max_bin=256, max_cat_to_onehot=4,\n",
       "              max_delta_step=0, max_depth=6, max_leaves=0, min_child_weight=1,\n",
       "              missing=nan, monotone_constraints=&#x27;()&#x27;, n_estimators=100,\n",
       "              n_jobs=0, num_parallel_tree=1, predictor=&#x27;auto&#x27;, random_state=0,\n",
       "              reg_alpha=0, reg_lambda=1, ...)</pre></div></div></div></div></div>"
      ],
      "text/plain": [
       "XGBClassifier(base_score=0.5, booster='gbtree', callbacks=None,\n",
       "              colsample_bylevel=1, colsample_bynode=1, colsample_bytree=1,\n",
       "              early_stopping_rounds=None, enable_categorical=False,\n",
       "              eval_metric=None, gamma=0, gpu_id=-1, grow_policy='depthwise',\n",
       "              importance_type=None, interaction_constraints='',\n",
       "              learning_rate=0.300000012, max_bin=256, max_cat_to_onehot=4,\n",
       "              max_delta_step=0, max_depth=6, max_leaves=0, min_child_weight=1,\n",
       "              missing=nan, monotone_constraints='()', n_estimators=100,\n",
       "              n_jobs=0, num_parallel_tree=1, predictor='auto', random_state=0,\n",
       "              reg_alpha=0, reg_lambda=1, ...)"
      ]
     },
     "execution_count": 110,
     "metadata": {},
     "output_type": "execute_result"
    }
   ],
   "source": [
    "from xgboost import XGBClassifier\n",
    "xgb = XGBClassifier()\n",
    "xgb.fit(x1_train, y_train)"
   ]
  },
  {
   "cell_type": "code",
   "execution_count": 111,
   "id": "b2cd77e9",
   "metadata": {},
   "outputs": [],
   "source": [
    "y_pred_xgb_train = xgb.predict(x1_train)\n",
    "y_pred_xgb_test = xgb.predict(x1_test)"
   ]
  },
  {
   "cell_type": "code",
   "execution_count": 112,
   "id": "e88cdabb",
   "metadata": {},
   "outputs": [
    {
     "name": "stdout",
     "output_type": "stream",
     "text": [
      "[[853   0]\n",
      " [  0 873]]\n",
      "#################################################################\n",
      "[[347  33]\n",
      " [  1 359]]\n",
      "              precision    recall  f1-score   support\n",
      "\n",
      "           0       1.00      1.00      1.00       853\n",
      "           1       1.00      1.00      1.00       873\n",
      "\n",
      "    accuracy                           1.00      1726\n",
      "   macro avg       1.00      1.00      1.00      1726\n",
      "weighted avg       1.00      1.00      1.00      1726\n",
      "\n",
      "#################################################################\n",
      "              precision    recall  f1-score   support\n",
      "\n",
      "           0       1.00      0.91      0.95       380\n",
      "           1       0.92      1.00      0.95       360\n",
      "\n",
      "    accuracy                           0.95       740\n",
      "   macro avg       0.96      0.96      0.95       740\n",
      "weighted avg       0.96      0.95      0.95       740\n",
      "\n",
      "Training Accuracy : 1.0\n",
      "#################################################################\n",
      "Test Accuracy : 0.9540540540540541\n"
     ]
    }
   ],
   "source": [
    "print(confusion_matrix(y_train, y_pred_xgb_train))\n",
    "print(\"#############\"*5)\n",
    "print(confusion_matrix(y_test, y_pred_xgb_test))\n",
    "\n",
    "print(classification_report(y_train, y_pred_xgb_train))\n",
    "print(\"#############\"*5)\n",
    "print(classification_report(y_test, y_pred_xgb_test))\n",
    "\n",
    "print(\"Training Accuracy :\", accuracy_score(y_train, y_pred_xgb_train))\n",
    "print(\"#############\"*5)\n",
    "print(\"Test Accuracy :\",accuracy_score(y_test, y_pred_xgb_test))"
   ]
  },
  {
   "cell_type": "code",
   "execution_count": 113,
   "id": "b3e0530a",
   "metadata": {},
   "outputs": [],
   "source": [
    "#Using Feature Selection"
   ]
  },
  {
   "cell_type": "code",
   "execution_count": 114,
   "id": "472c914a",
   "metadata": {},
   "outputs": [],
   "source": [
    "from sklearn.linear_model import Lasso\n",
    "import statsmodels.api as sma"
   ]
  },
  {
   "cell_type": "code",
   "execution_count": 115,
   "id": "f2c4334e",
   "metadata": {},
   "outputs": [],
   "source": [
    "from sklearn.feature_selection import SelectFromModel"
   ]
  },
  {
   "cell_type": "code",
   "execution_count": 116,
   "id": "fa678ff2",
   "metadata": {},
   "outputs": [],
   "source": [
    "xz = dataset.drop([\"Attrition\"],axis=1)"
   ]
  },
  {
   "cell_type": "code",
   "execution_count": 117,
   "id": "00f16590",
   "metadata": {},
   "outputs": [],
   "source": [
    "yz = dataset[\"Attrition\"]"
   ]
  },
  {
   "cell_type": "code",
   "execution_count": 118,
   "id": "a26ccbe9",
   "metadata": {},
   "outputs": [],
   "source": [
    "feature_selection = SelectFromModel(Lasso(alpha=0.1,random_state=101))"
   ]
  },
  {
   "cell_type": "code",
   "execution_count": 119,
   "id": "a376a61a",
   "metadata": {},
   "outputs": [
    {
     "data": {
      "text/html": [
       "<style>#sk-container-id-10 {color: black;background-color: white;}#sk-container-id-10 pre{padding: 0;}#sk-container-id-10 div.sk-toggleable {background-color: white;}#sk-container-id-10 label.sk-toggleable__label {cursor: pointer;display: block;width: 100%;margin-bottom: 0;padding: 0.3em;box-sizing: border-box;text-align: center;}#sk-container-id-10 label.sk-toggleable__label-arrow:before {content: \"▸\";float: left;margin-right: 0.25em;color: #696969;}#sk-container-id-10 label.sk-toggleable__label-arrow:hover:before {color: black;}#sk-container-id-10 div.sk-estimator:hover label.sk-toggleable__label-arrow:before {color: black;}#sk-container-id-10 div.sk-toggleable__content {max-height: 0;max-width: 0;overflow: hidden;text-align: left;background-color: #f0f8ff;}#sk-container-id-10 div.sk-toggleable__content pre {margin: 0.2em;color: black;border-radius: 0.25em;background-color: #f0f8ff;}#sk-container-id-10 input.sk-toggleable__control:checked~div.sk-toggleable__content {max-height: 200px;max-width: 100%;overflow: auto;}#sk-container-id-10 input.sk-toggleable__control:checked~label.sk-toggleable__label-arrow:before {content: \"▾\";}#sk-container-id-10 div.sk-estimator input.sk-toggleable__control:checked~label.sk-toggleable__label {background-color: #d4ebff;}#sk-container-id-10 div.sk-label input.sk-toggleable__control:checked~label.sk-toggleable__label {background-color: #d4ebff;}#sk-container-id-10 input.sk-hidden--visually {border: 0;clip: rect(1px 1px 1px 1px);clip: rect(1px, 1px, 1px, 1px);height: 1px;margin: -1px;overflow: hidden;padding: 0;position: absolute;width: 1px;}#sk-container-id-10 div.sk-estimator {font-family: monospace;background-color: #f0f8ff;border: 1px dotted black;border-radius: 0.25em;box-sizing: border-box;margin-bottom: 0.5em;}#sk-container-id-10 div.sk-estimator:hover {background-color: #d4ebff;}#sk-container-id-10 div.sk-parallel-item::after {content: \"\";width: 100%;border-bottom: 1px solid gray;flex-grow: 1;}#sk-container-id-10 div.sk-label:hover label.sk-toggleable__label {background-color: #d4ebff;}#sk-container-id-10 div.sk-serial::before {content: \"\";position: absolute;border-left: 1px solid gray;box-sizing: border-box;top: 0;bottom: 0;left: 50%;z-index: 0;}#sk-container-id-10 div.sk-serial {display: flex;flex-direction: column;align-items: center;background-color: white;padding-right: 0.2em;padding-left: 0.2em;position: relative;}#sk-container-id-10 div.sk-item {position: relative;z-index: 1;}#sk-container-id-10 div.sk-parallel {display: flex;align-items: stretch;justify-content: center;background-color: white;position: relative;}#sk-container-id-10 div.sk-item::before, #sk-container-id-10 div.sk-parallel-item::before {content: \"\";position: absolute;border-left: 1px solid gray;box-sizing: border-box;top: 0;bottom: 0;left: 50%;z-index: -1;}#sk-container-id-10 div.sk-parallel-item {display: flex;flex-direction: column;z-index: 1;position: relative;background-color: white;}#sk-container-id-10 div.sk-parallel-item:first-child::after {align-self: flex-end;width: 50%;}#sk-container-id-10 div.sk-parallel-item:last-child::after {align-self: flex-start;width: 50%;}#sk-container-id-10 div.sk-parallel-item:only-child::after {width: 0;}#sk-container-id-10 div.sk-dashed-wrapped {border: 1px dashed gray;margin: 0 0.4em 0.5em 0.4em;box-sizing: border-box;padding-bottom: 0.4em;background-color: white;}#sk-container-id-10 div.sk-label label {font-family: monospace;font-weight: bold;display: inline-block;line-height: 1.2em;}#sk-container-id-10 div.sk-label-container {text-align: center;}#sk-container-id-10 div.sk-container {/* jupyter's `normalize.less` sets `[hidden] { display: none; }` but bootstrap.min.css set `[hidden] { display: none !important; }` so we also need the `!important` here to be able to override the default hidden behavior on the sphinx rendered scikit-learn.org. See: https://github.com/scikit-learn/scikit-learn/issues/21755 */display: inline-block !important;position: relative;}#sk-container-id-10 div.sk-text-repr-fallback {display: none;}</style><div id=\"sk-container-id-10\" class=\"sk-top-container\"><div class=\"sk-text-repr-fallback\"><pre>SelectFromModel(estimator=Lasso(alpha=0.1, random_state=101))</pre><b>In a Jupyter environment, please rerun this cell to show the HTML representation or trust the notebook. <br />On GitHub, the HTML representation is unable to render, please try loading this page with nbviewer.org.</b></div><div class=\"sk-container\" hidden><div class=\"sk-item sk-dashed-wrapped\"><div class=\"sk-label-container\"><div class=\"sk-label sk-toggleable\"><input class=\"sk-toggleable__control sk-hidden--visually\" id=\"sk-estimator-id-10\" type=\"checkbox\" ><label for=\"sk-estimator-id-10\" class=\"sk-toggleable__label sk-toggleable__label-arrow\">SelectFromModel</label><div class=\"sk-toggleable__content\"><pre>SelectFromModel(estimator=Lasso(alpha=0.1, random_state=101))</pre></div></div></div><div class=\"sk-parallel\"><div class=\"sk-parallel-item\"><div class=\"sk-item\"><div class=\"sk-label-container\"><div class=\"sk-label sk-toggleable\"><input class=\"sk-toggleable__control sk-hidden--visually\" id=\"sk-estimator-id-11\" type=\"checkbox\" ><label for=\"sk-estimator-id-11\" class=\"sk-toggleable__label sk-toggleable__label-arrow\">estimator: Lasso</label><div class=\"sk-toggleable__content\"><pre>Lasso(alpha=0.1, random_state=101)</pre></div></div></div><div class=\"sk-serial\"><div class=\"sk-item\"><div class=\"sk-estimator sk-toggleable\"><input class=\"sk-toggleable__control sk-hidden--visually\" id=\"sk-estimator-id-12\" type=\"checkbox\" ><label for=\"sk-estimator-id-12\" class=\"sk-toggleable__label sk-toggleable__label-arrow\">Lasso</label><div class=\"sk-toggleable__content\"><pre>Lasso(alpha=0.1, random_state=101)</pre></div></div></div></div></div></div></div></div></div></div>"
      ],
      "text/plain": [
       "SelectFromModel(estimator=Lasso(alpha=0.1, random_state=101))"
      ]
     },
     "execution_count": 119,
     "metadata": {},
     "output_type": "execute_result"
    }
   ],
   "source": [
    "feature_selection.fit(xz,yz)"
   ]
  },
  {
   "cell_type": "code",
   "execution_count": 120,
   "id": "05ab85f8",
   "metadata": {},
   "outputs": [
    {
     "data": {
      "text/plain": [
       "array([ True, False, False, False,  True, False, False, False, False,\n",
       "       False, False, False, False, False, False, False, False, False,\n",
       "       False, False, False, False, False, False, False, False, False,\n",
       "        True, False,  True])"
      ]
     },
     "execution_count": 120,
     "metadata": {},
     "output_type": "execute_result"
    }
   ],
   "source": [
    "feature_selection.get_support()"
   ]
  },
  {
   "cell_type": "code",
   "execution_count": 121,
   "id": "d8b22ea3",
   "metadata": {},
   "outputs": [
    {
     "name": "stdout",
     "output_type": "stream",
     "text": [
      "Total Features:30\n",
      "Selected Features:4\n"
     ]
    }
   ],
   "source": [
    "selected_features= xz.columns[(feature_selection.get_support())]\n",
    "\n",
    "#Print Details\n",
    "\n",
    "print(\"Total Features:{}\".format(xz.shape[1]))\n",
    "print(\"Selected Features:{}\".format(len(selected_features)))"
   ]
  },
  {
   "cell_type": "code",
   "execution_count": 122,
   "id": "ffe17f33",
   "metadata": {},
   "outputs": [
    {
     "data": {
      "text/html": [
       "<div>\n",
       "<style scoped>\n",
       "    .dataframe tbody tr th:only-of-type {\n",
       "        vertical-align: middle;\n",
       "    }\n",
       "\n",
       "    .dataframe tbody tr th {\n",
       "        vertical-align: top;\n",
       "    }\n",
       "\n",
       "    .dataframe thead th {\n",
       "        text-align: right;\n",
       "    }\n",
       "</style>\n",
       "<table border=\"1\" class=\"dataframe\">\n",
       "  <thead>\n",
       "    <tr style=\"text-align: right;\">\n",
       "      <th></th>\n",
       "      <th>Age</th>\n",
       "      <th>DistanceFromHome</th>\n",
       "      <th>YearsInCurrentRole</th>\n",
       "      <th>YearsWithCurrManager</th>\n",
       "    </tr>\n",
       "  </thead>\n",
       "  <tbody>\n",
       "    <tr>\n",
       "      <th>0</th>\n",
       "      <td>41</td>\n",
       "      <td>1</td>\n",
       "      <td>4</td>\n",
       "      <td>5</td>\n",
       "    </tr>\n",
       "    <tr>\n",
       "      <th>1</th>\n",
       "      <td>49</td>\n",
       "      <td>8</td>\n",
       "      <td>7</td>\n",
       "      <td>7</td>\n",
       "    </tr>\n",
       "    <tr>\n",
       "      <th>2</th>\n",
       "      <td>37</td>\n",
       "      <td>2</td>\n",
       "      <td>0</td>\n",
       "      <td>0</td>\n",
       "    </tr>\n",
       "    <tr>\n",
       "      <th>3</th>\n",
       "      <td>33</td>\n",
       "      <td>3</td>\n",
       "      <td>7</td>\n",
       "      <td>0</td>\n",
       "    </tr>\n",
       "    <tr>\n",
       "      <th>4</th>\n",
       "      <td>27</td>\n",
       "      <td>2</td>\n",
       "      <td>2</td>\n",
       "      <td>2</td>\n",
       "    </tr>\n",
       "    <tr>\n",
       "      <th>...</th>\n",
       "      <td>...</td>\n",
       "      <td>...</td>\n",
       "      <td>...</td>\n",
       "      <td>...</td>\n",
       "    </tr>\n",
       "    <tr>\n",
       "      <th>1465</th>\n",
       "      <td>36</td>\n",
       "      <td>23</td>\n",
       "      <td>2</td>\n",
       "      <td>3</td>\n",
       "    </tr>\n",
       "    <tr>\n",
       "      <th>1466</th>\n",
       "      <td>39</td>\n",
       "      <td>6</td>\n",
       "      <td>7</td>\n",
       "      <td>7</td>\n",
       "    </tr>\n",
       "    <tr>\n",
       "      <th>1467</th>\n",
       "      <td>27</td>\n",
       "      <td>4</td>\n",
       "      <td>2</td>\n",
       "      <td>3</td>\n",
       "    </tr>\n",
       "    <tr>\n",
       "      <th>1468</th>\n",
       "      <td>49</td>\n",
       "      <td>2</td>\n",
       "      <td>6</td>\n",
       "      <td>8</td>\n",
       "    </tr>\n",
       "    <tr>\n",
       "      <th>1469</th>\n",
       "      <td>34</td>\n",
       "      <td>8</td>\n",
       "      <td>3</td>\n",
       "      <td>2</td>\n",
       "    </tr>\n",
       "  </tbody>\n",
       "</table>\n",
       "<p>1470 rows × 4 columns</p>\n",
       "</div>"
      ],
      "text/plain": [
       "      Age  DistanceFromHome  YearsInCurrentRole  YearsWithCurrManager\n",
       "0      41                 1                   4                     5\n",
       "1      49                 8                   7                     7\n",
       "2      37                 2                   0                     0\n",
       "3      33                 3                   7                     0\n",
       "4      27                 2                   2                     2\n",
       "...   ...               ...                 ...                   ...\n",
       "1465   36                23                   2                     3\n",
       "1466   39                 6                   7                     7\n",
       "1467   27                 4                   2                     3\n",
       "1468   49                 2                   6                     8\n",
       "1469   34                 8                   3                     2\n",
       "\n",
       "[1470 rows x 4 columns]"
      ]
     },
     "execution_count": 122,
     "metadata": {},
     "output_type": "execute_result"
    }
   ],
   "source": [
    "dataset[selected_features]"
   ]
  },
  {
   "cell_type": "code",
   "execution_count": 123,
   "id": "20b5b10c",
   "metadata": {},
   "outputs": [],
   "source": [
    "#####"
   ]
  },
  {
   "cell_type": "code",
   "execution_count": 124,
   "id": "5106713d",
   "metadata": {},
   "outputs": [],
   "source": [
    "correlation = dataset.corr()[\"Attrition\"].abs().sort_values(ascending = False)"
   ]
  },
  {
   "cell_type": "code",
   "execution_count": 125,
   "id": "d711ed3c",
   "metadata": {},
   "outputs": [
    {
     "data": {
      "text/plain": [
       "Attrition                   1.000000\n",
       "OverTime                    0.246118\n",
       "TotalWorkingYears           0.171063\n",
       "JobLevel                    0.169105\n",
       "MaritalStatus               0.162070\n",
       "YearsInCurrentRole          0.160545\n",
       "MonthlyIncome               0.159840\n",
       "Age                         0.159205\n",
       "YearsWithCurrManager        0.156199\n",
       "StockOptionLevel            0.137145\n",
       "YearsAtCompany              0.134392\n",
       "JobInvolvement              0.130016\n",
       "JobSatisfaction             0.103481\n",
       "EnvironmentSatisfaction     0.103369\n",
       "DistanceFromHome            0.077924\n",
       "JobRole                     0.067151\n",
       "Department                  0.063991\n",
       "WorkLifeBalance             0.063939\n",
       "TrainingTimesLastYear       0.059478\n",
       "DailyRate                   0.049561\n",
       "RelationshipSatisfaction    0.045872\n",
       "NumCompaniesWorked          0.043494\n",
       "YearsSinceLastPromotion     0.033019\n",
       "Education                   0.031373\n",
       "Gender                      0.029453\n",
       "EducationField              0.026846\n",
       "MonthlyRate                 0.015170\n",
       "PercentSalaryHike           0.013478\n",
       "HourlyRate                  0.006846\n",
       "PerformanceRating           0.002889\n",
       "BusinessTravel              0.000074\n",
       "Name: Attrition, dtype: float64"
      ]
     },
     "execution_count": 125,
     "metadata": {},
     "output_type": "execute_result"
    }
   ],
   "source": [
    "correlation"
   ]
  },
  {
   "cell_type": "code",
   "execution_count": 126,
   "id": "8b3b7475",
   "metadata": {},
   "outputs": [
    {
     "data": {
      "text/plain": [
       "['OverTime',\n",
       " 'TotalWorkingYears',\n",
       " 'JobLevel',\n",
       " 'MaritalStatus',\n",
       " 'YearsInCurrentRole',\n",
       " 'MonthlyIncome',\n",
       " 'Age',\n",
       " 'YearsWithCurrManager']"
      ]
     },
     "execution_count": 126,
     "metadata": {},
     "output_type": "execute_result"
    }
   ],
   "source": [
    "significant_features = correlation[correlation>.15].index.to_list()[1:]\n",
    "significant_features"
   ]
  },
  {
   "cell_type": "code",
   "execution_count": 127,
   "id": "ce250c0e",
   "metadata": {},
   "outputs": [],
   "source": [
    "#PCA"
   ]
  },
  {
   "cell_type": "code",
   "execution_count": 128,
   "id": "32b59be5",
   "metadata": {},
   "outputs": [],
   "source": [
    "from sklearn.preprocessing import StandardScaler\n",
    "scaler = StandardScaler()\n",
    "x_scaled = scaler.fit_transform(x)"
   ]
  },
  {
   "cell_type": "code",
   "execution_count": 129,
   "id": "0f04edd8",
   "metadata": {},
   "outputs": [
    {
     "data": {
      "text/html": [
       "<style>#sk-container-id-11 {color: black;background-color: white;}#sk-container-id-11 pre{padding: 0;}#sk-container-id-11 div.sk-toggleable {background-color: white;}#sk-container-id-11 label.sk-toggleable__label {cursor: pointer;display: block;width: 100%;margin-bottom: 0;padding: 0.3em;box-sizing: border-box;text-align: center;}#sk-container-id-11 label.sk-toggleable__label-arrow:before {content: \"▸\";float: left;margin-right: 0.25em;color: #696969;}#sk-container-id-11 label.sk-toggleable__label-arrow:hover:before {color: black;}#sk-container-id-11 div.sk-estimator:hover label.sk-toggleable__label-arrow:before {color: black;}#sk-container-id-11 div.sk-toggleable__content {max-height: 0;max-width: 0;overflow: hidden;text-align: left;background-color: #f0f8ff;}#sk-container-id-11 div.sk-toggleable__content pre {margin: 0.2em;color: black;border-radius: 0.25em;background-color: #f0f8ff;}#sk-container-id-11 input.sk-toggleable__control:checked~div.sk-toggleable__content {max-height: 200px;max-width: 100%;overflow: auto;}#sk-container-id-11 input.sk-toggleable__control:checked~label.sk-toggleable__label-arrow:before {content: \"▾\";}#sk-container-id-11 div.sk-estimator input.sk-toggleable__control:checked~label.sk-toggleable__label {background-color: #d4ebff;}#sk-container-id-11 div.sk-label input.sk-toggleable__control:checked~label.sk-toggleable__label {background-color: #d4ebff;}#sk-container-id-11 input.sk-hidden--visually {border: 0;clip: rect(1px 1px 1px 1px);clip: rect(1px, 1px, 1px, 1px);height: 1px;margin: -1px;overflow: hidden;padding: 0;position: absolute;width: 1px;}#sk-container-id-11 div.sk-estimator {font-family: monospace;background-color: #f0f8ff;border: 1px dotted black;border-radius: 0.25em;box-sizing: border-box;margin-bottom: 0.5em;}#sk-container-id-11 div.sk-estimator:hover {background-color: #d4ebff;}#sk-container-id-11 div.sk-parallel-item::after {content: \"\";width: 100%;border-bottom: 1px solid gray;flex-grow: 1;}#sk-container-id-11 div.sk-label:hover label.sk-toggleable__label {background-color: #d4ebff;}#sk-container-id-11 div.sk-serial::before {content: \"\";position: absolute;border-left: 1px solid gray;box-sizing: border-box;top: 0;bottom: 0;left: 50%;z-index: 0;}#sk-container-id-11 div.sk-serial {display: flex;flex-direction: column;align-items: center;background-color: white;padding-right: 0.2em;padding-left: 0.2em;position: relative;}#sk-container-id-11 div.sk-item {position: relative;z-index: 1;}#sk-container-id-11 div.sk-parallel {display: flex;align-items: stretch;justify-content: center;background-color: white;position: relative;}#sk-container-id-11 div.sk-item::before, #sk-container-id-11 div.sk-parallel-item::before {content: \"\";position: absolute;border-left: 1px solid gray;box-sizing: border-box;top: 0;bottom: 0;left: 50%;z-index: -1;}#sk-container-id-11 div.sk-parallel-item {display: flex;flex-direction: column;z-index: 1;position: relative;background-color: white;}#sk-container-id-11 div.sk-parallel-item:first-child::after {align-self: flex-end;width: 50%;}#sk-container-id-11 div.sk-parallel-item:last-child::after {align-self: flex-start;width: 50%;}#sk-container-id-11 div.sk-parallel-item:only-child::after {width: 0;}#sk-container-id-11 div.sk-dashed-wrapped {border: 1px dashed gray;margin: 0 0.4em 0.5em 0.4em;box-sizing: border-box;padding-bottom: 0.4em;background-color: white;}#sk-container-id-11 div.sk-label label {font-family: monospace;font-weight: bold;display: inline-block;line-height: 1.2em;}#sk-container-id-11 div.sk-label-container {text-align: center;}#sk-container-id-11 div.sk-container {/* jupyter's `normalize.less` sets `[hidden] { display: none; }` but bootstrap.min.css set `[hidden] { display: none !important; }` so we also need the `!important` here to be able to override the default hidden behavior on the sphinx rendered scikit-learn.org. See: https://github.com/scikit-learn/scikit-learn/issues/21755 */display: inline-block !important;position: relative;}#sk-container-id-11 div.sk-text-repr-fallback {display: none;}</style><div id=\"sk-container-id-11\" class=\"sk-top-container\"><div class=\"sk-text-repr-fallback\"><pre>PCA()</pre><b>In a Jupyter environment, please rerun this cell to show the HTML representation or trust the notebook. <br />On GitHub, the HTML representation is unable to render, please try loading this page with nbviewer.org.</b></div><div class=\"sk-container\" hidden><div class=\"sk-item\"><div class=\"sk-estimator sk-toggleable\"><input class=\"sk-toggleable__control sk-hidden--visually\" id=\"sk-estimator-id-13\" type=\"checkbox\" checked><label for=\"sk-estimator-id-13\" class=\"sk-toggleable__label sk-toggleable__label-arrow\">PCA</label><div class=\"sk-toggleable__content\"><pre>PCA()</pre></div></div></div></div></div>"
      ],
      "text/plain": [
       "PCA()"
      ]
     },
     "execution_count": 129,
     "metadata": {},
     "output_type": "execute_result"
    }
   ],
   "source": [
    "from sklearn.decomposition import PCA\n",
    "pca = PCA(n_components= None)\n",
    "pca.fit(x_scaled)"
   ]
  },
  {
   "cell_type": "code",
   "execution_count": 130,
   "id": "b1b4f4ff",
   "metadata": {},
   "outputs": [
    {
     "name": "stdout",
     "output_type": "stream",
     "text": [
      "Variances Percentages:\n",
      "[16.80215027  6.42262329  6.17964798  5.38283976  5.08875079  4.05535899\n",
      "  4.02327422  3.83547302  3.56647631  3.52955692  3.48307638  3.36503755\n",
      "  3.33681015  3.22474084  3.14920916  3.05803658  2.96112165  2.85701887\n",
      "  2.68619778  2.64828322  2.37302471  1.70389217  1.52928113  1.06560751\n",
      "  0.88645783  0.80373969  0.72495712  0.6831617   0.41602546  0.15816896]\n",
      "\n"
     ]
    }
   ],
   "source": [
    "print(\"Variances Percentages:\")\n",
    "print(pca.explained_variance_ratio_*100)\n",
    "print()"
   ]
  },
  {
   "cell_type": "code",
   "execution_count": 131,
   "id": "9010d412",
   "metadata": {},
   "outputs": [
    {
     "name": "stdout",
     "output_type": "stream",
     "text": [
      "Cumulative Variance Percentage\n",
      "[ 16.80215027  23.22477356  29.40442154  34.78726131  39.87601209\n",
      "  43.93137108  47.9546453   51.79011832  55.35659463  58.88615155\n",
      "  62.36922793  65.73426548  69.07107563  72.29581647  75.44502563\n",
      "  78.50306221  81.46418385  84.32120272  87.0074005   89.65568373\n",
      "  92.02870843  93.73260061  95.26188174  96.32748925  97.21394708\n",
      "  98.01768676  98.74264389  99.42580558  99.84183104 100.        ]\n"
     ]
    }
   ],
   "source": [
    "print(\"Cumulative Variance Percentage\")\n",
    "print(pca.explained_variance_ratio_.cumsum()*100)"
   ]
  },
  {
   "cell_type": "code",
   "execution_count": 132,
   "id": "e0196298",
   "metadata": {},
   "outputs": [
    {
     "data": {
      "text/html": [
       "<style>#sk-container-id-12 {color: black;background-color: white;}#sk-container-id-12 pre{padding: 0;}#sk-container-id-12 div.sk-toggleable {background-color: white;}#sk-container-id-12 label.sk-toggleable__label {cursor: pointer;display: block;width: 100%;margin-bottom: 0;padding: 0.3em;box-sizing: border-box;text-align: center;}#sk-container-id-12 label.sk-toggleable__label-arrow:before {content: \"▸\";float: left;margin-right: 0.25em;color: #696969;}#sk-container-id-12 label.sk-toggleable__label-arrow:hover:before {color: black;}#sk-container-id-12 div.sk-estimator:hover label.sk-toggleable__label-arrow:before {color: black;}#sk-container-id-12 div.sk-toggleable__content {max-height: 0;max-width: 0;overflow: hidden;text-align: left;background-color: #f0f8ff;}#sk-container-id-12 div.sk-toggleable__content pre {margin: 0.2em;color: black;border-radius: 0.25em;background-color: #f0f8ff;}#sk-container-id-12 input.sk-toggleable__control:checked~div.sk-toggleable__content {max-height: 200px;max-width: 100%;overflow: auto;}#sk-container-id-12 input.sk-toggleable__control:checked~label.sk-toggleable__label-arrow:before {content: \"▾\";}#sk-container-id-12 div.sk-estimator input.sk-toggleable__control:checked~label.sk-toggleable__label {background-color: #d4ebff;}#sk-container-id-12 div.sk-label input.sk-toggleable__control:checked~label.sk-toggleable__label {background-color: #d4ebff;}#sk-container-id-12 input.sk-hidden--visually {border: 0;clip: rect(1px 1px 1px 1px);clip: rect(1px, 1px, 1px, 1px);height: 1px;margin: -1px;overflow: hidden;padding: 0;position: absolute;width: 1px;}#sk-container-id-12 div.sk-estimator {font-family: monospace;background-color: #f0f8ff;border: 1px dotted black;border-radius: 0.25em;box-sizing: border-box;margin-bottom: 0.5em;}#sk-container-id-12 div.sk-estimator:hover {background-color: #d4ebff;}#sk-container-id-12 div.sk-parallel-item::after {content: \"\";width: 100%;border-bottom: 1px solid gray;flex-grow: 1;}#sk-container-id-12 div.sk-label:hover label.sk-toggleable__label {background-color: #d4ebff;}#sk-container-id-12 div.sk-serial::before {content: \"\";position: absolute;border-left: 1px solid gray;box-sizing: border-box;top: 0;bottom: 0;left: 50%;z-index: 0;}#sk-container-id-12 div.sk-serial {display: flex;flex-direction: column;align-items: center;background-color: white;padding-right: 0.2em;padding-left: 0.2em;position: relative;}#sk-container-id-12 div.sk-item {position: relative;z-index: 1;}#sk-container-id-12 div.sk-parallel {display: flex;align-items: stretch;justify-content: center;background-color: white;position: relative;}#sk-container-id-12 div.sk-item::before, #sk-container-id-12 div.sk-parallel-item::before {content: \"\";position: absolute;border-left: 1px solid gray;box-sizing: border-box;top: 0;bottom: 0;left: 50%;z-index: -1;}#sk-container-id-12 div.sk-parallel-item {display: flex;flex-direction: column;z-index: 1;position: relative;background-color: white;}#sk-container-id-12 div.sk-parallel-item:first-child::after {align-self: flex-end;width: 50%;}#sk-container-id-12 div.sk-parallel-item:last-child::after {align-self: flex-start;width: 50%;}#sk-container-id-12 div.sk-parallel-item:only-child::after {width: 0;}#sk-container-id-12 div.sk-dashed-wrapped {border: 1px dashed gray;margin: 0 0.4em 0.5em 0.4em;box-sizing: border-box;padding-bottom: 0.4em;background-color: white;}#sk-container-id-12 div.sk-label label {font-family: monospace;font-weight: bold;display: inline-block;line-height: 1.2em;}#sk-container-id-12 div.sk-label-container {text-align: center;}#sk-container-id-12 div.sk-container {/* jupyter's `normalize.less` sets `[hidden] { display: none; }` but bootstrap.min.css set `[hidden] { display: none !important; }` so we also need the `!important` here to be able to override the default hidden behavior on the sphinx rendered scikit-learn.org. See: https://github.com/scikit-learn/scikit-learn/issues/21755 */display: inline-block !important;position: relative;}#sk-container-id-12 div.sk-text-repr-fallback {display: none;}</style><div id=\"sk-container-id-12\" class=\"sk-top-container\"><div class=\"sk-text-repr-fallback\"><pre>PCA(n_components=0.9)</pre><b>In a Jupyter environment, please rerun this cell to show the HTML representation or trust the notebook. <br />On GitHub, the HTML representation is unable to render, please try loading this page with nbviewer.org.</b></div><div class=\"sk-container\" hidden><div class=\"sk-item\"><div class=\"sk-estimator sk-toggleable\"><input class=\"sk-toggleable__control sk-hidden--visually\" id=\"sk-estimator-id-14\" type=\"checkbox\" checked><label for=\"sk-estimator-id-14\" class=\"sk-toggleable__label sk-toggleable__label-arrow\">PCA</label><div class=\"sk-toggleable__content\"><pre>PCA(n_components=0.9)</pre></div></div></div></div></div>"
      ],
      "text/plain": [
       "PCA(n_components=0.9)"
      ]
     },
     "execution_count": 132,
     "metadata": {},
     "output_type": "execute_result"
    }
   ],
   "source": [
    "from sklearn.decomposition import PCA\n",
    "pca = PCA(n_components= .90)\n",
    "pca.fit(x_scaled)"
   ]
  },
  {
   "cell_type": "code",
   "execution_count": 133,
   "id": "b6e4eebe",
   "metadata": {},
   "outputs": [
    {
     "name": "stdout",
     "output_type": "stream",
     "text": [
      "[16.80215027  6.42262329  6.17964798  5.38283976  5.08875079  4.05535899\n",
      "  4.02327422  3.83547302  3.56647631  3.52955692  3.48307638  3.36503755\n",
      "  3.33681015  3.22474084  3.14920916  3.05803658  2.96112165  2.85701887\n",
      "  2.68619778  2.64828322  2.37302471]\n",
      "Variable responsible for 90% Variance: 21\n"
     ]
    }
   ],
   "source": [
    "print(pca.explained_variance_ratio_*100)\n",
    "print(\"Variable responsible for 90% Variance: {}\" .format(len((pca.explained_variance_ratio_*100))))"
   ]
  },
  {
   "cell_type": "code",
   "execution_count": 134,
   "id": "8f07f8e8",
   "metadata": {},
   "outputs": [],
   "source": [
    "pca_components = abs(pca.components_)"
   ]
  },
  {
   "cell_type": "code",
   "execution_count": 135,
   "id": "7d57961e",
   "metadata": {},
   "outputs": [
    {
     "data": {
      "text/plain": [
       "array([[2.83729498e-01, 1.17304032e-02, 1.28989968e-02, 1.87904762e-02,\n",
       "        8.85079469e-03, 8.91102700e-02, 3.20070928e-02, 1.15610765e-02,\n",
       "        2.02185305e-02, 4.90048330e-03, 3.34960700e-02, 3.70452357e-01,\n",
       "        4.83768090e-02, 2.50584656e-02, 7.14707513e-02, 3.64264763e-01,\n",
       "        6.05138185e-03, 6.57624070e-02, 3.76515772e-02, 3.42715555e-02,\n",
       "        1.98156809e-02, 3.79874258e-02, 5.08298081e-02, 3.92720024e-01,\n",
       "        1.60799740e-02, 6.93786225e-03, 3.84540109e-01, 3.41614266e-01,\n",
       "        2.99403963e-01, 3.31641109e-01],\n",
       "       [1.48560913e-01, 4.14374258e-02, 1.15801240e-01, 4.29592836e-01,\n",
       "        4.56078527e-02, 3.47433882e-02, 5.93669755e-02, 1.92966136e-03,\n",
       "        1.09180418e-01, 6.42633102e-02, 1.10275203e-01, 1.57392024e-03,\n",
       "        4.27269949e-01, 3.86796191e-02, 4.57056569e-01, 1.50725837e-02,\n",
       "        2.73210410e-02, 1.93391989e-01, 4.57249341e-02, 2.05734406e-01,\n",
       "        1.93231890e-01, 2.33378878e-02, 3.95010986e-01, 6.10055707e-02,\n",
       "        4.61031947e-02, 5.15655327e-02, 1.04064868e-01, 1.32450321e-01,\n",
       "        1.28862761e-01, 1.41685838e-01],\n",
       "       [2.61949212e-04, 1.02528279e-01, 3.12881327e-02, 3.31970759e-01,\n",
       "        1.10536884e-01, 2.03589821e-03, 7.12655229e-03, 6.32754549e-03,\n",
       "        4.96026090e-02, 1.14860975e-02, 4.62747161e-04, 7.21285900e-02,\n",
       "        3.15973606e-01, 9.45034965e-02, 2.83748429e-02, 6.89947692e-02,\n",
       "        8.27933507e-02, 5.18410327e-02, 2.57594996e-02, 5.84412841e-01,\n",
       "        6.09021881e-01, 7.05683375e-02, 1.25553002e-02, 1.46777900e-02,\n",
       "        4.86680801e-02, 1.83962061e-02, 4.96012966e-02, 6.73095608e-02,\n",
       "        2.03605103e-02, 7.57829457e-02],\n",
       "       [2.84329461e-01, 1.89579412e-02, 7.48662738e-02, 3.28287212e-01,\n",
       "        5.58664693e-02, 1.19693382e-01, 7.14104021e-02, 1.14532441e-01,\n",
       "        3.43403849e-02, 2.19705878e-02, 1.80730269e-02, 1.97250809e-01,\n",
       "        2.97801756e-01, 1.03465532e-02, 1.08693792e-01, 1.96436371e-01,\n",
       "        1.14937831e-01, 4.10641153e-01, 1.11463688e-01, 2.79338300e-01,\n",
       "        2.30888004e-01, 7.27089170e-02, 1.42068472e-01, 1.44114659e-01,\n",
       "        6.77682521e-02, 4.77344444e-02, 2.18123986e-01, 2.34142975e-01,\n",
       "        1.94324231e-01, 2.66065649e-01],\n",
       "       [1.58970679e-01, 7.30361395e-02, 1.58488051e-02, 2.55690133e-01,\n",
       "        6.09898489e-03, 6.64585062e-02, 3.61013705e-02, 2.13860245e-02,\n",
       "        6.19606026e-03, 1.12894665e-01, 8.30734320e-03, 1.07816023e-01,\n",
       "        2.92310046e-01, 1.86207918e-01, 4.74355485e-01, 1.29710246e-01,\n",
       "        9.72355744e-03, 2.48538375e-01, 2.46271725e-02, 9.20717084e-02,\n",
       "        8.25003452e-02, 8.69394721e-02, 5.52100606e-01, 1.37672996e-01,\n",
       "        8.76076415e-02, 1.87013875e-01, 8.58112075e-02, 1.58318975e-01,\n",
       "        9.92662241e-02, 1.30777188e-01],\n",
       "       [5.34216181e-02, 1.11208914e-01, 3.78176650e-01, 4.64368615e-02,\n",
       "        4.09097737e-01, 2.39047148e-02, 4.46182597e-01, 2.64559831e-02,\n",
       "        1.97576473e-01, 3.15312228e-02, 6.08900241e-02, 3.97922964e-02,\n",
       "        5.42712675e-02, 9.21267740e-02, 5.69363970e-02, 2.96940637e-02,\n",
       "        4.40967314e-01, 1.72978927e-01, 2.62870355e-01, 6.52655444e-02,\n",
       "        4.79385359e-02, 2.49201655e-02, 4.41687576e-02, 3.63955859e-02,\n",
       "        2.82745640e-01, 1.50984678e-01, 8.87904628e-04, 3.40421171e-02,\n",
       "        4.69007960e-02, 3.13986890e-02],\n",
       "       [6.39869832e-03, 1.96931002e-01, 1.91541379e-01, 6.14372659e-02,\n",
       "        8.22128816e-02, 2.69910136e-01, 2.17608789e-01, 4.38458938e-01,\n",
       "        2.13890222e-01, 3.23154175e-01, 1.09723282e-01, 6.73447226e-03,\n",
       "        2.62891455e-02, 3.92356530e-01, 9.42811355e-03, 1.61848566e-02,\n",
       "        1.41175693e-01, 5.82422846e-02, 3.88522203e-01, 6.52739824e-02,\n",
       "        7.04503805e-02, 1.70323682e-01, 7.16865804e-02, 2.04945095e-02,\n",
       "        2.24409284e-01, 9.51472532e-02, 5.10139221e-03, 1.61865052e-02,\n",
       "        7.37023308e-02, 3.25362089e-02],\n",
       "       [5.57317060e-02, 2.03791328e-01, 1.80500719e-01, 5.47730651e-02,\n",
       "        1.95639611e-01, 1.65976295e-01, 2.89069201e-02, 7.29233782e-02,\n",
       "        1.97657042e-01, 4.46911615e-01, 3.88641966e-01, 1.25364098e-01,\n",
       "        1.30374236e-01, 5.32081432e-02, 5.18153086e-03, 1.38934520e-01,\n",
       "        2.88968110e-01, 7.65075599e-02, 3.21838071e-01, 8.77520750e-03,\n",
       "        7.08171642e-03, 2.77776778e-01, 1.11668497e-02, 6.14390574e-02,\n",
       "        2.36747413e-01, 2.18353617e-01, 4.02479588e-02, 5.42320595e-02,\n",
       "        8.78799202e-02, 1.13828923e-01],\n",
       "       [2.81595044e-03, 9.80624735e-02, 2.03505189e-01, 4.32293355e-02,\n",
       "        5.54860217e-02, 1.18686299e-01, 1.65381247e-01, 3.04327043e-01,\n",
       "        5.19134651e-01, 1.90391593e-01, 3.99160482e-01, 8.62549198e-02,\n",
       "        2.66787607e-02, 1.37633053e-01, 1.25150448e-02, 9.17801350e-02,\n",
       "        2.11591472e-01, 1.29979098e-01, 1.48821079e-01, 1.76584838e-02,\n",
       "        2.87515136e-02, 1.06296310e-01, 1.81628747e-02, 4.14409016e-02,\n",
       "        4.62629811e-03, 4.39764084e-01, 4.02090898e-02, 8.88359104e-03,\n",
       "        1.15826203e-01, 4.88361244e-02],\n",
       "       [2.00373090e-02, 2.81768301e-01, 3.56824757e-01, 4.22280839e-02,\n",
       "        2.28691517e-01, 2.42844726e-03, 2.96240733e-01, 1.83682988e-01,\n",
       "        1.30377391e-01, 6.17166542e-02, 6.37705716e-02, 6.74377834e-03,\n",
       "        5.05361120e-02, 2.98480214e-02, 2.90325562e-03, 1.20923425e-02,\n",
       "        1.69553683e-01, 9.01631698e-02, 1.69940039e-01, 4.61190338e-04,\n",
       "        3.37615029e-02, 5.89035285e-01, 1.06358143e-02, 1.08386763e-02,\n",
       "        3.49413548e-01, 2.17234465e-01, 1.46470571e-02, 3.48154361e-02,\n",
       "        4.62235540e-02, 4.29053989e-02],\n",
       "       [5.82930524e-02, 4.48052428e-01, 3.51050572e-01, 5.18630844e-03,\n",
       "        1.56710448e-01, 5.36017301e-01, 2.07422407e-02, 2.88943767e-01,\n",
       "        8.24861476e-03, 2.22206036e-01, 3.39406356e-01, 1.31112439e-01,\n",
       "        9.74236539e-02, 1.00273224e-01, 4.36317780e-03, 1.35033190e-01,\n",
       "        5.14653873e-02, 5.41811840e-02, 1.13272629e-01, 5.87944730e-02,\n",
       "        2.31537375e-02, 5.79495997e-02, 4.90119926e-02, 3.76606074e-02,\n",
       "        8.19555974e-02, 1.34830649e-01, 5.92439147e-03, 7.21766283e-03,\n",
       "        3.08418987e-02, 4.05627778e-02],\n",
       "       [5.81141783e-03, 5.78702610e-02, 1.14408823e-01, 5.45965652e-02,\n",
       "        3.84357801e-01, 8.20952569e-02, 3.56462647e-01, 2.88682587e-01,\n",
       "        8.91534087e-02, 4.52598074e-02, 3.67359023e-01, 4.02421989e-02,\n",
       "        4.75983401e-02, 5.31501266e-01, 1.29540184e-01, 3.44779028e-02,\n",
       "        1.05087763e-01, 5.50746609e-02, 6.82093561e-02, 4.45794456e-02,\n",
       "        8.50021905e-02, 3.07178664e-01, 8.87715675e-02, 5.12264942e-02,\n",
       "        9.66376546e-02, 1.50868648e-01, 2.51094223e-03, 3.46900546e-02,\n",
       "        1.41236283e-02, 7.83113037e-03],\n",
       "       [6.10826539e-02, 2.25126297e-01, 8.20915233e-02, 9.63617073e-02,\n",
       "        6.36972377e-02, 2.20472719e-01, 2.09788220e-01, 2.77701186e-01,\n",
       "        9.33246352e-03, 2.65349147e-01, 6.36962425e-02, 8.49980383e-02,\n",
       "        1.32449547e-04, 7.03790354e-02, 4.23876861e-02, 6.53785826e-02,\n",
       "        9.64188025e-02, 1.96235860e-01, 1.51219508e-01, 1.08874634e-01,\n",
       "        7.97173667e-02, 2.28594182e-02, 2.13517378e-02, 2.13548849e-02,\n",
       "        5.37194811e-01, 5.20929298e-01, 8.73670104e-03, 6.82363173e-02,\n",
       "        8.12599249e-02, 3.69817971e-02],\n",
       "       [2.84043150e-02, 3.75911974e-01, 5.76628733e-02, 2.25553418e-02,\n",
       "        5.92889625e-02, 7.49940657e-02, 8.87929417e-02, 2.08904852e-01,\n",
       "        4.07959524e-01, 4.18901477e-02, 2.35926561e-01, 1.34798582e-01,\n",
       "        4.01574403e-03, 2.15435595e-01, 7.76638840e-02, 1.08452006e-01,\n",
       "        2.44034564e-01, 1.49078385e-01, 4.08658085e-01, 2.24078509e-02,\n",
       "        1.97550196e-02, 4.16357051e-01, 7.72895053e-02, 1.53553615e-02,\n",
       "        2.11807587e-01, 4.06907108e-03, 3.90511944e-02, 5.99116881e-02,\n",
       "        6.73357823e-02, 5.81705380e-02],\n",
       "       [5.97092452e-02, 3.31745523e-01, 2.92238514e-01, 4.36199172e-02,\n",
       "        2.70071778e-01, 4.31288164e-01, 8.61379523e-02, 1.22858831e-01,\n",
       "        3.85333205e-01, 3.27820125e-01, 9.20392946e-02, 2.27102094e-02,\n",
       "        7.77467447e-03, 2.57740718e-01, 4.44729486e-02, 5.77178849e-02,\n",
       "        1.75725487e-01, 8.24823556e-02, 6.98186944e-02, 4.46084500e-02,\n",
       "        7.56550270e-02, 1.33776687e-01, 2.88811043e-02, 1.89984892e-02,\n",
       "        2.63831973e-01, 2.00866038e-01, 1.87486352e-02, 2.77752190e-02,\n",
       "        1.07307825e-02, 1.79406972e-02],\n",
       "       [8.94467869e-03, 3.68622440e-01, 3.78376704e-02, 2.79830401e-02,\n",
       "        5.46564935e-01, 1.29793460e-01, 2.31639316e-02, 2.06271533e-01,\n",
       "        1.58412433e-01, 2.76542536e-01, 2.56917543e-01, 1.35725848e-01,\n",
       "        4.55577871e-02, 1.68973780e-01, 8.12555086e-02, 1.16627282e-01,\n",
       "        4.08418180e-01, 1.94994942e-01, 6.79821285e-02, 9.86621646e-03,\n",
       "        3.18607816e-02, 2.65791230e-03, 1.32545383e-02, 2.67857384e-02,\n",
       "        1.40064035e-03, 1.66952008e-01, 4.03032865e-02, 6.85829554e-02,\n",
       "        1.37181492e-01, 4.29404060e-02],\n",
       "       [2.43380439e-03, 3.35274904e-01, 7.26566864e-02, 2.77609914e-02,\n",
       "        2.04513554e-01, 2.31878492e-01, 4.73926190e-01, 3.34359210e-01,\n",
       "        7.11751500e-02, 3.84224755e-01, 2.03998695e-01, 6.41890315e-02,\n",
       "        3.26857304e-02, 3.40266258e-01, 1.12394617e-02, 6.33495533e-02,\n",
       "        3.15951311e-01, 1.64456819e-02, 1.15743521e-01, 3.39970523e-02,\n",
       "        1.11048912e-02, 2.64895647e-02, 1.25327937e-02, 5.22529479e-03,\n",
       "        6.66082587e-02, 5.89165217e-02, 4.59383585e-02, 5.25356571e-02,\n",
       "        1.68204539e-02, 3.74412880e-02],\n",
       "       [1.22205798e-01, 2.64081040e-02, 2.84160690e-01, 8.23893543e-02,\n",
       "        9.58554137e-02, 2.60380020e-01, 1.23680442e-01, 2.06592155e-01,\n",
       "        2.10882695e-01, 3.26929103e-01, 2.69129934e-01, 3.47349990e-02,\n",
       "        2.75112435e-02, 2.61960773e-01, 8.09653944e-02, 4.19248334e-02,\n",
       "        2.10504080e-01, 1.49602773e-01, 3.53367705e-01, 8.47252630e-03,\n",
       "        3.29909442e-03, 2.13923395e-01, 2.91834247e-03, 4.54406343e-02,\n",
       "        2.53875932e-01, 3.70224813e-01, 1.48003314e-02, 7.38786701e-02,\n",
       "        6.40082968e-02, 9.17079963e-02],\n",
       "       [1.08182962e-01, 1.88670482e-01, 5.06834387e-01, 2.60216948e-02,\n",
       "        2.29337201e-01, 2.78889388e-01, 3.58458996e-01, 9.57049047e-02,\n",
       "        3.13338125e-01, 5.39731602e-02, 1.68940257e-01, 7.08363342e-02,\n",
       "        1.36975307e-02, 2.56891520e-01, 2.13720288e-02, 6.51426064e-02,\n",
       "        2.72456835e-01, 2.19824960e-02, 5.64536972e-02, 8.20108045e-03,\n",
       "        7.63562238e-03, 1.10792028e-01, 5.23683142e-02, 6.58470483e-02,\n",
       "        1.21743478e-01, 2.89030795e-01, 2.01710675e-02, 1.08113592e-01,\n",
       "        1.09569012e-01, 4.16907833e-02],\n",
       "       [4.77061785e-02, 4.76766632e-02, 3.38275973e-02, 5.15555777e-02,\n",
       "        1.36516492e-02, 2.82105116e-02, 1.85957282e-01, 3.59615096e-01,\n",
       "        2.68737827e-01, 1.66456512e-01, 3.27723022e-01, 2.57435772e-02,\n",
       "        4.13769362e-02, 1.40770784e-01, 4.99088964e-03, 7.25731891e-03,\n",
       "        2.96435279e-01, 6.51907931e-02, 4.77873528e-01, 1.05246880e-02,\n",
       "        3.00796432e-02, 3.05240837e-01, 1.12309705e-02, 2.03623615e-02,\n",
       "        4.04123237e-01, 9.53605533e-02, 3.28316984e-02, 2.84644053e-02,\n",
       "        5.74231738e-02, 6.59894348e-02],\n",
       "       [1.49537123e-01, 4.04971860e-02, 1.02639797e-01, 5.42264711e-03,\n",
       "        2.36162624e-01, 3.00413529e-01, 1.75531950e-01, 1.06347716e-01,\n",
       "        3.68274522e-02, 1.50255415e-01, 1.07280739e-01, 2.66924356e-01,\n",
       "        5.54916466e-02, 2.15248729e-01, 9.37088449e-02, 2.88754171e-01,\n",
       "        1.74873648e-02, 5.96001773e-01, 1.15678797e-01, 2.67101638e-02,\n",
       "        3.01652262e-02, 2.62337063e-01, 2.04570850e-02, 1.06484438e-02,\n",
       "        5.80102274e-02, 1.21415694e-01, 1.96177429e-02, 1.41090831e-01,\n",
       "        1.92261978e-01, 1.17409294e-01]])"
      ]
     },
     "execution_count": 135,
     "metadata": {},
     "output_type": "execute_result"
    }
   ],
   "source": [
    "pca_components "
   ]
  },
  {
   "cell_type": "code",
   "execution_count": 136,
   "id": "31ea4bd4",
   "metadata": {},
   "outputs": [
    {
     "name": "stdout",
     "output_type": "stream",
     "text": [
      "Top 4 components\n",
      "=================\n",
      "Component 0: ['Gender', 'MonthlyIncome', 'TrainingTimesLastYear', 'Department']\n",
      "Component 1: ['JobInvolvement', 'EducationField', 'MaritalStatus', 'PerformanceRating']\n",
      "Component 2: ['Age', 'HourlyRate', 'DistanceFromHome', 'EducationField']\n",
      "Component 3: ['JobRole', 'HourlyRate', 'Attrition', 'Gender']\n",
      "Component 4: ['Department', 'EnvironmentSatisfaction', 'HourlyRate', 'MonthlyIncome']\n",
      "Component 5: ['WorkLifeBalance', 'DistanceFromHome', 'PerformanceRating', 'EducationField']\n",
      "Component 6: ['WorkLifeBalance', 'Age', 'JobInvolvement', 'JobSatisfaction']\n",
      "Component 7: ['JobSatisfaction', 'PercentSalaryHike', 'OverTime', 'RelationshipSatisfaction']\n",
      "Component 8: ['Age', 'TotalWorkingYears', 'YearsAtCompany', 'JobSatisfaction']\n",
      "Component 9: ['OverTime', 'DistanceFromHome', 'JobSatisfaction', 'JobInvolvement']\n",
      "Component 10: ['JobSatisfaction', 'DailyRate', 'WorkLifeBalance', 'YearsAtCompany']\n",
      "Component 11: ['WorkLifeBalance', 'Age', 'YearsSinceLastPromotion', 'YearsInCurrentRole']\n",
      "Component 12: ['JobLevel', 'WorkLifeBalance', 'EnvironmentSatisfaction', 'RelationshipSatisfaction']\n",
      "Component 13: ['JobLevel', 'TrainingTimesLastYear', 'StockOptionLevel', 'PercentSalaryHike']\n",
      "Component 14: ['JobLevel', 'YearsInCurrentRole', 'YearsSinceLastPromotion', 'WorkLifeBalance']\n",
      "Component 15: ['TotalWorkingYears', 'PerformanceRating', 'Age', 'OverTime']\n",
      "Component 16: ['Age', 'StockOptionLevel', 'PercentSalaryHike', 'JobSatisfaction']\n",
      "Component 17: ['RelationshipSatisfaction', 'PercentSalaryHike', 'OverTime', 'WorkLifeBalance']\n",
      "Component 18: ['PercentSalaryHike', 'OverTime', 'JobLevel', 'WorkLifeBalance']\n",
      "Component 19: ['JobSatisfaction', 'MaritalStatus', 'OverTime', 'RelationshipSatisfaction']\n",
      "Component 20: ['DailyRate', 'StockOptionLevel', 'MonthlyIncome', 'WorkLifeBalance']\n"
     ]
    }
   ],
   "source": [
    "print(\"Top 4 components\")\n",
    "print(\"=================\")\n",
    "for i in range(pca_components.shape[0]):\n",
    "     # get the indices of the top 4 values in each row\n",
    "    temp = np.argpartition(pca_components[i],4)\n",
    "    indices = temp[np.argsort((pca_components)[i][temp])][:4]\n",
    "    print(f'Component {i}: {dataset.columns[indices].to_list()}')"
   ]
  },
  {
   "cell_type": "code",
   "execution_count": 137,
   "id": "fdebc037",
   "metadata": {},
   "outputs": [],
   "source": [
    "from sklearn.pipeline import Pipeline\n",
    "from sklearn.preprocessing import StandardScaler\n",
    "from sklearn.decomposition import PCA\n",
    "from sklearn.linear_model import LogisticRegression\n",
    "_sc = StandardScaler()\n",
    "_pca = PCA(n_components = None)\n",
    "_model = LogisticRegression()\n",
    "log_model = Pipeline ([('std_scaler', _sc),\n",
    "    ('pca', _pca),\n",
    "    ('regressor', _model)\n",
    "])"
   ]
  },
  {
   "cell_type": "code",
   "execution_count": 138,
   "id": "52dfa655",
   "metadata": {},
   "outputs": [
    {
     "data": {
      "text/html": [
       "<style>#sk-container-id-13 {color: black;background-color: white;}#sk-container-id-13 pre{padding: 0;}#sk-container-id-13 div.sk-toggleable {background-color: white;}#sk-container-id-13 label.sk-toggleable__label {cursor: pointer;display: block;width: 100%;margin-bottom: 0;padding: 0.3em;box-sizing: border-box;text-align: center;}#sk-container-id-13 label.sk-toggleable__label-arrow:before {content: \"▸\";float: left;margin-right: 0.25em;color: #696969;}#sk-container-id-13 label.sk-toggleable__label-arrow:hover:before {color: black;}#sk-container-id-13 div.sk-estimator:hover label.sk-toggleable__label-arrow:before {color: black;}#sk-container-id-13 div.sk-toggleable__content {max-height: 0;max-width: 0;overflow: hidden;text-align: left;background-color: #f0f8ff;}#sk-container-id-13 div.sk-toggleable__content pre {margin: 0.2em;color: black;border-radius: 0.25em;background-color: #f0f8ff;}#sk-container-id-13 input.sk-toggleable__control:checked~div.sk-toggleable__content {max-height: 200px;max-width: 100%;overflow: auto;}#sk-container-id-13 input.sk-toggleable__control:checked~label.sk-toggleable__label-arrow:before {content: \"▾\";}#sk-container-id-13 div.sk-estimator input.sk-toggleable__control:checked~label.sk-toggleable__label {background-color: #d4ebff;}#sk-container-id-13 div.sk-label input.sk-toggleable__control:checked~label.sk-toggleable__label {background-color: #d4ebff;}#sk-container-id-13 input.sk-hidden--visually {border: 0;clip: rect(1px 1px 1px 1px);clip: rect(1px, 1px, 1px, 1px);height: 1px;margin: -1px;overflow: hidden;padding: 0;position: absolute;width: 1px;}#sk-container-id-13 div.sk-estimator {font-family: monospace;background-color: #f0f8ff;border: 1px dotted black;border-radius: 0.25em;box-sizing: border-box;margin-bottom: 0.5em;}#sk-container-id-13 div.sk-estimator:hover {background-color: #d4ebff;}#sk-container-id-13 div.sk-parallel-item::after {content: \"\";width: 100%;border-bottom: 1px solid gray;flex-grow: 1;}#sk-container-id-13 div.sk-label:hover label.sk-toggleable__label {background-color: #d4ebff;}#sk-container-id-13 div.sk-serial::before {content: \"\";position: absolute;border-left: 1px solid gray;box-sizing: border-box;top: 0;bottom: 0;left: 50%;z-index: 0;}#sk-container-id-13 div.sk-serial {display: flex;flex-direction: column;align-items: center;background-color: white;padding-right: 0.2em;padding-left: 0.2em;position: relative;}#sk-container-id-13 div.sk-item {position: relative;z-index: 1;}#sk-container-id-13 div.sk-parallel {display: flex;align-items: stretch;justify-content: center;background-color: white;position: relative;}#sk-container-id-13 div.sk-item::before, #sk-container-id-13 div.sk-parallel-item::before {content: \"\";position: absolute;border-left: 1px solid gray;box-sizing: border-box;top: 0;bottom: 0;left: 50%;z-index: -1;}#sk-container-id-13 div.sk-parallel-item {display: flex;flex-direction: column;z-index: 1;position: relative;background-color: white;}#sk-container-id-13 div.sk-parallel-item:first-child::after {align-self: flex-end;width: 50%;}#sk-container-id-13 div.sk-parallel-item:last-child::after {align-self: flex-start;width: 50%;}#sk-container-id-13 div.sk-parallel-item:only-child::after {width: 0;}#sk-container-id-13 div.sk-dashed-wrapped {border: 1px dashed gray;margin: 0 0.4em 0.5em 0.4em;box-sizing: border-box;padding-bottom: 0.4em;background-color: white;}#sk-container-id-13 div.sk-label label {font-family: monospace;font-weight: bold;display: inline-block;line-height: 1.2em;}#sk-container-id-13 div.sk-label-container {text-align: center;}#sk-container-id-13 div.sk-container {/* jupyter's `normalize.less` sets `[hidden] { display: none; }` but bootstrap.min.css set `[hidden] { display: none !important; }` so we also need the `!important` here to be able to override the default hidden behavior on the sphinx rendered scikit-learn.org. See: https://github.com/scikit-learn/scikit-learn/issues/21755 */display: inline-block !important;position: relative;}#sk-container-id-13 div.sk-text-repr-fallback {display: none;}</style><div id=\"sk-container-id-13\" class=\"sk-top-container\"><div class=\"sk-text-repr-fallback\"><pre>Pipeline(steps=[(&#x27;std_scaler&#x27;, StandardScaler()), (&#x27;pca&#x27;, PCA()),\n",
       "                (&#x27;regressor&#x27;, LogisticRegression())])</pre><b>In a Jupyter environment, please rerun this cell to show the HTML representation or trust the notebook. <br />On GitHub, the HTML representation is unable to render, please try loading this page with nbviewer.org.</b></div><div class=\"sk-container\" hidden><div class=\"sk-item sk-dashed-wrapped\"><div class=\"sk-label-container\"><div class=\"sk-label sk-toggleable\"><input class=\"sk-toggleable__control sk-hidden--visually\" id=\"sk-estimator-id-15\" type=\"checkbox\" ><label for=\"sk-estimator-id-15\" class=\"sk-toggleable__label sk-toggleable__label-arrow\">Pipeline</label><div class=\"sk-toggleable__content\"><pre>Pipeline(steps=[(&#x27;std_scaler&#x27;, StandardScaler()), (&#x27;pca&#x27;, PCA()),\n",
       "                (&#x27;regressor&#x27;, LogisticRegression())])</pre></div></div></div><div class=\"sk-serial\"><div class=\"sk-item\"><div class=\"sk-estimator sk-toggleable\"><input class=\"sk-toggleable__control sk-hidden--visually\" id=\"sk-estimator-id-16\" type=\"checkbox\" ><label for=\"sk-estimator-id-16\" class=\"sk-toggleable__label sk-toggleable__label-arrow\">StandardScaler</label><div class=\"sk-toggleable__content\"><pre>StandardScaler()</pre></div></div></div><div class=\"sk-item\"><div class=\"sk-estimator sk-toggleable\"><input class=\"sk-toggleable__control sk-hidden--visually\" id=\"sk-estimator-id-17\" type=\"checkbox\" ><label for=\"sk-estimator-id-17\" class=\"sk-toggleable__label sk-toggleable__label-arrow\">PCA</label><div class=\"sk-toggleable__content\"><pre>PCA()</pre></div></div></div><div class=\"sk-item\"><div class=\"sk-estimator sk-toggleable\"><input class=\"sk-toggleable__control sk-hidden--visually\" id=\"sk-estimator-id-18\" type=\"checkbox\" ><label for=\"sk-estimator-id-18\" class=\"sk-toggleable__label sk-toggleable__label-arrow\">LogisticRegression</label><div class=\"sk-toggleable__content\"><pre>LogisticRegression()</pre></div></div></div></div></div></div></div>"
      ],
      "text/plain": [
       "Pipeline(steps=[('std_scaler', StandardScaler()), ('pca', PCA()),\n",
       "                ('regressor', LogisticRegression())])"
      ]
     },
     "execution_count": 138,
     "metadata": {},
     "output_type": "execute_result"
    }
   ],
   "source": [
    "log_model.fit(x1_train, y_train)"
   ]
  },
  {
   "cell_type": "code",
   "execution_count": 139,
   "id": "296cca9c",
   "metadata": {},
   "outputs": [
    {
     "data": {
      "text/plain": [
       "0.5135135135135135"
      ]
     },
     "execution_count": 139,
     "metadata": {},
     "output_type": "execute_result"
    }
   ],
   "source": [
    "log_model.score(x_test,y_test)"
   ]
  },
  {
   "cell_type": "code",
   "execution_count": 140,
   "id": "3368f5a4",
   "metadata": {},
   "outputs": [],
   "source": [
    "##############"
   ]
  },
  {
   "cell_type": "markdown",
   "id": "c29550af",
   "metadata": {},
   "source": [
    "# Stacking Classifier"
   ]
  },
  {
   "cell_type": "code",
   "execution_count": 143,
   "id": "bf58963e",
   "metadata": {},
   "outputs": [],
   "source": [
    "from sklearn import model_selection \n",
    "from sklearn.linear_model import LogisticRegression\n",
    "from sklearn.tree import DecisionTreeClassifier\n",
    "from sklearn.ensemble import RandomForestClassifier\n",
    "from sklearn.ensemble import AdaBoostClassifier\n",
    "from sklearn.neighbors import KNeighborsClassifier\n",
    "from sklearn.naive_bayes import GaussianNB\n",
    "from xgboost import XGBClassifier\n",
    "from mlxtend.classifier import StackingClassifier"
   ]
  },
  {
   "cell_type": "code",
   "execution_count": 145,
   "id": "5dc01f36",
   "metadata": {},
   "outputs": [],
   "source": [
    "mc = LogisticRegression()\n",
    "cl1 = DecisionTreeClassifier()\n",
    "cl2 = RandomForestClassifier()\n",
    "cl3 = KNeighborsClassifier()\n",
    "cl4 = GaussianNB()\n",
    "cl5 = XGBClassifier()\n",
    "scfr = StackingClassifier(classifiers = [cl1,cl2,cl3,cl4,cl5], meta_classifier = mc)\n"
   ]
  },
  {
   "cell_type": "code",
   "execution_count": 151,
   "id": "091b3cb7",
   "metadata": {},
   "outputs": [
    {
     "name": "stdout",
     "output_type": "stream",
     "text": [
      "Accuracy: 0.93 (+/- 0.02) [Decision Tree]\n",
      "Accuracy: 0.98 (+/- 0.01) [Random Forest]\n",
      "Accuracy: 0.78 (+/- 0.02) [KNeighbors]\n",
      "Accuracy: 0.67 (+/- 0.04) [NaiveBayes]\n",
      "Accuracy: 0.97 (+/- 0.01) [XGBoost]\n",
      "Accuracy: 0.98 (+/- 0.01) [Stacking]\n"
     ]
    }
   ],
   "source": [
    "for clf, label in zip([cl1,cl2,cl3,cl4,cl5,scfr],['Decision Tree','Random Forest','KNeighbors','NaiveBayes',\"XGBoost\",'Stacking' ]):\n",
    "    scores = model_selection.cross_val_score(clf,x,y,cv=10, scoring = \"accuracy\" )\n",
    "    print(\"Accuracy: %0.2f (+/- %0.2f) [%s]\" %(scores.mean(),scores.std(), label))"
   ]
  },
  {
   "cell_type": "code",
   "execution_count": 157,
   "id": "df0f49ab",
   "metadata": {},
   "outputs": [
    {
     "name": "stdout",
     "output_type": "stream",
     "text": [
      "Precision: 0.88 (+/- 0.03) [Decision Tree]\n",
      "Precision: 0.66 (+/- 0.03) [Random Forest]\n",
      "Precision: 0.71 (+/- 0.02) [KNeighbors]\n",
      "Precision: 0.64 (+/- 0.03) [NaiveBayes]\n",
      "Precision: 0.95 (+/- 0.02) [XGBoost]\n",
      "Precision: 0.91 (+/- 0.04) [Stacking]\n"
     ]
    }
   ],
   "source": [
    "for clf, label in zip([cl1,cl2,cl3,cl4,cl5,scfr],['Decision Tree','Random Forest','KNeighbors','NaiveBayes',\"XGBoost\",'Stacking' ]):\n",
    "    scores = model_selection.cross_val_score(clf,x,y,cv=10, scoring = \"precision\" )\n",
    "    print(\"Precision: %0.2f (+/- %0.2f) [%s]\" %(scores.mean(),scores.std(), label))"
   ]
  },
  {
   "cell_type": "code",
   "execution_count": 152,
   "id": "3da4a478",
   "metadata": {},
   "outputs": [],
   "source": [
    "# After Stacking the Score wentup in RF and XG by 2% but RF is 1% higher."
   ]
  },
  {
   "cell_type": "code",
   "execution_count": 153,
   "id": "326a6eb0",
   "metadata": {},
   "outputs": [],
   "source": [
    "mc = RandomForestClassifier()\n",
    "cl1 = DecisionTreeClassifier()\n",
    "cl2 = LogisticRegression()\n",
    "cl3 = KNeighborsClassifier()\n",
    "cl4 = GaussianNB()\n",
    "cl5 = XGBClassifier()\n",
    "scfr = StackingClassifier(classifiers = [cl1,cl2,cl3,cl4,cl5], meta_classifier = mc)"
   ]
  },
  {
   "cell_type": "code",
   "execution_count": 158,
   "id": "5db84740",
   "metadata": {},
   "outputs": [
    {
     "name": "stdout",
     "output_type": "stream",
     "text": [
      "Precision: 0.88 (+/- 0.03) [Decision Tree]\n",
      "Precision: 0.66 (+/- 0.03) [Logistic Regression]\n",
      "Precision: 0.71 (+/- 0.02) [KNeighbors]\n",
      "Precision: 0.64 (+/- 0.03) [NaiveBayes]\n",
      "Precision: 0.95 (+/- 0.02) [XGBoost]\n",
      "Precision: 0.93 (+/- 0.03) [Stacking]\n"
     ]
    }
   ],
   "source": [
    "for clf, label in zip([cl1,cl2,cl3,cl4,cl5,scfr],['Decision Tree','Logistic Regression','KNeighbors','NaiveBayes',\"XGBoost\",'Stacking' ]):\n",
    "    scores = model_selection.cross_val_score(clf,x,y,cv=10, scoring = \"precision\" )\n",
    "    print(\"Precision: %0.2f (+/- %0.2f) [%s]\" %(scores.mean(),scores.std(), label))"
   ]
  },
  {
   "cell_type": "code",
   "execution_count": null,
   "id": "f11f9825",
   "metadata": {},
   "outputs": [],
   "source": []
  }
 ],
 "metadata": {
  "kernelspec": {
   "display_name": "Python 3 (ipykernel)",
   "language": "python",
   "name": "python3"
  },
  "language_info": {
   "codemirror_mode": {
    "name": "ipython",
    "version": 3
   },
   "file_extension": ".py",
   "mimetype": "text/x-python",
   "name": "python",
   "nbconvert_exporter": "python",
   "pygments_lexer": "ipython3",
   "version": "3.9.7"
  }
 },
 "nbformat": 4,
 "nbformat_minor": 5
}
